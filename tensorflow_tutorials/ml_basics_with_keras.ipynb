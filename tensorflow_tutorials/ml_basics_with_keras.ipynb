{
 "cells": [
  {
   "cell_type": "code",
   "execution_count": 1,
   "metadata": {},
   "outputs": [],
   "source": [
    "import tensorflow as tf\n",
    "import numpy as np"
   ]
  },
  {
   "cell_type": "markdown",
   "metadata": {},
   "source": [
    "# Quickstart"
   ]
  },
  {
   "cell_type": "code",
   "execution_count": 16,
   "metadata": {},
   "outputs": [],
   "source": [
    "# https://www.tensorflow.org/tutorials/quickstart/beginner"
   ]
  },
  {
   "cell_type": "code",
   "execution_count": 4,
   "metadata": {},
   "outputs": [
    {
     "name": "stdout",
     "output_type": "stream",
     "text": [
      "Downloading data from https://storage.googleapis.com/tensorflow/tf-keras-datasets/mnist.npz\n",
      "11493376/11490434 [==============================] - 1s 0us/step\n"
     ]
    }
   ],
   "source": [
    "# load mnist dataset\n",
    "mnist = tf.keras.datasets.mnist\n",
    "(x_train, y_train), (x_test, y_test) = mnist.load_data()"
   ]
  },
  {
   "cell_type": "code",
   "execution_count": 5,
   "metadata": {},
   "outputs": [],
   "source": [
    "# convert from integer to floating point\n",
    "x_train, x_test = x_train / 255.0, x_test / 255.0"
   ]
  },
  {
   "cell_type": "code",
   "execution_count": 6,
   "metadata": {},
   "outputs": [],
   "source": [
    "# create a sequential model (MLP)\n",
    "# Sequential groups a linear stack of layers into a tf.keras.Model\n",
    "model = tf.keras.models.Sequential([\n",
    "    tf.keras.layers.Flatten(input_shape=(28,28)), # flatten the input into 1-D\n",
    "    tf.keras.layers.Dense(128, activation='relu'), # regular fully-connected layer\n",
    "    tf.keras.layers.Dropout(0.2), # dropout layer, setting input units to 0 with a frequency of rate\n",
    "    tf.keras.layers.Dense(10) # regular fully-connected layer. default activation is no activation\n",
    "])"
   ]
  },
  {
   "cell_type": "code",
   "execution_count": 7,
   "metadata": {},
   "outputs": [
    {
     "name": "stdout",
     "output_type": "stream",
     "text": [
      "WARNING:tensorflow:Layer flatten is casting an input tensor from dtype float64 to the layer's dtype of float32, which is new behavior in TensorFlow 2.  The layer has dtype float32 because it's dtype defaults to floatx.\n",
      "\n",
      "If you intended to run this layer in float32, you can safely ignore this warning. If in doubt, this warning is likely only an issue if you are porting a TensorFlow 1.X model to TensorFlow 2.\n",
      "\n",
      "To change all layers to have dtype float64 by default, call `tf.keras.backend.set_floatx('float64')`. To change just this layer, pass dtype='float64' to the layer constructor. If you are the author of this layer, you can disable autocasting by passing autocast=False to the base Layer constructor.\n",
      "\n"
     ]
    },
    {
     "data": {
      "text/plain": [
       "array([[ 0.39766353, -0.08835667,  1.1138604 , -0.20140848,  0.43693435,\n",
       "         0.9213433 ,  0.2317308 , -0.1305928 , -0.23675317, -0.10951892]],\n",
       "      dtype=float32)"
      ]
     },
     "execution_count": 7,
     "metadata": {},
     "output_type": "execute_result"
    }
   ],
   "source": [
    "# predictions with randomly initialized weights\n",
    "predictions = model(x_train[:1]).numpy()\n",
    "predictions"
   ]
  },
  {
   "cell_type": "code",
   "execution_count": 8,
   "metadata": {},
   "outputs": [
    {
     "data": {
      "text/plain": [
       "array([[0.10516933, 0.06468643, 0.2152432 , 0.05777174, 0.10938159,\n",
       "        0.17754987, 0.08908928, 0.06201122, 0.05576548, 0.06333191]],\n",
       "      dtype=float32)"
      ]
     },
     "execution_count": 8,
     "metadata": {},
     "output_type": "execute_result"
    }
   ],
   "source": [
    "# softmax converts these logits to \"probabilities\" for each class\n",
    "tf.nn.softmax(predictions).numpy()"
   ]
  },
  {
   "cell_type": "code",
   "execution_count": 9,
   "metadata": {},
   "outputs": [
    {
     "data": {
      "text/plain": [
       "1.7285037"
      ]
     },
     "execution_count": 9,
     "metadata": {},
     "output_type": "execute_result"
    }
   ],
   "source": [
    "# this loss is equal to the negative log probability of the true class.\n",
    "loss_fn = tf.keras.losses.SparseCategoricalCrossentropy(from_logits=True)\n",
    "# as the weights are randomly initialized, the initial loss should be close to -tf.log(1/10)=2.3\n",
    "loss_fn(y_train[:1], predictions).numpy()"
   ]
  },
  {
   "cell_type": "code",
   "execution_count": 10,
   "metadata": {},
   "outputs": [],
   "source": [
    "model.compile(optimizer='adam', # adam method as iterative update. CMU 11-785, L7\n",
    "              loss=loss_fn, \n",
    "              metrics=['accuracy'])"
   ]
  },
  {
   "cell_type": "code",
   "execution_count": 11,
   "metadata": {},
   "outputs": [
    {
     "name": "stdout",
     "output_type": "stream",
     "text": [
      "Train on 60000 samples\n",
      "Epoch 1/5\n",
      "60000/60000 [==============================] - 2s 35us/sample - loss: 0.3013 - accuracy: 0.9128\n",
      "Epoch 2/5\n",
      "60000/60000 [==============================] - 2s 30us/sample - loss: 0.1437 - accuracy: 0.9569\n",
      "Epoch 3/5\n",
      "60000/60000 [==============================] - 2s 30us/sample - loss: 0.1106 - accuracy: 0.9668\n",
      "Epoch 4/5\n",
      "60000/60000 [==============================] - 2s 30us/sample - loss: 0.0907 - accuracy: 0.9715\n",
      "Epoch 5/5\n",
      "60000/60000 [==============================] - 2s 30us/sample - loss: 0.0779 - accuracy: 0.9751\n"
     ]
    },
    {
     "data": {
      "text/plain": [
       "<tensorflow.python.keras.callbacks.History at 0x1090e2650>"
      ]
     },
     "execution_count": 11,
     "metadata": {},
     "output_type": "execute_result"
    }
   ],
   "source": [
    "model.fit(x_train, y_train, epochs=5) # training with 5 epochs"
   ]
  },
  {
   "cell_type": "code",
   "execution_count": 12,
   "metadata": {},
   "outputs": [
    {
     "name": "stdout",
     "output_type": "stream",
     "text": [
      "10000/10000 - 0s - loss: 0.0782 - accuracy: 0.9760\n"
     ]
    },
    {
     "data": {
      "text/plain": [
       "[0.07824939721073024, 0.976]"
      ]
     },
     "execution_count": 12,
     "metadata": {},
     "output_type": "execute_result"
    }
   ],
   "source": [
    "model.evaluate(x_test, y_test, verbose=2)"
   ]
  },
  {
   "cell_type": "code",
   "execution_count": 14,
   "metadata": {},
   "outputs": [],
   "source": [
    "# add a softmax layer\n",
    "probability_model = tf.keras.Sequential([\n",
    "    model,\n",
    "    tf.keras.layers.Softmax()\n",
    "])"
   ]
  },
  {
   "cell_type": "code",
   "execution_count": 15,
   "metadata": {},
   "outputs": [
    {
     "data": {
      "text/plain": [
       "<tf.Tensor: shape=(5, 10), dtype=float32, numpy=\n",
       "array([[4.0722631e-07, 8.0131155e-09, 2.6225230e-06, 3.0007391e-04,\n",
       "        3.0527074e-11, 1.7148874e-06, 1.4954973e-12, 9.9959856e-01,\n",
       "        1.3707400e-07, 9.6658849e-05],\n",
       "       [5.4369912e-07, 1.0880732e-04, 9.9988914e-01, 5.5839445e-07,\n",
       "        2.7062792e-15, 8.5470975e-07, 7.3613610e-10, 3.6062590e-11,\n",
       "        3.5749188e-08, 2.6668329e-12],\n",
       "       [6.3636492e-08, 9.9975306e-01, 3.5143526e-05, 5.2558144e-06,\n",
       "        1.5342093e-05, 2.5490001e-06, 1.8049634e-05, 9.9342127e-05,\n",
       "        6.9875387e-05, 1.2584385e-06],\n",
       "       [9.9964833e-01, 5.4916587e-09, 2.6757485e-04, 5.3140175e-06,\n",
       "        9.7841155e-07, 7.9166475e-06, 4.2170992e-05, 6.8572813e-06,\n",
       "        1.5888881e-08, 2.0828269e-05],\n",
       "       [1.0952320e-05, 1.6109102e-08, 1.0160403e-05, 1.4162734e-07,\n",
       "        9.9733573e-01, 1.4145382e-06, 8.4824831e-05, 5.1777173e-05,\n",
       "        7.9710333e-07, 2.5040742e-03]], dtype=float32)>"
      ]
     },
     "execution_count": 15,
     "metadata": {},
     "output_type": "execute_result"
    }
   ],
   "source": [
    "probability_model(x_test[:5])"
   ]
  },
  {
   "cell_type": "markdown",
   "metadata": {},
   "source": [
    "# ML Basics with Keras"
   ]
  },
  {
   "cell_type": "markdown",
   "metadata": {},
   "source": [
    "## Basic Image classification"
   ]
  },
  {
   "cell_type": "code",
   "execution_count": 17,
   "metadata": {},
   "outputs": [],
   "source": [
    "import tensorflow as tf\n",
    "from tensorflow import keras\n",
    "\n",
    "import numpy as np\n",
    "import matplotlib.pyplot as plt"
   ]
  },
  {
   "cell_type": "code",
   "execution_count": 18,
   "metadata": {},
   "outputs": [
    {
     "name": "stdout",
     "output_type": "stream",
     "text": [
      "Downloading data from https://storage.googleapis.com/tensorflow/tf-keras-datasets/train-labels-idx1-ubyte.gz\n",
      "32768/29515 [=================================] - 0s 0us/step\n",
      "Downloading data from https://storage.googleapis.com/tensorflow/tf-keras-datasets/train-images-idx3-ubyte.gz\n",
      "26427392/26421880 [==============================] - 1s 0us/step\n",
      "Downloading data from https://storage.googleapis.com/tensorflow/tf-keras-datasets/t10k-labels-idx1-ubyte.gz\n",
      "8192/5148 [===============================================] - 0s 1us/step\n",
      "Downloading data from https://storage.googleapis.com/tensorflow/tf-keras-datasets/t10k-images-idx3-ubyte.gz\n",
      "4423680/4422102 [==============================] - 0s 0us/step\n"
     ]
    }
   ],
   "source": [
    "# load data\n",
    "fashion_mnist = keras.datasets.fashion_mnist\n",
    "(train_images, train_labels), (test_images, test_labels) = fashion_mnist.load_data()"
   ]
  },
  {
   "cell_type": "code",
   "execution_count": 19,
   "metadata": {},
   "outputs": [],
   "source": [
    "class_names = ['T-shirt/top', 'Trouser', 'Pullover', 'Dress', 'Coat',\n",
    "               'Sandal', 'Shirt', 'Sneaker', 'Bag', 'Ankle boot']"
   ]
  },
  {
   "cell_type": "code",
   "execution_count": 20,
   "metadata": {},
   "outputs": [
    {
     "data": {
      "text/plain": [
       "(60000, 28, 28)"
      ]
     },
     "execution_count": 20,
     "metadata": {},
     "output_type": "execute_result"
    }
   ],
   "source": [
    "train_images.shape"
   ]
  },
  {
   "cell_type": "code",
   "execution_count": 21,
   "metadata": {},
   "outputs": [
    {
     "data": {
      "text/plain": [
       "60000"
      ]
     },
     "execution_count": 21,
     "metadata": {},
     "output_type": "execute_result"
    }
   ],
   "source": [
    "len(train_labels)"
   ]
  },
  {
   "cell_type": "code",
   "execution_count": 22,
   "metadata": {},
   "outputs": [
    {
     "data": {
      "text/plain": [
       "array([9, 0, 0, ..., 3, 0, 5], dtype=uint8)"
      ]
     },
     "execution_count": 22,
     "metadata": {},
     "output_type": "execute_result"
    }
   ],
   "source": [
    "train_labels"
   ]
  },
  {
   "cell_type": "code",
   "execution_count": 23,
   "metadata": {},
   "outputs": [
    {
     "data": {
      "text/plain": [
       "((10000, 28, 28), 10000)"
      ]
     },
     "execution_count": 23,
     "metadata": {},
     "output_type": "execute_result"
    }
   ],
   "source": [
    "test_images.shape, len(test_labels)"
   ]
  },
  {
   "cell_type": "code",
   "execution_count": 24,
   "metadata": {},
   "outputs": [
    {
     "data": {
      "image/png": "[encoded data removed]",
      "text/plain": [
       "<Figure size 432x288 with 2 Axes>"
      ]
     },
     "metadata": {
      "needs_background": "light"
     },
     "output_type": "display_data"
    }
   ],
   "source": [
    "plt.figure()\n",
    "plt.imshow(train_images[0])\n",
    "plt.colorbar()\n",
    "plt.grid(False)\n",
    "plt.show()"
   ]
  },
  {
   "cell_type": "code",
   "execution_count": 25,
   "metadata": {},
   "outputs": [],
   "source": [
    "train_images, test_images = train_images / 255.0, test_images / 255.0"
   ]
  },
  {
   "cell_type": "code",
   "execution_count": 26,
   "metadata": {},
   "outputs": [
    {
     "data": {
      "image/png": "[encoded data removed]",
      "text/plain": [
       "<Figure size 720x720 with 25 Axes>"
      ]
     },
     "metadata": {},
     "output_type": "display_data"
    }
   ],
   "source": [
    "plt.figure(figsize=(10,10))\n",
    "for i in range(25):\n",
    "    plt.subplot(5,5,i+1)\n",
    "    plt.xticks([])\n",
    "    plt.yticks([])\n",
    "    plt.grid(False)\n",
    "    plt.imshow(train_images[i], cmap=plt.cm.binary)\n",
    "    plt.xlabel(class_names[train_labels[i]])\n",
    "plt.show()"
   ]
  },
  {
   "cell_type": "code",
   "execution_count": 27,
   "metadata": {},
   "outputs": [],
   "source": [
    "model = keras.Sequential([\n",
    "    keras.layers.Flatten(input_shape=(28,28)),\n",
    "    keras.layers.Dense(28, activation='relu'),\n",
    "    keras.layers.Dense(10)\n",
    "])"
   ]
  },
  {
   "cell_type": "code",
   "execution_count": 28,
   "metadata": {},
   "outputs": [],
   "source": [
    "model.compile(optimizer='adam',\n",
    "              loss=tf.keras.losses.SparseCategoricalCrossentropy(from_logits=True),\n",
    "              metrics=['accuracy'])"
   ]
  },
  {
   "cell_type": "code",
   "execution_count": 29,
   "metadata": {},
   "outputs": [
    {
     "name": "stdout",
     "output_type": "stream",
     "text": [
      "Train on 60000 samples\n",
      "Epoch 1/10\n",
      "60000/60000 [==============================] - 2s 29us/sample - loss: 0.5732 - accuracy: 0.8042\n",
      "Epoch 2/10\n",
      "60000/60000 [==============================] - 1s 25us/sample - loss: 0.4209 - accuracy: 0.8517\n",
      "Epoch 3/10\n",
      "60000/60000 [==============================] - 1s 25us/sample - loss: 0.3903 - accuracy: 0.8634\n",
      "Epoch 4/10\n",
      "60000/60000 [==============================] - 1s 24us/sample - loss: 0.3707 - accuracy: 0.8686\n",
      "Epoch 5/10\n",
      "60000/60000 [==============================] - 1s 25us/sample - loss: 0.3560 - accuracy: 0.8733\n",
      "Epoch 6/10\n",
      "60000/60000 [==============================] - 2s 25us/sample - loss: 0.3445 - accuracy: 0.8759\n",
      "Epoch 7/10\n",
      "60000/60000 [==============================] - 2s 26us/sample - loss: 0.3355 - accuracy: 0.8801\n",
      "Epoch 8/10\n",
      "60000/60000 [==============================] - 2s 26us/sample - loss: 0.3296 - accuracy: 0.8805\n",
      "Epoch 9/10\n",
      "60000/60000 [==============================] - 2s 26us/sample - loss: 0.3227 - accuracy: 0.8834\n",
      "Epoch 10/10\n",
      "60000/60000 [==============================] - 2s 26us/sample - loss: 0.3191 - accuracy: 0.8843\n"
     ]
    },
    {
     "data": {
      "text/plain": [
       "<tensorflow.python.keras.callbacks.History at 0x148adf550>"
      ]
     },
     "execution_count": 29,
     "metadata": {},
     "output_type": "execute_result"
    }
   ],
   "source": [
    "model.fit(train_images, train_labels, epochs=10)"
   ]
  },
  {
   "cell_type": "code",
   "execution_count": 30,
   "metadata": {},
   "outputs": [
    {
     "name": "stdout",
     "output_type": "stream",
     "text": [
      "10000/10000 - 0s - loss: 0.3873 - accuracy: 0.8617\n",
      "\n",
      "Test accuracy: 0.8617\n"
     ]
    }
   ],
   "source": [
    "test_loss, test_acc = model.evaluate(test_images, test_labels, verbose=2)\n",
    "print(\"\\nTest accuracy:\", test_acc)"
   ]
  },
  {
   "cell_type": "code",
   "execution_count": 31,
   "metadata": {},
   "outputs": [],
   "source": [
    "probability_model = tf.keras.Sequential([model, tf.keras.layers.Softmax()])"
   ]
  },
  {
   "cell_type": "code",
   "execution_count": 32,
   "metadata": {},
   "outputs": [],
   "source": [
    "predictions = probability_model.predict(test_images)"
   ]
  },
  {
   "cell_type": "code",
   "execution_count": 33,
   "metadata": {},
   "outputs": [
    {
     "data": {
      "text/plain": [
       "array([2.1592050e-06, 6.6456329e-10, 9.6305585e-06, 6.0217722e-06,\n",
       "       3.3860647e-06, 5.5157193e-03, 6.3221385e-05, 6.9396593e-02,\n",
       "       1.2508462e-03, 9.2375243e-01], dtype=float32)"
      ]
     },
     "execution_count": 33,
     "metadata": {},
     "output_type": "execute_result"
    }
   ],
   "source": [
    "predictions[0]"
   ]
  },
  {
   "cell_type": "code",
   "execution_count": 34,
   "metadata": {},
   "outputs": [
    {
     "data": {
      "text/plain": [
       "True"
      ]
     },
     "execution_count": 34,
     "metadata": {},
     "output_type": "execute_result"
    }
   ],
   "source": [
    "np.argmax(predictions[0]) == test_labels[0]"
   ]
  },
  {
   "cell_type": "code",
   "execution_count": 37,
   "metadata": {},
   "outputs": [],
   "source": [
    "def plot_image(i, predictions_array, true_label, img):\n",
    "    true_label, img = true_label[i], img[i]\n",
    "    plt.grid(False)\n",
    "    plt.xticks([])\n",
    "    plt.yticks([])\n",
    "    \n",
    "    plt.imshow(img, cmap=plt.cm.binary)\n",
    "    \n",
    "    predicted_label = np.argmax(predictions_array)\n",
    "    if predicted_label == true_label:\n",
    "        color = 'blue'\n",
    "    else:\n",
    "        color = 'red'\n",
    "        \n",
    "    plt.xlabel(\"{} : {:2.0f}% ({})\".format(class_names[predicted_label],\n",
    "                                          100*np.max(predictions_array),\n",
    "                                          class_names[true_label]),\n",
    "              color=color)\n",
    "\n",
    "def plot_value_array(i, predictions_array, true_label):\n",
    "  predictions_array, true_label = predictions_array, true_label[i]\n",
    "  plt.grid(False)\n",
    "  plt.xticks(range(10))\n",
    "  plt.yticks([])\n",
    "  thisplot = plt.bar(range(10), predictions_array, color=\"#777777\")\n",
    "  plt.ylim([0, 1])\n",
    "  predicted_label = np.argmax(predictions_array)\n",
    "\n",
    "  thisplot[predicted_label].set_color('red')\n",
    "  thisplot[true_label].set_color('blue')"
   ]
  },
  {
   "cell_type": "code",
   "execution_count": 38,
   "metadata": {},
   "outputs": [
    {
     "data": {
      "image/png": "[encoded data removed]",
      "text/plain": [
       "<Figure size 432x216 with 2 Axes>"
      ]
     },
     "metadata": {
      "needs_background": "light"
     },
     "output_type": "display_data"
    }
   ],
   "source": [
    "i = 0\n",
    "plt.figure(figsize=(6,3))\n",
    "plt.subplot(1,2,1)\n",
    "plot_image(i, predictions[i], test_labels, test_images)\n",
    "plt.subplot(1,2,2)\n",
    "plot_value_array(i, predictions[i],  test_labels)\n",
    "plt.show()"
   ]
  },
  {
   "cell_type": "code",
   "execution_count": 39,
   "metadata": {},
   "outputs": [
    {
     "data": {
      "image/png": "[encoded data removed]",
      "text/plain": [
       "<Figure size 864x720 with 30 Axes>"
      ]
     },
     "metadata": {
      "needs_background": "light"
     },
     "output_type": "display_data"
    }
   ],
   "source": [
    "num_rows = 5\n",
    "num_cols = 3\n",
    "num_images = num_rows*num_cols\n",
    "plt.figure(figsize=(2*2*num_cols, 2*num_rows))\n",
    "for i in range(num_images):\n",
    "  plt.subplot(num_rows, 2*num_cols, 2*i+1)\n",
    "  plot_image(i, predictions[i], test_labels, test_images)\n",
    "  plt.subplot(num_rows, 2*num_cols, 2*i+2)\n",
    "  plot_value_array(i, predictions[i], test_labels)\n",
    "plt.tight_layout()\n",
    "plt.show()"
   ]
  },
  {
   "cell_type": "code",
   "execution_count": 43,
   "metadata": {},
   "outputs": [
    {
     "name": "stdout",
     "output_type": "stream",
     "text": [
      "(28, 28)\n"
     ]
    }
   ],
   "source": [
    "img = test_images[1]\n",
    "print(img.shape)"
   ]
  },
  {
   "cell_type": "code",
   "execution_count": 44,
   "metadata": {},
   "outputs": [
    {
     "name": "stdout",
     "output_type": "stream",
     "text": [
      "(1, 28, 28)\n"
     ]
    }
   ],
   "source": [
    "# tf.keras models are optimized to make predictions on a batch or collection\n",
    "img = (np.expand_dims(img, 0))\n",
    "print(img.shape)"
   ]
  },
  {
   "cell_type": "code",
   "execution_count": 45,
   "metadata": {},
   "outputs": [],
   "source": [
    "predictions_single = probability_model.predict(img)"
   ]
  },
  {
   "cell_type": "code",
   "execution_count": 47,
   "metadata": {},
   "outputs": [
    {
     "name": "stdout",
     "output_type": "stream",
     "text": [
      "[[5.2000996e-05 6.0440564e-10 9.1239887e-01 1.3006988e-06 2.5150191e-02\n",
      "  1.2205115e-13 6.2387813e-02 7.8326839e-21 9.9017607e-06 1.0127874e-17]]\n"
     ]
    }
   ],
   "source": [
    "print(predictions_single)"
   ]
  },
  {
   "cell_type": "code",
   "execution_count": 48,
   "metadata": {},
   "outputs": [
    {
     "data": {
      "image/png": "[encoded data removed]",
      "text/plain": [
       "<Figure size 432x288 with 1 Axes>"
      ]
     },
     "metadata": {
      "needs_background": "light"
     },
     "output_type": "display_data"
    }
   ],
   "source": [
    "plot_value_array(1, predictions_single[0], test_labels)\n",
    "_ = plt.xticks(range(10), class_names, rotation=45)"
   ]
  },
  {
   "cell_type": "code",
   "execution_count": 49,
   "metadata": {},
   "outputs": [
    {
     "data": {
      "text/plain": [
       "2"
      ]
     },
     "execution_count": 49,
     "metadata": {},
     "output_type": "execute_result"
    }
   ],
   "source": [
    "np.argmax(predictions_single[0])"
   ]
  },
  {
   "cell_type": "markdown",
   "metadata": {},
   "source": [
    "## Test classification with TF Hub"
   ]
  },
  {
   "cell_type": "code",
   "execution_count": 50,
   "metadata": {},
   "outputs": [],
   "source": [
    "import numpy as np\n",
    "import tensorflow as tf\n",
    "\n",
    "!pip install -q tensorflow-hub\n",
    "!pip install -q tfds-nightly\n",
    "import tensorflow_hub as hub\n",
    "import tensorflow_datasets as tfds"
   ]
  },
  {
   "cell_type": "code",
   "execution_count": 51,
   "metadata": {},
   "outputs": [
    {
     "name": "stdout",
     "output_type": "stream",
     "text": [
      "TF version:  2.1.0\n",
      "Eager mode:  True\n",
      "Hub version:  0.8.0\n",
      "GPU is  NOT AVAILABLE\n"
     ]
    }
   ],
   "source": [
    "print(\"TF version: \", tf.__version__)\n",
    "print(\"Eager mode: \", tf.executing_eagerly())\n",
    "print(\"Hub version: \", hub.__version__)\n",
    "print(\"GPU is \", \"available\" if tf.config.experimental.list_physical_devices(\"GPU\") else \"NOT AVAILABLE\")"
   ]
  },
  {
   "cell_type": "code",
   "execution_count": 52,
   "metadata": {},
   "outputs": [
    {
     "name": "stdout",
     "output_type": "stream",
     "text": [
      "\u001b[1mDownloading and preparing dataset imdb_reviews/plain_text/1.0.0 (download: 80.23 MiB, generated: Unknown size, total: 80.23 MiB) to /Users/levendlee/tensorflow_datasets/imdb_reviews/plain_text/1.0.0...\u001b[0m\n"
     ]
    },
    {
     "data": {
      "application/vnd.jupyter.widget-view+json": {
       "model_id": "90da33bd364b4a878bc9703dfc917ec5",
       "version_major": 2,
       "version_minor": 0
      },
      "text/plain": [
       "HBox(children=(IntProgress(value=1, bar_style='info', description='Dl Completed...', max=1, style=ProgressStyl…"
      ]
     },
     "metadata": {},
     "output_type": "display_data"
    },
    {
     "data": {
      "application/vnd.jupyter.widget-view+json": {
       "model_id": "fe907112ecf54061b85321aa0ab876e4",
       "version_major": 2,
       "version_minor": 0
      },
      "text/plain": [
       "HBox(children=(IntProgress(value=1, bar_style='info', description='Dl Size...', max=1, style=ProgressStyle(des…"
      ]
     },
     "metadata": {},
     "output_type": "display_data"
    },
    {
     "name": "stdout",
     "output_type": "stream",
     "text": [
      "\n",
      "\n",
      "\n",
      "\n"
     ]
    },
    {
     "data": {
      "application/vnd.jupyter.widget-view+json": {
       "model_id": "",
       "version_major": 2,
       "version_minor": 0
      },
      "text/plain": [
       "HBox(children=(IntProgress(value=1, bar_style='info', max=1), HTML(value='')))"
      ]
     },
     "metadata": {},
     "output_type": "display_data"
    },
    {
     "name": "stdout",
     "output_type": "stream",
     "text": [
      "\r",
      "Shuffling and writing examples to /Users/levendlee/tensorflow_datasets/imdb_reviews/plain_text/1.0.0.incomplete2HO6B1/imdb_reviews-train.tfrecord\n"
     ]
    },
    {
     "data": {
      "application/vnd.jupyter.widget-view+json": {
       "model_id": "0ff0f5fcb7924829bc4669cdac9fc68b",
       "version_major": 2,
       "version_minor": 0
      },
      "text/plain": [
       "HBox(children=(IntProgress(value=0, max=25000), HTML(value='')))"
      ]
     },
     "metadata": {},
     "output_type": "display_data"
    },
    {
     "name": "stdout",
     "output_type": "stream",
     "text": [
      "\r"
     ]
    },
    {
     "data": {
      "application/vnd.jupyter.widget-view+json": {
       "model_id": "",
       "version_major": 2,
       "version_minor": 0
      },
      "text/plain": [
       "HBox(children=(IntProgress(value=1, bar_style='info', max=1), HTML(value='')))"
      ]
     },
     "metadata": {},
     "output_type": "display_data"
    },
    {
     "name": "stdout",
     "output_type": "stream",
     "text": [
      "\r",
      "Shuffling and writing examples to /Users/levendlee/tensorflow_datasets/imdb_reviews/plain_text/1.0.0.incomplete2HO6B1/imdb_reviews-test.tfrecord\n"
     ]
    },
    {
     "data": {
      "application/vnd.jupyter.widget-view+json": {
       "model_id": "a3811b5c23da4ea685a8c0c15b9120ea",
       "version_major": 2,
       "version_minor": 0
      },
      "text/plain": [
       "HBox(children=(IntProgress(value=0, max=25000), HTML(value='')))"
      ]
     },
     "metadata": {},
     "output_type": "display_data"
    },
    {
     "name": "stdout",
     "output_type": "stream",
     "text": [
      "\r"
     ]
    },
    {
     "data": {
      "application/vnd.jupyter.widget-view+json": {
       "model_id": "",
       "version_major": 2,
       "version_minor": 0
      },
      "text/plain": [
       "HBox(children=(IntProgress(value=1, bar_style='info', max=1), HTML(value='')))"
      ]
     },
     "metadata": {},
     "output_type": "display_data"
    },
    {
     "name": "stdout",
     "output_type": "stream",
     "text": [
      "\r",
      "Shuffling and writing examples to /Users/levendlee/tensorflow_datasets/imdb_reviews/plain_text/1.0.0.incomplete2HO6B1/imdb_reviews-unsupervised.tfrecord\n"
     ]
    },
    {
     "data": {
      "application/vnd.jupyter.widget-view+json": {
       "model_id": "3f1831794ef644c693020a598211576d",
       "version_major": 2,
       "version_minor": 0
      },
      "text/plain": [
       "HBox(children=(IntProgress(value=0, max=50000), HTML(value='')))"
      ]
     },
     "metadata": {},
     "output_type": "display_data"
    },
    {
     "name": "stdout",
     "output_type": "stream",
     "text": [
      "\u001b[1mDataset imdb_reviews downloaded and prepared to /Users/levendlee/tensorflow_datasets/imdb_reviews/plain_text/1.0.0. Subsequent calls will reuse this data.\u001b[0m\n",
      "\r"
     ]
    }
   ],
   "source": [
    "train_data, validation_data, test_data = tfds.load(\n",
    "    name=\"imdb_reviews\",\n",
    "    split=(\"train[:60%]\", \"train[60%:]\", \"test\"),\n",
    "    as_supervised=True)"
   ]
  },
  {
   "cell_type": "code",
   "execution_count": 53,
   "metadata": {},
   "outputs": [
    {
     "data": {
      "text/plain": [
       "<tf.Tensor: shape=(10,), dtype=string, numpy=\n",
       "array([b\"This was an absolutely terrible movie. Don't be lured in by Christopher Walken or Michael Ironside. Both are great actors, but this must simply be their worst role in history. Even their great acting could not redeem this movie's ridiculous storyline. This movie is an early nineties US propaganda piece. The most pathetic scenes were those when the Columbian rebels were making their cases for revolutions. Maria Conchita Alonso appeared phony, and her pseudo-love affair with Walken was nothing but a pathetic emotional plug in a movie that was devoid of any real meaning. I am disappointed that there are movies like this, ruining actor's like Christopher Walken's good name. I could barely sit through it.\",\n",
       "       b'I have been known to fall asleep during films, but this is usually due to a combination of things including, really tired, being warm and comfortable on the sette and having just eaten a lot. However on this occasion I fell asleep because the film was rubbish. The plot development was constant. Constantly slow and boring. Things seemed to happen, but with no explanation of what was causing them or why. I admit, I may have missed part of the film, but i watched the majority of it and everything just seemed to happen of its own accord without any real concern for anything else. I cant recommend this film at all.',\n",
       "       b'Mann photographs the Alberta Rocky Mountains in a superb fashion, and Jimmy Stewart and Walter Brennan give enjoyable performances as they always seem to do. <br /><br />But come on Hollywood - a Mountie telling the people of Dawson City, Yukon to elect themselves a marshal (yes a marshal!) and to enforce the law themselves, then gunfighters battling it out on the streets for control of the town? <br /><br />Nothing even remotely resembling that happened on the Canadian side of the border during the Klondike gold rush. Mr. Mann and company appear to have mistaken Dawson City for Deadwood, the Canadian North for the American Wild West.<br /><br />Canadian viewers be prepared for a Reefer Madness type of enjoyable howl with this ludicrous plot, or, to shake your head in disgust.',\n",
       "       b'This is the kind of film for a snowy Sunday afternoon when the rest of the world can go ahead with its own business as you descend into a big arm-chair and mellow for a couple of hours. Wonderful performances from Cher and Nicolas Cage (as always) gently row the plot along. There are no rapids to cross, no dangerous waters, just a warm and witty paddle through New York life at its best. A family film in every sense and one that deserves the praise it received.',\n",
       "       b'As others have mentioned, all the women that go nude in this film are mostly absolutely gorgeous. The plot very ably shows the hypocrisy of the female libido. When men are around they want to be pursued, but when no \"men\" are around, they become the pursuers of a 14 year old boy. And the boy becomes a man really fast (we should all be so lucky at this age!). He then gets up the courage to pursue his true love.',\n",
       "       b\"This is a film which should be seen by anybody interested in, effected by, or suffering from an eating disorder. It is an amazingly accurate and sensitive portrayal of bulimia in a teenage girl, its causes and its symptoms. The girl is played by one of the most brilliant young actresses working in cinema today, Alison Lohman, who was later so spectacular in 'Where the Truth Lies'. I would recommend that this film be shown in all schools, as you will never see a better on this subject. Alison Lohman is absolutely outstanding, and one marvels at her ability to convey the anguish of a girl suffering from this compulsive disorder. If barometers tell us the air pressure, Alison Lohman tells us the emotional pressure with the same degree of accuracy. Her emotional range is so precise, each scene could be measured microscopically for its gradations of trauma, on a scale of rising hysteria and desperation which reaches unbearable intensity. Mare Winningham is the perfect choice to play her mother, and does so with immense sympathy and a range of emotions just as finely tuned as Lohman's. Together, they make a pair of sensitive emotional oscillators vibrating in resonance with one another. This film is really an astonishing achievement, and director Katt Shea should be proud of it. The only reason for not seeing it is if you are not interested in people. But even if you like nature films best, this is after all animal behaviour at the sharp edge. Bulimia is an extreme version of how a tormented soul can destroy her own body in a frenzy of despair. And if we don't sympathise with people suffering from the depths of despair, then we are dead inside.\",\n",
       "       b'Okay, you have:<br /><br />Penelope Keith as Miss Herringbone-Tweed, B.B.E. (Backbone of England.) She\\'s killed off in the first scene - that\\'s right, folks; this show has no backbone!<br /><br />Peter O\\'Toole as Ol\\' Colonel Cricket from The First War and now the emblazered Lord of the Manor.<br /><br />Joanna Lumley as the ensweatered Lady of the Manor, 20 years younger than the colonel and 20 years past her own prime but still glamourous (Brit spelling, not mine) enough to have a toy-boy on the side. It\\'s alright, they have Col. Cricket\\'s full knowledge and consent (they guy even comes \\'round for Christmas!) Still, she\\'s considerate of the colonel enough to have said toy-boy her own age (what a gal!)<br /><br />David McCallum as said toy-boy, equally as pointlessly glamourous as his squeeze. Pilcher couldn\\'t come up with any cover for him within the story, so she gave him a hush-hush job at the Circus.<br /><br />and finally:<br /><br />Susan Hampshire as Miss Polonia Teacups, Venerable Headmistress of the Venerable Girls\\' Boarding-School, serving tea in her office with a dash of deep, poignant advice for life in the outside world just before graduation. Her best bit of advice: \"I\\'ve only been to Nancherrow (the local Stately Home of England) once. I thought it was very beautiful but, somehow, not part of the real world.\" Well, we can\\'t say they didn\\'t warn us.<br /><br />Ah, Susan - time was, your character would have been running the whole show. They don\\'t write \\'em like that any more. Our loss, not yours.<br /><br />So - with a cast and setting like this, you have the re-makings of \"Brideshead Revisited,\" right?<br /><br />Wrong! They took these 1-dimensional supporting roles because they paid so well. After all, acting is one of the oldest temp-jobs there is (YOU name another!)<br /><br />First warning sign: lots and lots of backlighting. They get around it by shooting outdoors - \"hey, it\\'s just the sunlight!\"<br /><br />Second warning sign: Leading Lady cries a lot. When not crying, her eyes are moist. That\\'s the law of romance novels: Leading Lady is \"dewy-eyed.\"<br /><br />Henceforth, Leading Lady shall be known as L.L.<br /><br />Third warning sign: L.L. actually has stars in her eyes when she\\'s in love. Still, I\\'ll give Emily Mortimer an award just for having to act with that spotlight in her eyes (I wonder . did they use contacts?)<br /><br />And lastly, fourth warning sign: no on-screen female character is \"Mrs.\" She\\'s either \"Miss\" or \"Lady.\"<br /><br />When all was said and done, I still couldn\\'t tell you who was pursuing whom and why. I couldn\\'t even tell you what was said and done.<br /><br />To sum up: they all live through World War II without anything happening to them at all.<br /><br />OK, at the end, L.L. finds she\\'s lost her parents to the Japanese prison camps and baby sis comes home catatonic. Meanwhile (there\\'s always a \"meanwhile,\") some young guy L.L. had a crush on (when, I don\\'t know) comes home from some wartime tough spot and is found living on the street by Lady of the Manor (must be some street if SHE\\'s going to find him there.) Both war casualties are whisked away to recover at Nancherrow (SOMEBODY has to be \"whisked away\" SOMEWHERE in these romance stories!)<br /><br />Great drama.',\n",
       "       b'The film is based on a genuine 1950s novel.<br /><br />Journalist Colin McInnes wrote a set of three \"London novels\": \"Absolute Beginners\", \"City of Spades\" and \"Mr Love and Justice\". I have read all three. The first two are excellent. The last, perhaps an experiment that did not come off. But McInnes\\'s work is highly acclaimed; and rightly so. This musical is the novelist\\'s ultimate nightmare - to see the fruits of one\\'s mind being turned into a glitzy, badly-acted, soporific one-dimensional apology of a film that says it captures the spirit of 1950s London, and does nothing of the sort.<br /><br />Thank goodness Colin McInnes wasn\\'t alive to witness it.',\n",
       "       b'I really love the sexy action and sci-fi films of the sixties and its because of the actress\\'s that appeared in them. They found the sexiest women to be in these films and it didn\\'t matter if they could act (Remember \"Candy\"?). The reason I was disappointed by this film was because it wasn\\'t nostalgic enough. The story here has a European sci-fi film called \"Dragonfly\" being made and the director is fired. So the producers decide to let a young aspiring filmmaker (Jeremy Davies) to complete the picture. They\\'re is one real beautiful woman in the film who plays Dragonfly but she\\'s barely in it. Film is written and directed by Roman Coppola who uses some of his fathers exploits from his early days and puts it into the script. I wish the film could have been an homage to those early films. They could have lots of cameos by actors who appeared in them. There is one actor in this film who was popular from the sixties and its John Phillip Law (Barbarella). Gerard Depardieu, Giancarlo Giannini and Dean Stockwell appear as well. I guess I\\'m going to have to continue waiting for a director to make a good homage to the films of the sixties. If any are reading this, \"Make it as sexy as you can\"! I\\'ll be waiting!',\n",
       "       b'Sure, this one isn\\'t really a blockbuster, nor does it target such a position. \"Dieter\" is the first name of a quite popular German musician, who is either loved or hated for his kind of acting and thats exactly what this movie is about. It is based on the autobiography \"Dieter Bohlen\" wrote a few years ago but isn\\'t meant to be accurate on that. The movie is filled with some sexual offensive content (at least for American standard) which is either amusing (not for the other \"actors\" of course) or dumb - it depends on your individual kind of humor or on you being a \"Bohlen\"-Fan or not. Technically speaking there isn\\'t much to criticize. Speaking of me I find this movie to be an OK-movie.'],\n",
       "      dtype=object)>"
      ]
     },
     "execution_count": 53,
     "metadata": {},
     "output_type": "execute_result"
    }
   ],
   "source": [
    "train_examples_batch, train_labels_batch = next(iter(train_data.batch(10)))\n",
    "train_examples_batch"
   ]
  },
  {
   "cell_type": "code",
   "execution_count": 54,
   "metadata": {},
   "outputs": [
    {
     "data": {
      "text/plain": [
       "<tf.Tensor: shape=(10,), dtype=int64, numpy=array([0, 0, 0, 1, 1, 1, 0, 0, 0, 0])>"
      ]
     },
     "execution_count": 54,
     "metadata": {},
     "output_type": "execute_result"
    }
   ],
   "source": [
    "train_labels_batch"
   ]
  },
  {
   "cell_type": "code",
   "execution_count": 55,
   "metadata": {},
   "outputs": [
    {
     "data": {
      "text/plain": [
       "<tf.Tensor: shape=(3, 20), dtype=float32, numpy=\n",
       "array([[ 1.765786  , -3.882232  ,  3.9134233 , -1.5557289 , -3.3362343 ,\n",
       "        -1.7357955 , -1.9954445 ,  1.2989551 ,  5.081598  , -1.1041286 ,\n",
       "        -2.0503852 , -0.72675157, -0.65675956,  0.24436149, -3.7208383 ,\n",
       "         2.0954835 ,  2.2969332 , -2.0689783 , -2.9489717 , -1.1315987 ],\n",
       "       [ 1.8804485 , -2.5852382 ,  3.4066997 ,  1.0982676 , -4.056685  ,\n",
       "        -4.891284  , -2.785554  ,  1.3874227 ,  3.8476458 , -0.9256538 ,\n",
       "        -1.896706  ,  1.2113281 ,  0.11474707,  0.76209456, -4.8791065 ,\n",
       "         2.906149  ,  4.7087674 , -2.3652055 , -3.5015898 , -1.6390051 ],\n",
       "       [ 0.71152234, -0.6353217 ,  1.7385626 , -1.1168286 , -0.5451594 ,\n",
       "        -1.1808156 ,  0.09504455,  1.4653089 ,  0.66059524,  0.79308075,\n",
       "        -2.2268345 ,  0.07446612, -1.4075904 , -0.70645386, -1.907037  ,\n",
       "         1.4419787 ,  1.9551861 , -0.42660055, -2.8022065 ,  0.43727064]],\n",
       "      dtype=float32)>"
      ]
     },
     "execution_count": 55,
     "metadata": {},
     "output_type": "execute_result"
    }
   ],
   "source": [
    "# Use a pre-trained text embedding model from Tensorflow Hub\n",
    "# google/tf2-preview/gnews-swivel-20dim/1\n",
    "# Token based text embedding trained on English Google News 130GB corpus.\n",
    "# https://arxiv.org/abs/1602.02215\n",
    "embedding = \"https://tfhub.dev/google/tf2-preview/gnews-swivel-20dim/1\"\n",
    "hub_layer = hub.KerasLayer(embedding, input_shape=[], dtype=tf.string, trainable=True)\n",
    "hub_layer(train_examples_batch[:3])"
   ]
  },
  {
   "cell_type": "code",
   "execution_count": 56,
   "metadata": {},
   "outputs": [
    {
     "name": "stdout",
     "output_type": "stream",
     "text": [
      "Model: \"sequential_4\"\n",
      "_________________________________________________________________\n",
      "Layer (type)                 Output Shape              Param #   \n",
      "=================================================================\n",
      "keras_layer (KerasLayer)     (None, 20)                400020    \n",
      "_________________________________________________________________\n",
      "dense_4 (Dense)              (None, 16)                336       \n",
      "_________________________________________________________________\n",
      "dense_5 (Dense)              (None, 1)                 17        \n",
      "=================================================================\n",
      "Total params: 400,373\n",
      "Trainable params: 400,373\n",
      "Non-trainable params: 0\n",
      "_________________________________________________________________\n"
     ]
    }
   ],
   "source": [
    "model = tf.keras.Sequential()\n",
    "model.add(hub_layer) # pre-trained saved model to map a sentence into its embedding vector\n",
    "model.add(tf.keras.layers.Dense(16, activation='relu'))\n",
    "model.add(tf.keras.layers.Dense(1))\n",
    "\n",
    "model.summary()"
   ]
  },
  {
   "cell_type": "code",
   "execution_count": 57,
   "metadata": {},
   "outputs": [],
   "source": [
    "model.compile(optimizer='adam',\n",
    "              loss=tf.keras.losses.BinaryCrossentropy(from_logits=True),\n",
    "              metrics=['accuracy'])"
   ]
  },
  {
   "cell_type": "code",
   "execution_count": 58,
   "metadata": {},
   "outputs": [
    {
     "name": "stdout",
     "output_type": "stream",
     "text": [
      "Epoch 1/20\n",
      "30/30 [==============================] - 2s 74ms/step - loss: 0.6860 - accuracy: 0.5703 - val_loss: 0.6447 - val_accuracy: 0.6271\n",
      "Epoch 2/20\n",
      "30/30 [==============================] - 2s 54ms/step - loss: 0.6257 - accuracy: 0.6211 - val_loss: 0.6165 - val_accuracy: 0.6249\n",
      "Epoch 3/20\n",
      "30/30 [==============================] - 2s 55ms/step - loss: 0.6011 - accuracy: 0.6463 - val_loss: 0.5890 - val_accuracy: 0.6589\n",
      "Epoch 4/20\n",
      "30/30 [==============================] - 2s 57ms/step - loss: 0.5677 - accuracy: 0.6787 - val_loss: 0.5551 - val_accuracy: 0.6931\n",
      "Epoch 5/20\n",
      "30/30 [==============================] - 2s 57ms/step - loss: 0.5278 - accuracy: 0.7153 - val_loss: 0.5220 - val_accuracy: 0.7138\n",
      "Epoch 6/20\n",
      "30/30 [==============================] - 2s 57ms/step - loss: 0.4895 - accuracy: 0.7493 - val_loss: 0.4880 - val_accuracy: 0.7624\n",
      "Epoch 7/20\n",
      "30/30 [==============================] - 2s 56ms/step - loss: 0.4517 - accuracy: 0.7815 - val_loss: 0.4580 - val_accuracy: 0.7609\n",
      "Epoch 8/20\n",
      "30/30 [==============================] - 2s 57ms/step - loss: 0.4171 - accuracy: 0.8018 - val_loss: 0.4284 - val_accuracy: 0.7927\n",
      "Epoch 9/20\n",
      "30/30 [==============================] - 2s 58ms/step - loss: 0.3834 - accuracy: 0.8223 - val_loss: 0.4087 - val_accuracy: 0.8173\n",
      "Epoch 10/20\n",
      "30/30 [==============================] - 2s 58ms/step - loss: 0.3515 - accuracy: 0.8435 - val_loss: 0.3833 - val_accuracy: 0.8207\n",
      "Epoch 11/20\n",
      "30/30 [==============================] - 2s 59ms/step - loss: 0.3222 - accuracy: 0.8607 - val_loss: 0.3679 - val_accuracy: 0.8220\n",
      "Epoch 12/20\n",
      "30/30 [==============================] - 2s 60ms/step - loss: 0.2957 - accuracy: 0.8730 - val_loss: 0.3492 - val_accuracy: 0.8417\n",
      "Epoch 13/20\n",
      "30/30 [==============================] - 2s 60ms/step - loss: 0.2747 - accuracy: 0.8839 - val_loss: 0.3419 - val_accuracy: 0.8401\n",
      "Epoch 14/20\n",
      "30/30 [==============================] - 2s 60ms/step - loss: 0.2531 - accuracy: 0.8949 - val_loss: 0.3294 - val_accuracy: 0.8525\n",
      "Epoch 15/20\n",
      "30/30 [==============================] - 2s 61ms/step - loss: 0.2370 - accuracy: 0.9037 - val_loss: 0.3238 - val_accuracy: 0.8591\n",
      "Epoch 16/20\n",
      "30/30 [==============================] - 2s 61ms/step - loss: 0.2207 - accuracy: 0.9118 - val_loss: 0.3183 - val_accuracy: 0.8593\n",
      "Epoch 17/20\n",
      "30/30 [==============================] - 2s 61ms/step - loss: 0.2061 - accuracy: 0.9178 - val_loss: 0.3145 - val_accuracy: 0.8639\n",
      "Epoch 18/20\n",
      "30/30 [==============================] - 2s 61ms/step - loss: 0.1943 - accuracy: 0.9246 - val_loss: 0.3130 - val_accuracy: 0.8666\n",
      "Epoch 19/20\n",
      "30/30 [==============================] - 2s 61ms/step - loss: 0.1822 - accuracy: 0.9316 - val_loss: 0.3108 - val_accuracy: 0.8664\n",
      "Epoch 20/20\n",
      "30/30 [==============================] - 2s 61ms/step - loss: 0.1715 - accuracy: 0.9369 - val_loss: 0.3113 - val_accuracy: 0.8656\n"
     ]
    }
   ],
   "source": [
    "history = model.fit(train_data.shuffle(10000).batch(512),\n",
    "                    epochs=20,\n",
    "                    validation_data=validation_data.batch(512),\n",
    "                    verbose=1)"
   ]
  },
  {
   "cell_type": "code",
   "execution_count": 60,
   "metadata": {},
   "outputs": [
    {
     "name": "stdout",
     "output_type": "stream",
     "text": [
      "loss: 0.326\n",
      "accuracy: 0.853\n"
     ]
    }
   ],
   "source": [
    "results = model.evaluate(test_data.batch(512), verbose=2)\n",
    "\n",
    "for name, value in zip(model.metrics_names, results):\n",
    "    print(\"%s: %.3f\" % (name, value))"
   ]
  },
  {
   "cell_type": "markdown",
   "metadata": {},
   "source": [
    "## Text classification with preprocessed test: Movie reviews"
   ]
  },
  {
   "cell_type": "code",
   "execution_count": 2,
   "metadata": {},
   "outputs": [],
   "source": [
    "import tensorflow as tf\n",
    "from tensorflow import keras\n",
    "import tensorflow_datasets as tfds\n",
    "tfds.disable_progress_bar()\n",
    "import numpy as np"
   ]
  },
  {
   "cell_type": "code",
   "execution_count": 3,
   "metadata": {},
   "outputs": [
    {
     "name": "stderr",
     "output_type": "stream",
     "text": [
      "WARNING:absl:TFDS datasets with text encoding are deprecated and will be removed in a future version. Instead, you should use the plain text version and tokenize the text using `tensorflow_text` (See: https://www.tensorflow.org/tutorials/tensorflow_text/intro#tfdata_example)\n"
     ]
    },
    {
     "name": "stdout",
     "output_type": "stream",
     "text": [
      "\u001b[1mDownloading and preparing dataset imdb_reviews/subwords8k/1.0.0 (download: 80.23 MiB, generated: Unknown size, total: 80.23 MiB) to /Users/levendlee/tensorflow_datasets/imdb_reviews/subwords8k/1.0.0...\u001b[0m\n",
      "Shuffling and writing examples to /Users/levendlee/tensorflow_datasets/imdb_reviews/subwords8k/1.0.0.incomplete6YMTWE/imdb_reviews-train.tfrecord\n",
      "Shuffling and writing examples to /Users/levendlee/tensorflow_datasets/imdb_reviews/subwords8k/1.0.0.incomplete6YMTWE/imdb_reviews-test.tfrecord\n",
      "Shuffling and writing examples to /Users/levendlee/tensorflow_datasets/imdb_reviews/subwords8k/1.0.0.incomplete6YMTWE/imdb_reviews-unsupervised.tfrecord\n",
      "\u001b[1mDataset imdb_reviews downloaded and prepared to /Users/levendlee/tensorflow_datasets/imdb_reviews/subwords8k/1.0.0. Subsequent calls will reuse this data.\u001b[0m\n"
     ]
    }
   ],
   "source": [
    "(train_data, test_data), info = tfds.load(\n",
    "    'imdb_reviews/subwords8k',\n",
    "    split = (tfds.Split.TRAIN, tfds.Split.TEST),\n",
    "    as_supervised=True,\n",
    "    with_info=True\n",
    ")"
   ]
  },
  {
   "cell_type": "code",
   "execution_count": 4,
   "metadata": {},
   "outputs": [],
   "source": [
    "encoder = info.features['text'].encoder"
   ]
  },
  {
   "cell_type": "code",
   "execution_count": 5,
   "metadata": {},
   "outputs": [
    {
     "name": "stdout",
     "output_type": "stream",
     "text": [
      "Vocabulary size: 8185\n"
     ]
    }
   ],
   "source": [
    "print('Vocabulary size: {}'.format(encoder.vocab_size))"
   ]
  },
  {
   "cell_type": "code",
   "execution_count": 6,
   "metadata": {},
   "outputs": [
    {
     "name": "stdout",
     "output_type": "stream",
     "text": [
      "Encoded string is [4025, 222, 6307, 2327, 2934]\n",
      "The original string: Hello Tensorflow\n"
     ]
    }
   ],
   "source": [
    "sample_string = \"Hello Tensorflow\"\n",
    "encoded_string = encoder.encode(sample_string)\n",
    "print(\"Encoded string is {}\".format(encoded_string))\n",
    "\n",
    "original_string = encoder.decode(encoded_string)\n",
    "print(\"The original string: {}\".format(original_string))\n",
    "\n",
    "assert original_string == sample_string"
   ]
  },
  {
   "cell_type": "code",
   "execution_count": 7,
   "metadata": {},
   "outputs": [
    {
     "name": "stdout",
     "output_type": "stream",
     "text": [
      "4025 --> Hell\n",
      "222 --> o \n",
      "6307 --> Ten\n",
      "2327 --> sor\n",
      "2934 --> flow\n"
     ]
    }
   ],
   "source": [
    "for ts in encoded_string:\n",
    "    print(\"{} --> {}\".format(ts, encoder.decode([ts])))"
   ]
  },
  {
   "cell_type": "code",
   "execution_count": 8,
   "metadata": {},
   "outputs": [
    {
     "name": "stdout",
     "output_type": "stream",
     "text": [
      "Encoded text: [  62   18   41  604  927   65    3  644 7968   21]\n",
      "Label: 0\n"
     ]
    }
   ],
   "source": [
    "for train_example, train_label in train_data.take(1):\n",
    "    print(\"Encoded text:\", train_example[:10].numpy())\n",
    "    print(\"Label:\", train_label.numpy())"
   ]
  },
  {
   "cell_type": "code",
   "execution_count": 9,
   "metadata": {},
   "outputs": [
    {
     "data": {
      "text/plain": [
       "\"This was an absolutely terrible movie. Don't be lured in by Christopher Walken or Michael Ironside. Both are great actors, but this must simply be their worst role in history. Even their great acting could not redeem this movie's ridiculous storyline. This movie is an early nineties US propaganda piece. The most pathetic scenes were those when the Columbian rebels were making their cases for revolutions. Maria Conchita Alonso appeared phony, and her pseudo-love affair with Walken was nothing but a pathetic emotional plug in a movie that was devoid of any real meaning. I am disappointed that there are movies like this, ruining actor's like Christopher Walken's good name. I could barely sit through it.\""
      ]
     },
     "execution_count": 9,
     "metadata": {},
     "output_type": "execute_result"
    }
   ],
   "source": [
    "encoder.decode(train_example)"
   ]
  },
  {
   "cell_type": "code",
   "execution_count": 34,
   "metadata": {},
   "outputs": [],
   "source": [
    "BUFFER_SIZE = 1000\n",
    "\n",
    "train_batches = (train_data.shuffle(BUFFER_SIZE).padded_batch(32, ((None,), tuple())))\n",
    "test_batches = test_data.padded_batch(32, ((None,), tuple()))"
   ]
  },
  {
   "cell_type": "code",
   "execution_count": 35,
   "metadata": {},
   "outputs": [
    {
     "name": "stdout",
     "output_type": "stream",
     "text": [
      "Batch shape: (32, 1231)\n",
      "Label shape: (32,)\n",
      "Batch shape: (32, 1227)\n",
      "Label shape: (32,)\n"
     ]
    }
   ],
   "source": [
    "for example_batch, label_batch in train_batches.take(2):\n",
    "    print(\"Batch shape:\", example_batch.shape)\n",
    "    print(\"Label shape:\", label_batch.shape)"
   ]
  },
  {
   "cell_type": "code",
   "execution_count": 36,
   "metadata": {},
   "outputs": [
    {
     "name": "stdout",
     "output_type": "stream",
     "text": [
      "Model: \"sequential\"\n",
      "_________________________________________________________________\n",
      "Layer (type)                 Output Shape              Param #   \n",
      "=================================================================\n",
      "embedding (Embedding)        (None, None, 16)          130960    \n",
      "_________________________________________________________________\n",
      "global_average_pooling1d (Gl (None, 16)                0         \n",
      "_________________________________________________________________\n",
      "dense (Dense)                (None, 1)                 17        \n",
      "=================================================================\n",
      "Total params: 130,977\n",
      "Trainable params: 130,977\n",
      "Non-trainable params: 0\n",
      "_________________________________________________________________\n"
     ]
    }
   ],
   "source": [
    "model = keras.Sequential([\n",
    "    keras.layers.Embedding(encoder.vocab_size, 16),\n",
    "    keras.layers.GlobalAveragePooling1D(),\n",
    "    keras.layers.Dense(1)\n",
    "])\n",
    "\n",
    "model.summary()"
   ]
  },
  {
   "cell_type": "code",
   "execution_count": 38,
   "metadata": {},
   "outputs": [],
   "source": [
    "model.compile(optimizer='adam',\n",
    "             loss=tf.losses.BinaryCrossentropy(from_logits=True),\n",
    "             metrics=['accuracy'])"
   ]
  },
  {
   "cell_type": "code",
   "execution_count": 39,
   "metadata": {},
   "outputs": [
    {
     "name": "stdout",
     "output_type": "stream",
     "text": [
      "Epoch 1/10\n",
      "782/782 [==============================] - 4s 5ms/step - loss: 0.6821 - accuracy: 0.5004 - val_loss: 0.6640 - val_accuracy: 0.5021\n",
      "Epoch 2/10\n",
      "782/782 [==============================] - 2s 3ms/step - loss: 0.6203 - accuracy: 0.5539 - val_loss: 0.5943 - val_accuracy: 0.6083\n",
      "Epoch 3/10\n",
      "782/782 [==============================] - 2s 3ms/step - loss: 0.5403 - accuracy: 0.6687 - val_loss: 0.5311 - val_accuracy: 0.7281\n",
      "Epoch 4/10\n",
      "782/782 [==============================] - 2s 3ms/step - loss: 0.4730 - accuracy: 0.7522 - val_loss: 0.4812 - val_accuracy: 0.7427\n",
      "Epoch 5/10\n",
      "782/782 [==============================] - 2s 3ms/step - loss: 0.4204 - accuracy: 0.8026 - val_loss: 0.4427 - val_accuracy: 0.7969\n",
      "Epoch 6/10\n",
      "782/782 [==============================] - 3s 3ms/step - loss: 0.3782 - accuracy: 0.8347 - val_loss: 0.4154 - val_accuracy: 0.8333\n",
      "Epoch 7/10\n",
      "782/782 [==============================] - 3s 3ms/step - loss: 0.3483 - accuracy: 0.8529 - val_loss: 0.3955 - val_accuracy: 0.8406\n",
      "Epoch 8/10\n",
      "782/782 [==============================] - 3s 3ms/step - loss: 0.3249 - accuracy: 0.8684 - val_loss: 0.3834 - val_accuracy: 0.8260\n",
      "Epoch 9/10\n",
      "782/782 [==============================] - 3s 3ms/step - loss: 0.3031 - accuracy: 0.8773 - val_loss: 0.3695 - val_accuracy: 0.8479\n",
      "Epoch 10/10\n",
      "782/782 [==============================] - 3s 3ms/step - loss: 0.2843 - accuracy: 0.8888 - val_loss: 0.3616 - val_accuracy: 0.8500\n"
     ]
    }
   ],
   "source": [
    "history = model.fit(train_batches,\n",
    "                   epochs=10,\n",
    "                   validation_data=test_batches,\n",
    "                   validation_steps=30)"
   ]
  },
  {
   "cell_type": "code",
   "execution_count": 40,
   "metadata": {},
   "outputs": [
    {
     "name": "stdout",
     "output_type": "stream",
     "text": [
      "    782/Unknown - 2s 3ms/step - loss: 0.3315 - accuracy: 0.8578"
     ]
    }
   ],
   "source": [
    "loss, accuracy = model.evaluate(test_batches)"
   ]
  },
  {
   "cell_type": "code",
   "execution_count": 41,
   "metadata": {},
   "outputs": [
    {
     "data": {
      "text/plain": [
       "dict_keys(['loss', 'accuracy', 'val_loss', 'val_accuracy'])"
      ]
     },
     "execution_count": 41,
     "metadata": {},
     "output_type": "execute_result"
    }
   ],
   "source": [
    "history_dict = history.history\n",
    "history_dict.keys()"
   ]
  },
  {
   "cell_type": "code",
   "execution_count": 42,
   "metadata": {},
   "outputs": [
    {
     "data": {
      "image/png": "[encoded data removed]",
      "text/plain": [
       "<Figure size 432x288 with 1 Axes>"
      ]
     },
     "metadata": {
      "needs_background": "light"
     },
     "output_type": "display_data"
    }
   ],
   "source": [
    "import matplotlib.pyplot as plt\n",
    "\n",
    "acc = history_dict['accuracy']\n",
    "val_acc = history_dict['val_accuracy']\n",
    "loss = history_dict['loss']\n",
    "val_loss = history_dict['val_loss']\n",
    "\n",
    "epochs = range(1, len(acc) + 1)\n",
    "\n",
    "plt.plot(epochs, loss, \"b\", label=\"Training loss\")\n",
    "plt.plot(epochs, val_loss, \"r\", label=\"Validation loss\")\n",
    "plt.title(\"Training and validation loss\")\n",
    "plt.xlabel(\"Epochs\")\n",
    "plt.ylabel(\"Loss\")\n",
    "plt.legend()\n",
    "\n",
    "plt.show()"
   ]
  },
  {
   "cell_type": "code",
   "execution_count": 43,
   "metadata": {},
   "outputs": [
    {
     "data": {
      "image/png": "[encoded data removed]",
      "text/plain": [
       "<Figure size 432x288 with 1 Axes>"
      ]
     },
     "metadata": {
      "needs_background": "light"
     },
     "output_type": "display_data"
    }
   ],
   "source": [
    "plt.clf()\n",
    "\n",
    "plt.plot(epochs, acc, 'b', label=\"Training acc\")\n",
    "plt.plot(epochs, val_acc, 'r', label=\"Validation acc\")\n",
    "plt.title(\"Training and validation accuracy\")\n",
    "plt.xlabel(\"Epochs\")\n",
    "plt.ylabel(\"Accuracy\")\n",
    "plt.legend(loc=\"lower right\")\n",
    "\n",
    "plt.show()"
   ]
  },
  {
   "cell_type": "markdown",
   "metadata": {},
   "source": [
    "# Regression"
   ]
  },
  {
   "cell_type": "code",
   "execution_count": 45,
   "metadata": {},
   "outputs": [],
   "source": [
    "!pip install -q seaborn\n",
    "!pip install -q git+https://github.com/tensorflow/docs"
   ]
  },
  {
   "cell_type": "code",
   "execution_count": 46,
   "metadata": {},
   "outputs": [],
   "source": [
    "import pathlib\n",
    "\n",
    "import matplotlib.pyplot as plt\n",
    "import numpy as np\n",
    "import pandas as pd\n",
    "import seaborn as sns"
   ]
  },
  {
   "cell_type": "code",
   "execution_count": 47,
   "metadata": {},
   "outputs": [
    {
     "name": "stdout",
     "output_type": "stream",
     "text": [
      "2.1.0\n"
     ]
    }
   ],
   "source": [
    "import tensorflow as tf\n",
    "\n",
    "from tensorflow import keras\n",
    "from tensorflow.keras import layers\n",
    "\n",
    "print(tf.__version__)"
   ]
  },
  {
   "cell_type": "code",
   "execution_count": 48,
   "metadata": {},
   "outputs": [],
   "source": [
    "import tensorflow_docs as tfdocs\n",
    "import tensorflow_docs.plots\n",
    "import tensorflow_docs.modeling"
   ]
  },
  {
   "cell_type": "code",
   "execution_count": 49,
   "metadata": {},
   "outputs": [
    {
     "name": "stdout",
     "output_type": "stream",
     "text": [
      "Downloading data from http://archive.ics.uci.edu/ml/machine-learning-databases/auto-mpg/auto-mpg.data\n",
      "32768/30286 [================================] - 0s 2us/step\n"
     ]
    },
    {
     "data": {
      "text/plain": [
       "'/Users/levendlee/.keras/datasets/auto-mpg.data'"
      ]
     },
     "execution_count": 49,
     "metadata": {},
     "output_type": "execute_result"
    }
   ],
   "source": [
    "dataset_path = keras.utils.get_file(\"auto-mpg.data\", \"http://archive.ics.uci.edu/ml/machine-learning-databases/auto-mpg/auto-mpg.data\")\n",
    "dataset_path"
   ]
  },
  {
   "cell_type": "code",
   "execution_count": 50,
   "metadata": {},
   "outputs": [
    {
     "data": {
      "text/html": [
       "<div>\n",
       "<style scoped>\n",
       "    .dataframe tbody tr th:only-of-type {\n",
       "        vertical-align: middle;\n",
       "    }\n",
       "\n",
       "    .dataframe tbody tr th {\n",
       "        vertical-align: top;\n",
       "    }\n",
       "\n",
       "    .dataframe thead th {\n",
       "        text-align: right;\n",
       "    }\n",
       "</style>\n",
       "<table border=\"1\" class=\"dataframe\">\n",
       "  <thead>\n",
       "    <tr style=\"text-align: right;\">\n",
       "      <th></th>\n",
       "      <th>MPG</th>\n",
       "      <th>Cylinders</th>\n",
       "      <th>Displacement</th>\n",
       "      <th>Horsepower</th>\n",
       "      <th>Weight</th>\n",
       "      <th>Acceleration</th>\n",
       "      <th>Model Year</th>\n",
       "      <th>Origin</th>\n",
       "    </tr>\n",
       "  </thead>\n",
       "  <tbody>\n",
       "    <tr>\n",
       "      <th>393</th>\n",
       "      <td>27.0</td>\n",
       "      <td>4</td>\n",
       "      <td>140.0</td>\n",
       "      <td>86.0</td>\n",
       "      <td>2790.0</td>\n",
       "      <td>15.6</td>\n",
       "      <td>82</td>\n",
       "      <td>1</td>\n",
       "    </tr>\n",
       "    <tr>\n",
       "      <th>394</th>\n",
       "      <td>44.0</td>\n",
       "      <td>4</td>\n",
       "      <td>97.0</td>\n",
       "      <td>52.0</td>\n",
       "      <td>2130.0</td>\n",
       "      <td>24.6</td>\n",
       "      <td>82</td>\n",
       "      <td>2</td>\n",
       "    </tr>\n",
       "    <tr>\n",
       "      <th>395</th>\n",
       "      <td>32.0</td>\n",
       "      <td>4</td>\n",
       "      <td>135.0</td>\n",
       "      <td>84.0</td>\n",
       "      <td>2295.0</td>\n",
       "      <td>11.6</td>\n",
       "      <td>82</td>\n",
       "      <td>1</td>\n",
       "    </tr>\n",
       "    <tr>\n",
       "      <th>396</th>\n",
       "      <td>28.0</td>\n",
       "      <td>4</td>\n",
       "      <td>120.0</td>\n",
       "      <td>79.0</td>\n",
       "      <td>2625.0</td>\n",
       "      <td>18.6</td>\n",
       "      <td>82</td>\n",
       "      <td>1</td>\n",
       "    </tr>\n",
       "    <tr>\n",
       "      <th>397</th>\n",
       "      <td>31.0</td>\n",
       "      <td>4</td>\n",
       "      <td>119.0</td>\n",
       "      <td>82.0</td>\n",
       "      <td>2720.0</td>\n",
       "      <td>19.4</td>\n",
       "      <td>82</td>\n",
       "      <td>1</td>\n",
       "    </tr>\n",
       "  </tbody>\n",
       "</table>\n",
       "</div>"
      ],
      "text/plain": [
       "      MPG  Cylinders  Displacement  Horsepower  Weight  Acceleration  \\\n",
       "393  27.0          4         140.0        86.0  2790.0          15.6   \n",
       "394  44.0          4          97.0        52.0  2130.0          24.6   \n",
       "395  32.0          4         135.0        84.0  2295.0          11.6   \n",
       "396  28.0          4         120.0        79.0  2625.0          18.6   \n",
       "397  31.0          4         119.0        82.0  2720.0          19.4   \n",
       "\n",
       "     Model Year  Origin  \n",
       "393          82       1  \n",
       "394          82       2  \n",
       "395          82       1  \n",
       "396          82       1  \n",
       "397          82       1  "
      ]
     },
     "execution_count": 50,
     "metadata": {},
     "output_type": "execute_result"
    }
   ],
   "source": [
    "column_names = ['MPG','Cylinders','Displacement','Horsepower','Weight',\n",
    "                'Acceleration', 'Model Year', 'Origin']\n",
    "raw_dataset = pd.read_csv(dataset_path, names=column_names,\n",
    "                      na_values = \"?\", comment='\\t',\n",
    "                      sep=\" \", skipinitialspace=True)\n",
    "dataset = raw_dataset.copy()\n",
    "dataset.tail()"
   ]
  },
  {
   "cell_type": "code",
   "execution_count": 51,
   "metadata": {},
   "outputs": [
    {
     "data": {
      "text/plain": [
       "MPG             0\n",
       "Cylinders       0\n",
       "Displacement    0\n",
       "Horsepower      6\n",
       "Weight          0\n",
       "Acceleration    0\n",
       "Model Year      0\n",
       "Origin          0\n",
       "dtype: int64"
      ]
     },
     "execution_count": 51,
     "metadata": {},
     "output_type": "execute_result"
    }
   ],
   "source": [
    "dataset.isna().sum()"
   ]
  },
  {
   "cell_type": "code",
   "execution_count": 52,
   "metadata": {},
   "outputs": [],
   "source": [
    "dataset = dataset.dropna()"
   ]
  },
  {
   "cell_type": "code",
   "execution_count": 53,
   "metadata": {},
   "outputs": [],
   "source": [
    "dataset['Origin'] = dataset['Origin'].map({1: 'USA', 2: 'Europe', 3: 'Japan'})"
   ]
  },
  {
   "cell_type": "code",
   "execution_count": 54,
   "metadata": {},
   "outputs": [
    {
     "data": {
      "text/html": [
       "<div>\n",
       "<style scoped>\n",
       "    .dataframe tbody tr th:only-of-type {\n",
       "        vertical-align: middle;\n",
       "    }\n",
       "\n",
       "    .dataframe tbody tr th {\n",
       "        vertical-align: top;\n",
       "    }\n",
       "\n",
       "    .dataframe thead th {\n",
       "        text-align: right;\n",
       "    }\n",
       "</style>\n",
       "<table border=\"1\" class=\"dataframe\">\n",
       "  <thead>\n",
       "    <tr style=\"text-align: right;\">\n",
       "      <th></th>\n",
       "      <th>MPG</th>\n",
       "      <th>Cylinders</th>\n",
       "      <th>Displacement</th>\n",
       "      <th>Horsepower</th>\n",
       "      <th>Weight</th>\n",
       "      <th>Acceleration</th>\n",
       "      <th>Model Year</th>\n",
       "      <th>Europe</th>\n",
       "      <th>Japan</th>\n",
       "      <th>USA</th>\n",
       "    </tr>\n",
       "  </thead>\n",
       "  <tbody>\n",
       "    <tr>\n",
       "      <th>393</th>\n",
       "      <td>27.0</td>\n",
       "      <td>4</td>\n",
       "      <td>140.0</td>\n",
       "      <td>86.0</td>\n",
       "      <td>2790.0</td>\n",
       "      <td>15.6</td>\n",
       "      <td>82</td>\n",
       "      <td>0</td>\n",
       "      <td>0</td>\n",
       "      <td>1</td>\n",
       "    </tr>\n",
       "    <tr>\n",
       "      <th>394</th>\n",
       "      <td>44.0</td>\n",
       "      <td>4</td>\n",
       "      <td>97.0</td>\n",
       "      <td>52.0</td>\n",
       "      <td>2130.0</td>\n",
       "      <td>24.6</td>\n",
       "      <td>82</td>\n",
       "      <td>1</td>\n",
       "      <td>0</td>\n",
       "      <td>0</td>\n",
       "    </tr>\n",
       "    <tr>\n",
       "      <th>395</th>\n",
       "      <td>32.0</td>\n",
       "      <td>4</td>\n",
       "      <td>135.0</td>\n",
       "      <td>84.0</td>\n",
       "      <td>2295.0</td>\n",
       "      <td>11.6</td>\n",
       "      <td>82</td>\n",
       "      <td>0</td>\n",
       "      <td>0</td>\n",
       "      <td>1</td>\n",
       "    </tr>\n",
       "    <tr>\n",
       "      <th>396</th>\n",
       "      <td>28.0</td>\n",
       "      <td>4</td>\n",
       "      <td>120.0</td>\n",
       "      <td>79.0</td>\n",
       "      <td>2625.0</td>\n",
       "      <td>18.6</td>\n",
       "      <td>82</td>\n",
       "      <td>0</td>\n",
       "      <td>0</td>\n",
       "      <td>1</td>\n",
       "    </tr>\n",
       "    <tr>\n",
       "      <th>397</th>\n",
       "      <td>31.0</td>\n",
       "      <td>4</td>\n",
       "      <td>119.0</td>\n",
       "      <td>82.0</td>\n",
       "      <td>2720.0</td>\n",
       "      <td>19.4</td>\n",
       "      <td>82</td>\n",
       "      <td>0</td>\n",
       "      <td>0</td>\n",
       "      <td>1</td>\n",
       "    </tr>\n",
       "  </tbody>\n",
       "</table>\n",
       "</div>"
      ],
      "text/plain": [
       "      MPG  Cylinders  Displacement  Horsepower  Weight  Acceleration  \\\n",
       "393  27.0          4         140.0        86.0  2790.0          15.6   \n",
       "394  44.0          4          97.0        52.0  2130.0          24.6   \n",
       "395  32.0          4         135.0        84.0  2295.0          11.6   \n",
       "396  28.0          4         120.0        79.0  2625.0          18.6   \n",
       "397  31.0          4         119.0        82.0  2720.0          19.4   \n",
       "\n",
       "     Model Year  Europe  Japan  USA  \n",
       "393          82       0      0    1  \n",
       "394          82       1      0    0  \n",
       "395          82       0      0    1  \n",
       "396          82       0      0    1  \n",
       "397          82       0      0    1  "
      ]
     },
     "execution_count": 54,
     "metadata": {},
     "output_type": "execute_result"
    }
   ],
   "source": [
    "# convert categorical variables into dummy/indicator variables\n",
    "dataset = pd.get_dummies(dataset, prefix='', prefix_sep='')\n",
    "dataset.tail()"
   ]
  },
  {
   "cell_type": "code",
   "execution_count": 55,
   "metadata": {},
   "outputs": [],
   "source": [
    "train_dataset = dataset.sample(frac=0.8, random_state=0)\n",
    "test_dataset = dataset.drop(train_dataset.index)"
   ]
  },
  {
   "cell_type": "code",
   "execution_count": 56,
   "metadata": {},
   "outputs": [
    {
     "data": {
      "text/plain": [
       "<seaborn.axisgrid.PairGrid at 0x639b36b50>"
      ]
     },
     "execution_count": 56,
     "metadata": {},
     "output_type": "execute_result"
    },
    {
     "data": {
      "image/png": "[encoded data removed]",
      "text/plain": [
       "<Figure size 720x720 with 20 Axes>"
      ]
     },
     "metadata": {
      "needs_background": "light"
     },
     "output_type": "display_data"
    }
   ],
   "source": [
    "sns.pairplot(train_dataset[[\"MPG\", \"Cylinders\", \"Displacement\", \"Weight\"]], diag_kind=\"kde\")"
   ]
  },
  {
   "cell_type": "code",
   "execution_count": 58,
   "metadata": {},
   "outputs": [
    {
     "data": {
      "text/html": [
       "<div>\n",
       "<style scoped>\n",
       "    .dataframe tbody tr th:only-of-type {\n",
       "        vertical-align: middle;\n",
       "    }\n",
       "\n",
       "    .dataframe tbody tr th {\n",
       "        vertical-align: top;\n",
       "    }\n",
       "\n",
       "    .dataframe thead th {\n",
       "        text-align: right;\n",
       "    }\n",
       "</style>\n",
       "<table border=\"1\" class=\"dataframe\">\n",
       "  <thead>\n",
       "    <tr style=\"text-align: right;\">\n",
       "      <th></th>\n",
       "      <th>count</th>\n",
       "      <th>mean</th>\n",
       "      <th>std</th>\n",
       "      <th>min</th>\n",
       "      <th>25%</th>\n",
       "      <th>50%</th>\n",
       "      <th>75%</th>\n",
       "      <th>max</th>\n",
       "    </tr>\n",
       "  </thead>\n",
       "  <tbody>\n",
       "    <tr>\n",
       "      <th>Cylinders</th>\n",
       "      <td>314.0</td>\n",
       "      <td>5.477707</td>\n",
       "      <td>1.699788</td>\n",
       "      <td>3.0</td>\n",
       "      <td>4.00</td>\n",
       "      <td>4.0</td>\n",
       "      <td>8.00</td>\n",
       "      <td>8.0</td>\n",
       "    </tr>\n",
       "    <tr>\n",
       "      <th>Displacement</th>\n",
       "      <td>314.0</td>\n",
       "      <td>195.318471</td>\n",
       "      <td>104.331589</td>\n",
       "      <td>68.0</td>\n",
       "      <td>105.50</td>\n",
       "      <td>151.0</td>\n",
       "      <td>265.75</td>\n",
       "      <td>455.0</td>\n",
       "    </tr>\n",
       "    <tr>\n",
       "      <th>Horsepower</th>\n",
       "      <td>314.0</td>\n",
       "      <td>104.869427</td>\n",
       "      <td>38.096214</td>\n",
       "      <td>46.0</td>\n",
       "      <td>76.25</td>\n",
       "      <td>94.5</td>\n",
       "      <td>128.00</td>\n",
       "      <td>225.0</td>\n",
       "    </tr>\n",
       "    <tr>\n",
       "      <th>Weight</th>\n",
       "      <td>314.0</td>\n",
       "      <td>2990.251592</td>\n",
       "      <td>843.898596</td>\n",
       "      <td>1649.0</td>\n",
       "      <td>2256.50</td>\n",
       "      <td>2822.5</td>\n",
       "      <td>3608.00</td>\n",
       "      <td>5140.0</td>\n",
       "    </tr>\n",
       "    <tr>\n",
       "      <th>Acceleration</th>\n",
       "      <td>314.0</td>\n",
       "      <td>15.559236</td>\n",
       "      <td>2.789230</td>\n",
       "      <td>8.0</td>\n",
       "      <td>13.80</td>\n",
       "      <td>15.5</td>\n",
       "      <td>17.20</td>\n",
       "      <td>24.8</td>\n",
       "    </tr>\n",
       "    <tr>\n",
       "      <th>Model Year</th>\n",
       "      <td>314.0</td>\n",
       "      <td>75.898089</td>\n",
       "      <td>3.675642</td>\n",
       "      <td>70.0</td>\n",
       "      <td>73.00</td>\n",
       "      <td>76.0</td>\n",
       "      <td>79.00</td>\n",
       "      <td>82.0</td>\n",
       "    </tr>\n",
       "    <tr>\n",
       "      <th>Europe</th>\n",
       "      <td>314.0</td>\n",
       "      <td>0.178344</td>\n",
       "      <td>0.383413</td>\n",
       "      <td>0.0</td>\n",
       "      <td>0.00</td>\n",
       "      <td>0.0</td>\n",
       "      <td>0.00</td>\n",
       "      <td>1.0</td>\n",
       "    </tr>\n",
       "    <tr>\n",
       "      <th>Japan</th>\n",
       "      <td>314.0</td>\n",
       "      <td>0.197452</td>\n",
       "      <td>0.398712</td>\n",
       "      <td>0.0</td>\n",
       "      <td>0.00</td>\n",
       "      <td>0.0</td>\n",
       "      <td>0.00</td>\n",
       "      <td>1.0</td>\n",
       "    </tr>\n",
       "    <tr>\n",
       "      <th>USA</th>\n",
       "      <td>314.0</td>\n",
       "      <td>0.624204</td>\n",
       "      <td>0.485101</td>\n",
       "      <td>0.0</td>\n",
       "      <td>0.00</td>\n",
       "      <td>1.0</td>\n",
       "      <td>1.00</td>\n",
       "      <td>1.0</td>\n",
       "    </tr>\n",
       "  </tbody>\n",
       "</table>\n",
       "</div>"
      ],
      "text/plain": [
       "              count         mean         std     min      25%     50%  \\\n",
       "Cylinders     314.0     5.477707    1.699788     3.0     4.00     4.0   \n",
       "Displacement  314.0   195.318471  104.331589    68.0   105.50   151.0   \n",
       "Horsepower    314.0   104.869427   38.096214    46.0    76.25    94.5   \n",
       "Weight        314.0  2990.251592  843.898596  1649.0  2256.50  2822.5   \n",
       "Acceleration  314.0    15.559236    2.789230     8.0    13.80    15.5   \n",
       "Model Year    314.0    75.898089    3.675642    70.0    73.00    76.0   \n",
       "Europe        314.0     0.178344    0.383413     0.0     0.00     0.0   \n",
       "Japan         314.0     0.197452    0.398712     0.0     0.00     0.0   \n",
       "USA           314.0     0.624204    0.485101     0.0     0.00     1.0   \n",
       "\n",
       "                  75%     max  \n",
       "Cylinders        8.00     8.0  \n",
       "Displacement   265.75   455.0  \n",
       "Horsepower     128.00   225.0  \n",
       "Weight        3608.00  5140.0  \n",
       "Acceleration    17.20    24.8  \n",
       "Model Year      79.00    82.0  \n",
       "Europe           0.00     1.0  \n",
       "Japan            0.00     1.0  \n",
       "USA              1.00     1.0  "
      ]
     },
     "execution_count": 58,
     "metadata": {},
     "output_type": "execute_result"
    }
   ],
   "source": [
    "train_stats = train_dataset.describe()\n",
    "train_stats.pop(\"MPG\")\n",
    "train_stats = train_stats.transpose()\n",
    "train_stats"
   ]
  },
  {
   "cell_type": "code",
   "execution_count": 59,
   "metadata": {},
   "outputs": [],
   "source": [
    "train_labels = train_dataset.pop(\"MPG\")\n",
    "test_labels = test_dataset.pop(\"MPG\")"
   ]
  },
  {
   "cell_type": "code",
   "execution_count": 60,
   "metadata": {},
   "outputs": [
    {
     "data": {
      "text/plain": [
       "pandas.core.frame.DataFrame"
      ]
     },
     "execution_count": 60,
     "metadata": {},
     "output_type": "execute_result"
    }
   ],
   "source": [
    "type(train_dataset)"
   ]
  },
  {
   "cell_type": "code",
   "execution_count": 61,
   "metadata": {},
   "outputs": [],
   "source": [
    "def norm(x):\n",
    "    return (x - train_stats['mean']) / train_stats['std']\n",
    "normed_train_data = norm(train_dataset)\n",
    "normed_test_data = norm(test_dataset)"
   ]
  },
  {
   "cell_type": "code",
   "execution_count": 64,
   "metadata": {},
   "outputs": [],
   "source": [
    "def build_model():\n",
    "    model = keras.Sequential([\n",
    "        layers.Dense(64, activation='relu', input_shape=[len(train_dataset.keys())]),\n",
    "        layers.Dense(64, activation='relu'),\n",
    "        layers.Dense(1)\n",
    "    ])\n",
    "    \n",
    "    optimizer = tf.keras.optimizers.RMSprop(0.001)\n",
    "    \n",
    "    model.compile(loss='mse',\n",
    "                  optimizer=optimizer,\n",
    "                  metrics=[\"mae\", \"mse\"])\n",
    "    \n",
    "    return model"
   ]
  },
  {
   "cell_type": "code",
   "execution_count": 65,
   "metadata": {},
   "outputs": [],
   "source": [
    "model = build_model()"
   ]
  },
  {
   "cell_type": "code",
   "execution_count": 66,
   "metadata": {},
   "outputs": [
    {
     "name": "stdout",
     "output_type": "stream",
     "text": [
      "Model: \"sequential_2\"\n",
      "_________________________________________________________________\n",
      "Layer (type)                 Output Shape              Param #   \n",
      "=================================================================\n",
      "dense_4 (Dense)              (None, 64)                640       \n",
      "_________________________________________________________________\n",
      "dense_5 (Dense)              (None, 64)                4160      \n",
      "_________________________________________________________________\n",
      "dense_6 (Dense)              (None, 1)                 65        \n",
      "=================================================================\n",
      "Total params: 4,865\n",
      "Trainable params: 4,865\n",
      "Non-trainable params: 0\n",
      "_________________________________________________________________\n"
     ]
    }
   ],
   "source": [
    "model.summary()"
   ]
  },
  {
   "cell_type": "code",
   "execution_count": 68,
   "metadata": {},
   "outputs": [
    {
     "data": {
      "text/plain": [
       "array([[-0.19656123],\n",
       "       [ 0.1229024 ],\n",
       "       [-0.37321544],\n",
       "       [ 0.3157431 ],\n",
       "       [ 0.59645855],\n",
       "       [-0.06702364],\n",
       "       [ 0.66149116],\n",
       "       [ 0.2746503 ],\n",
       "       [-0.14912674],\n",
       "       [ 0.5271882 ]], dtype=float32)"
      ]
     },
     "execution_count": 68,
     "metadata": {},
     "output_type": "execute_result"
    }
   ],
   "source": [
    "# Random parameters\n",
    "example_batch = normed_train_data[:10]\n",
    "example_result = model.predict(example_batch)\n",
    "example_result"
   ]
  },
  {
   "cell_type": "code",
   "execution_count": 70,
   "metadata": {},
   "outputs": [
    {
     "name": "stdout",
     "output_type": "stream",
     "text": [
      "\n",
      "Epoch: 0, loss:5.7440,  mae:1.6882,  mse:5.7440,  val_loss:7.9252,  val_mae:2.1418,  val_mse:7.9252,  \n",
      "....................................................................................................\n",
      "Epoch: 100, loss:5.2130,  mae:1.5751,  mse:5.2130,  val_loss:8.0403,  val_mae:2.2378,  val_mse:8.0403,  \n",
      "....................................................................................................\n",
      "Epoch: 200, loss:4.4621,  mae:1.4702,  mse:4.4621,  val_loss:7.9624,  val_mae:2.1487,  val_mse:7.9624,  \n",
      "....................................................................................................\n",
      "Epoch: 300, loss:4.0506,  mae:1.3729,  mse:4.0506,  val_loss:8.5439,  val_mae:2.2347,  val_mse:8.5439,  \n",
      "....................................................................................................\n",
      "Epoch: 400, loss:3.6322,  mae:1.3003,  mse:3.6322,  val_loss:8.7561,  val_mae:2.2550,  val_mse:8.7561,  \n",
      "....................................................................................................\n",
      "Epoch: 500, loss:3.3298,  mae:1.2238,  mse:3.3298,  val_loss:8.0900,  val_mae:2.1829,  val_mse:8.0900,  \n",
      "....................................................................................................\n",
      "Epoch: 600, loss:3.1761,  mae:1.1804,  mse:3.1761,  val_loss:9.1242,  val_mae:2.3546,  val_mse:9.1242,  \n",
      "....................................................................................................\n",
      "Epoch: 700, loss:2.8252,  mae:1.1325,  mse:2.8252,  val_loss:9.1386,  val_mae:2.3626,  val_mse:9.1386,  \n",
      "....................................................................................................\n",
      "Epoch: 800, loss:2.5182,  mae:1.0573,  mse:2.5182,  val_loss:9.0413,  val_mae:2.3653,  val_mse:9.0413,  \n",
      "....................................................................................................\n",
      "Epoch: 900, loss:2.3759,  mae:1.0550,  mse:2.3759,  val_loss:8.9282,  val_mae:2.3643,  val_mse:8.9282,  \n",
      "...................................................................................................."
     ]
    }
   ],
   "source": [
    "EPOCHS=1000\n",
    "\n",
    "history = model.fit(\n",
    "    normed_train_data, train_labels,\n",
    "    epochs=EPOCHS, validation_split=0.2, verbose=0,\n",
    "    callbacks=[tfdocs.modeling.EpochDots()]\n",
    ")"
   ]
  },
  {
   "cell_type": "code",
   "execution_count": 72,
   "metadata": {},
   "outputs": [
    {
     "data": {
      "text/html": [
       "<div>\n",
       "<style scoped>\n",
       "    .dataframe tbody tr th:only-of-type {\n",
       "        vertical-align: middle;\n",
       "    }\n",
       "\n",
       "    .dataframe tbody tr th {\n",
       "        vertical-align: top;\n",
       "    }\n",
       "\n",
       "    .dataframe thead th {\n",
       "        text-align: right;\n",
       "    }\n",
       "</style>\n",
       "<table border=\"1\" class=\"dataframe\">\n",
       "  <thead>\n",
       "    <tr style=\"text-align: right;\">\n",
       "      <th></th>\n",
       "      <th>loss</th>\n",
       "      <th>mae</th>\n",
       "      <th>mse</th>\n",
       "      <th>val_loss</th>\n",
       "      <th>val_mae</th>\n",
       "      <th>val_mse</th>\n",
       "      <th>epoch</th>\n",
       "    </tr>\n",
       "  </thead>\n",
       "  <tbody>\n",
       "    <tr>\n",
       "      <th>995</th>\n",
       "      <td>2.192197</td>\n",
       "      <td>1.019191</td>\n",
       "      <td>2.192197</td>\n",
       "      <td>9.025151</td>\n",
       "      <td>2.371888</td>\n",
       "      <td>9.025151</td>\n",
       "      <td>995</td>\n",
       "    </tr>\n",
       "    <tr>\n",
       "      <th>996</th>\n",
       "      <td>2.105361</td>\n",
       "      <td>0.959529</td>\n",
       "      <td>2.105361</td>\n",
       "      <td>10.335900</td>\n",
       "      <td>2.543907</td>\n",
       "      <td>10.335900</td>\n",
       "      <td>996</td>\n",
       "    </tr>\n",
       "    <tr>\n",
       "      <th>997</th>\n",
       "      <td>2.130621</td>\n",
       "      <td>0.958043</td>\n",
       "      <td>2.130621</td>\n",
       "      <td>9.520266</td>\n",
       "      <td>2.466927</td>\n",
       "      <td>9.520267</td>\n",
       "      <td>997</td>\n",
       "    </tr>\n",
       "    <tr>\n",
       "      <th>998</th>\n",
       "      <td>2.188961</td>\n",
       "      <td>0.964878</td>\n",
       "      <td>2.188961</td>\n",
       "      <td>9.268132</td>\n",
       "      <td>2.389815</td>\n",
       "      <td>9.268132</td>\n",
       "      <td>998</td>\n",
       "    </tr>\n",
       "    <tr>\n",
       "      <th>999</th>\n",
       "      <td>2.234263</td>\n",
       "      <td>0.937905</td>\n",
       "      <td>2.234263</td>\n",
       "      <td>9.270177</td>\n",
       "      <td>2.395340</td>\n",
       "      <td>9.270178</td>\n",
       "      <td>999</td>\n",
       "    </tr>\n",
       "  </tbody>\n",
       "</table>\n",
       "</div>"
      ],
      "text/plain": [
       "         loss       mae       mse   val_loss   val_mae    val_mse  epoch\n",
       "995  2.192197  1.019191  2.192197   9.025151  2.371888   9.025151    995\n",
       "996  2.105361  0.959529  2.105361  10.335900  2.543907  10.335900    996\n",
       "997  2.130621  0.958043  2.130621   9.520266  2.466927   9.520267    997\n",
       "998  2.188961  0.964878  2.188961   9.268132  2.389815   9.268132    998\n",
       "999  2.234263  0.937905  2.234263   9.270177  2.395340   9.270178    999"
      ]
     },
     "execution_count": 72,
     "metadata": {},
     "output_type": "execute_result"
    }
   ],
   "source": [
    "hist = pd.DataFrame(history.history)\n",
    "hist['epoch'] = history.epoch\n",
    "hist.tail()"
   ]
  },
  {
   "cell_type": "code",
   "execution_count": 73,
   "metadata": {},
   "outputs": [],
   "source": [
    "plotter = tfdocs.plots.HistoryPlotter(smoothing_std=2)"
   ]
  },
  {
   "cell_type": "code",
   "execution_count": 74,
   "metadata": {},
   "outputs": [
    {
     "data": {
      "text/plain": [
       "Text(0, 0.5, 'MAE [MPG]')"
      ]
     },
     "execution_count": 74,
     "metadata": {},
     "output_type": "execute_result"
    },
    {
     "data": {
      "image/png": "[encoded data removed]",
      "text/plain": [
       "<Figure size 432x288 with 1 Axes>"
      ]
     },
     "metadata": {
      "needs_background": "light"
     },
     "output_type": "display_data"
    }
   ],
   "source": [
    "plotter.plot({\"Basic\":history}, metric=\"mae\")\n",
    "plt.ylim([0,10])\n",
    "plt.ylabel(\"MAE [MPG]\")"
   ]
  },
  {
   "cell_type": "code",
   "execution_count": 75,
   "metadata": {},
   "outputs": [
    {
     "data": {
      "text/html": [
       "<div>\n",
       "<style scoped>\n",
       "    .dataframe tbody tr th:only-of-type {\n",
       "        vertical-align: middle;\n",
       "    }\n",
       "\n",
       "    .dataframe tbody tr th {\n",
       "        vertical-align: top;\n",
       "    }\n",
       "\n",
       "    .dataframe thead th {\n",
       "        text-align: right;\n",
       "    }\n",
       "</style>\n",
       "<table border=\"1\" class=\"dataframe\">\n",
       "  <thead>\n",
       "    <tr style=\"text-align: right;\">\n",
       "      <th></th>\n",
       "      <th>loss</th>\n",
       "      <th>mae</th>\n",
       "      <th>mse</th>\n",
       "      <th>val_loss</th>\n",
       "      <th>val_mae</th>\n",
       "      <th>val_mse</th>\n",
       "      <th>epoch</th>\n",
       "    </tr>\n",
       "  </thead>\n",
       "  <tbody>\n",
       "    <tr>\n",
       "      <th>0</th>\n",
       "      <td>5.744043</td>\n",
       "      <td>1.688162</td>\n",
       "      <td>5.744043</td>\n",
       "      <td>7.925249</td>\n",
       "      <td>2.141767</td>\n",
       "      <td>7.925249</td>\n",
       "      <td>0</td>\n",
       "    </tr>\n",
       "    <tr>\n",
       "      <th>1</th>\n",
       "      <td>6.111794</td>\n",
       "      <td>1.728631</td>\n",
       "      <td>6.111794</td>\n",
       "      <td>8.137748</td>\n",
       "      <td>2.140286</td>\n",
       "      <td>8.137748</td>\n",
       "      <td>1</td>\n",
       "    </tr>\n",
       "    <tr>\n",
       "      <th>2</th>\n",
       "      <td>5.900248</td>\n",
       "      <td>1.728885</td>\n",
       "      <td>5.900248</td>\n",
       "      <td>7.927488</td>\n",
       "      <td>2.148403</td>\n",
       "      <td>7.927488</td>\n",
       "      <td>2</td>\n",
       "    </tr>\n",
       "    <tr>\n",
       "      <th>3</th>\n",
       "      <td>5.674044</td>\n",
       "      <td>1.666303</td>\n",
       "      <td>5.674044</td>\n",
       "      <td>8.277759</td>\n",
       "      <td>2.187269</td>\n",
       "      <td>8.277760</td>\n",
       "      <td>3</td>\n",
       "    </tr>\n",
       "    <tr>\n",
       "      <th>4</th>\n",
       "      <td>5.994752</td>\n",
       "      <td>1.709385</td>\n",
       "      <td>5.994752</td>\n",
       "      <td>8.107254</td>\n",
       "      <td>2.136895</td>\n",
       "      <td>8.107254</td>\n",
       "      <td>4</td>\n",
       "    </tr>\n",
       "  </tbody>\n",
       "</table>\n",
       "</div>"
      ],
      "text/plain": [
       "       loss       mae       mse  val_loss   val_mae   val_mse  epoch\n",
       "0  5.744043  1.688162  5.744043  7.925249  2.141767  7.925249      0\n",
       "1  6.111794  1.728631  6.111794  8.137748  2.140286  8.137748      1\n",
       "2  5.900248  1.728885  5.900248  7.927488  2.148403  7.927488      2\n",
       "3  5.674044  1.666303  5.674044  8.277759  2.187269  8.277760      3\n",
       "4  5.994752  1.709385  5.994752  8.107254  2.136895  8.107254      4"
      ]
     },
     "execution_count": 75,
     "metadata": {},
     "output_type": "execute_result"
    }
   ],
   "source": [
    "hist.head()"
   ]
  },
  {
   "cell_type": "code",
   "execution_count": 76,
   "metadata": {},
   "outputs": [
    {
     "name": "stdout",
     "output_type": "stream",
     "text": [
      "\n",
      "Epoch: 0, loss:2.2265,  mae:0.9618,  mse:2.2265,  val_loss:9.6960,  val_mae:2.4560,  val_mse:9.6960,  \n",
      "..................."
     ]
    }
   ],
   "source": [
    "# prevent overfitting with EarlyStopping callback\n",
    "early_stop = keras.callbacks.EarlyStopping(monitor=\"val_loss\", patience=10)\n",
    "\n",
    "early_history = model.fit(normed_train_data, train_labels,\n",
    "                         epochs=EPOCHS, validation_split=0.2, verbose=0,\n",
    "                         callbacks=[early_stop, tfdocs.modeling.EpochDots()])"
   ]
  },
  {
   "cell_type": "code",
   "execution_count": 77,
   "metadata": {},
   "outputs": [
    {
     "data": {
      "text/plain": [
       "Text(0, 0.5, 'MAE [MPG]')"
      ]
     },
     "execution_count": 77,
     "metadata": {},
     "output_type": "execute_result"
    },
    {
     "data": {
      "image/png": "[encoded data removed]",
      "text/plain": [
       "<Figure size 432x288 with 1 Axes>"
      ]
     },
     "metadata": {
      "needs_background": "light"
     },
     "output_type": "display_data"
    }
   ],
   "source": [
    "plotter.plot({'Early Stopping': early_history}, metric = \"mae\")\n",
    "plt.ylim([0, 10])\n",
    "plt.ylabel('MAE [MPG]')"
   ]
  },
  {
   "cell_type": "code",
   "execution_count": 78,
   "metadata": {},
   "outputs": [
    {
     "name": "stdout",
     "output_type": "stream",
     "text": [
      "78/78 - 0s - loss: 7.6118 - mae: 2.2620 - mse: 7.6118\n"
     ]
    }
   ],
   "source": [
    "# MAE: Mean Absolute Error\n",
    "# MSE: Mean Square Error\n",
    "loss, mae, mse = model.evaluate(normed_test_data, test_labels, verbose=2)"
   ]
  },
  {
   "cell_type": "code",
   "execution_count": 79,
   "metadata": {},
   "outputs": [
    {
     "name": "stdout",
     "output_type": "stream",
     "text": [
      "Testing set Mean Abs Error:  2.26 MPG\n"
     ]
    }
   ],
   "source": [
    "print(\"Testing set Mean Abs Error: {:5.2f} MPG\".format(mae))"
   ]
  },
  {
   "cell_type": "code",
   "execution_count": 80,
   "metadata": {},
   "outputs": [
    {
     "data": {
      "image/png": "[encoded data removed]",
      "text/plain": [
       "<Figure size 432x288 with 1 Axes>"
      ]
     },
     "metadata": {
      "needs_background": "light"
     },
     "output_type": "display_data"
    }
   ],
   "source": [
    "test_predictions = model.predict(normed_test_data).flatten()\n",
    "\n",
    "a = plt.axes(aspect=\"equal\")\n",
    "plt.scatter(test_labels, test_predictions)\n",
    "plt.xlabel(\"True Values [MPG]\")\n",
    "plt.ylabel(\"Predictions [MPG]\")\n",
    "lims = [0, 50]\n",
    "plt.xlim(lims)\n",
    "plt.ylim(lims)\n",
    "\n",
    "_ = plt.plot(lims, lims)"
   ]
  },
  {
   "cell_type": "code",
   "execution_count": 81,
   "metadata": {},
   "outputs": [
    {
     "data": {
      "image/png": "[encoded data removed]",
      "text/plain": [
       "<Figure size 432x288 with 1 Axes>"
      ]
     },
     "metadata": {
      "needs_background": "light"
     },
     "output_type": "display_data"
    }
   ],
   "source": [
    "error = test_predictions - test_labels\n",
    "plt.hist(error, bins=25)\n",
    "plt.xlabel(\"Prediction Error [MPG]\")\n",
    "_ = plt.ylabel(\"Count\")"
   ]
  },
  {
   "cell_type": "markdown",
   "metadata": {},
   "source": [
    "# Overfit and underfit"
   ]
  },
  {
   "cell_type": "code",
   "execution_count": 83,
   "metadata": {},
   "outputs": [
    {
     "name": "stdout",
     "output_type": "stream",
     "text": [
      "2.1.0\n"
     ]
    }
   ],
   "source": [
    "import tensorflow as tf\n",
    "\n",
    "from tensorflow.keras import layers, regularizers\n",
    "\n",
    "print(tf.__version__)"
   ]
  },
  {
   "cell_type": "code",
   "execution_count": 84,
   "metadata": {},
   "outputs": [],
   "source": [
    "import tensorflow_docs as tfdocs\n",
    "import tensorflow_docs.modeling\n",
    "import tensorflow_docs.plots"
   ]
  },
  {
   "cell_type": "code",
   "execution_count": 85,
   "metadata": {},
   "outputs": [],
   "source": [
    "from IPython import display\n",
    "from matplotlib import pyplot as plt\n",
    "\n",
    "import numpy as np\n",
    "\n",
    "import pathlib\n",
    "import shutil\n",
    "import tempfile"
   ]
  },
  {
   "cell_type": "code",
   "execution_count": 86,
   "metadata": {},
   "outputs": [],
   "source": [
    "logdir = pathlib.Path(tempfile.mkdtemp()) / \"tensorboard_logs\"\n",
    "shutil.rmtree(logdir, ignore_errors=True)"
   ]
  },
  {
   "cell_type": "code",
   "execution_count": 87,
   "metadata": {},
   "outputs": [
    {
     "name": "stdout",
     "output_type": "stream",
     "text": [
      "Downloading data from http://mlphysics.ics.uci.edu/data/higgs/HIGGS.csv.gz\n",
      "2816409600/2816407858 [==============================] - 228s 0us/step\n"
     ]
    }
   ],
   "source": [
    "gz = tf.keras.utils.get_file('HIGGS.csv.gz', 'http://mlphysics.ics.uci.edu/data/higgs/HIGGS.csv.gz')"
   ]
  },
  {
   "cell_type": "code",
   "execution_count": 88,
   "metadata": {},
   "outputs": [],
   "source": [
    "FEATURES = 28"
   ]
  },
  {
   "cell_type": "code",
   "execution_count": 89,
   "metadata": {},
   "outputs": [],
   "source": [
    "ds = tf.data.experimental.CsvDataset(gz, [float(),]*(FEATURES+1), compression_type=\"GZIP\")"
   ]
  },
  {
   "cell_type": "code",
   "execution_count": 90,
   "metadata": {},
   "outputs": [],
   "source": [
    "def pack_row(*row):\n",
    "    label = row[0]\n",
    "    features = tf.stack(row[1:], 1) # add bias\n",
    "    return features, label"
   ]
  },
  {
   "cell_type": "code",
   "execution_count": 91,
   "metadata": {},
   "outputs": [],
   "source": [
    "packed_ds = ds.batch(10000).map(pack_row).unbatch()"
   ]
  },
  {
   "cell_type": "code",
   "execution_count": 92,
   "metadata": {},
   "outputs": [
    {
     "name": "stdout",
     "output_type": "stream",
     "text": [
      "tf.Tensor(\n",
      "[ 0.8692932  -0.6350818   0.22569026  0.32747006 -0.6899932   0.75420225\n",
      " -0.24857314 -1.0920639   0.          1.3749921  -0.6536742   0.9303491\n",
      "  1.1074361   1.1389043  -1.5781983  -1.0469854   0.          0.65792954\n",
      " -0.01045457 -0.04576717  3.1019614   1.35376     0.9795631   0.97807616\n",
      "  0.92000484  0.72165745  0.98875093  0.87667835], shape=(28,), dtype=float32)\n"
     ]
    },
    {
     "data": {
      "image/png": "[encoded data removed]",
      "text/plain": [
       "<Figure size 432x288 with 1 Axes>"
      ]
     },
     "metadata": {
      "needs_background": "light"
     },
     "output_type": "display_data"
    }
   ],
   "source": [
    "for features, label in packed_ds.batch(1000).take(1):\n",
    "    print(features[0])\n",
    "    plt.hist(features.numpy().flatten(), bins=101)"
   ]
  },
  {
   "cell_type": "code",
   "execution_count": 93,
   "metadata": {},
   "outputs": [],
   "source": [
    "N_VALIDATION = int(1e3)\n",
    "N_TRAIN = int(1e4)\n",
    "BUFFER_SIZE = int(1e4)\n",
    "BATCH_SIZE = 500\n",
    "STEPS_PER_EPOCH = N_TRAIN//BATCH_SIZE"
   ]
  },
  {
   "cell_type": "code",
   "execution_count": 95,
   "metadata": {},
   "outputs": [],
   "source": [
    "# Dataset.skip and Dataset.take\n",
    "# Dataset.cache ensures that the loader doesn't need to re-read the data from the file on each epoch\n",
    "validate_ds = packed_ds.take(N_VALIDATION).cache()\n",
    "train_ds = packed_ds.skip(N_VALIDATION).take(N_TRAIN).cache()"
   ]
  },
  {
   "cell_type": "code",
   "execution_count": 96,
   "metadata": {},
   "outputs": [
    {
     "data": {
      "text/plain": [
       "<CacheDataset shapes: ((28,), ()), types: (tf.float32, tf.float32)>"
      ]
     },
     "execution_count": 96,
     "metadata": {},
     "output_type": "execute_result"
    }
   ],
   "source": [
    "train_ds"
   ]
  },
  {
   "cell_type": "code",
   "execution_count": 97,
   "metadata": {},
   "outputs": [],
   "source": [
    "validate_ds = validate_ds.batch(BATCH_SIZE)\n",
    "# repeat is doing nothing here\n",
    "train_ds = train_ds.shuffle(BUFFER_SIZE).repeat().batch(BATCH_SIZE)"
   ]
  },
  {
   "cell_type": "code",
   "execution_count": 100,
   "metadata": {},
   "outputs": [],
   "source": [
    "# A LearningRateSchedule that uses an inverse time decay schedule.\n",
    "lr_schedule = tf.keras.optimizers.schedules.InverseTimeDecay(\n",
    "    initial_learning_rate=0.001,\n",
    "    decay_steps=STEPS_PER_EPOCH*1000,\n",
    "    decay_rate=1,\n",
    "    staircase=False\n",
    ")\n",
    "\n",
    "def get_optimizer():\n",
    "    return tf.keras.optimizers.Adam(learning_rate=lr_schedule)"
   ]
  },
  {
   "cell_type": "code",
   "execution_count": 101,
   "metadata": {},
   "outputs": [
    {
     "data": {
      "image/png": "[encoded data removed]",
      "text/plain": [
       "<Figure size 576x432 with 1 Axes>"
      ]
     },
     "metadata": {
      "needs_background": "light"
     },
     "output_type": "display_data"
    }
   ],
   "source": [
    "step = np.linspace(0, int(1e5))\n",
    "lr = lr_schedule(step)\n",
    "plt.figure(figsize=(8,6))\n",
    "plt.plot(step/STEPS_PER_EPOCH, lr)\n",
    "plt.ylim([0, max(plt.ylim())])\n",
    "plt.xlabel(\"Epoch\")\n",
    "_ = plt.ylabel(\"Learning Rate\")"
   ]
  },
  {
   "cell_type": "code",
   "execution_count": 111,
   "metadata": {},
   "outputs": [],
   "source": [
    "def get_callbacks(name):\n",
    "    return [\n",
    "        tfdocs.modeling.EpochDots(), # print a dot for each epoch\n",
    "        tf.keras.callbacks.EarlyStopping(monitor=\"val_binary_crossentropy\", patience=200),\n",
    "        tf.keras.callbacks.TensorBoard(logdir/name) # generate TensorBoard logs\n",
    "    ]"
   ]
  },
  {
   "cell_type": "code",
   "execution_count": 112,
   "metadata": {},
   "outputs": [],
   "source": [
    "def compile_and_fit(model, name, optimizer=None, max_epochs=10000):\n",
    "    if optimizer is None:\n",
    "        optimizer = get_optimizer()\n",
    "    model.compile(optimizer=optimizer,\n",
    "                 loss=tf.keras.losses.BinaryCrossentropy(from_logits=True),\n",
    "                 metrics=[tf.keras.losses.BinaryCrossentropy(\n",
    "                 from_logits=True, name=\"binary_crossentropy\"),\n",
    "                 \"accuracy\"])\n",
    "    model.summary()\n",
    "    \n",
    "    history = model.fit(\n",
    "        train_ds,\n",
    "        steps_per_epoch = STEPS_PER_EPOCH,\n",
    "        epochs=max_epochs,\n",
    "        validation_data=validate_ds,\n",
    "        callbacks=get_callbacks(name),\n",
    "        verbose=0\n",
    "    )\n",
    "    \n",
    "    return history"
   ]
  },
  {
   "cell_type": "markdown",
   "metadata": {},
   "source": [
    "## Tiny Model"
   ]
  },
  {
   "cell_type": "code",
   "execution_count": 113,
   "metadata": {},
   "outputs": [],
   "source": [
    "tiny_model = tf.keras.Sequential([\n",
    "    layers.Dense(16, activation='relu', input_shape=(FEATURES,)),\n",
    "    layers.Dense(1)\n",
    "])"
   ]
  },
  {
   "cell_type": "code",
   "execution_count": 114,
   "metadata": {},
   "outputs": [
    {
     "name": "stdout",
     "output_type": "stream",
     "text": [
      "Model: \"sequential_6\"\n",
      "_________________________________________________________________\n",
      "Layer (type)                 Output Shape              Param #   \n",
      "=================================================================\n",
      "dense_13 (Dense)             (None, 16)                464       \n",
      "_________________________________________________________________\n",
      "dense_14 (Dense)             (None, 1)                 17        \n",
      "=================================================================\n",
      "Total params: 481\n",
      "Trainable params: 481\n",
      "Non-trainable params: 0\n",
      "_________________________________________________________________\n",
      "\n",
      "Epoch: 0, accuracy:0.4832,  binary_crossentropy:0.8307,  loss:0.8307,  val_accuracy:0.4950,  val_binary_crossentropy:0.7824,  val_loss:0.7824,  \n",
      "....................................................................................................\n",
      "Epoch: 100, accuracy:0.6131,  binary_crossentropy:0.6178,  loss:0.6178,  val_accuracy:0.5760,  val_binary_crossentropy:0.6265,  val_loss:0.6265,  \n",
      "....................................................................................................\n",
      "Epoch: 200, accuracy:0.6380,  binary_crossentropy:0.5976,  loss:0.5976,  val_accuracy:0.6240,  val_binary_crossentropy:0.6010,  val_loss:0.6010,  \n",
      "....................................................................................................\n",
      "Epoch: 300, accuracy:0.6618,  binary_crossentropy:0.5870,  loss:0.5870,  val_accuracy:0.6260,  val_binary_crossentropy:0.5951,  val_loss:0.5951,  \n",
      "....................................................................................................\n",
      "Epoch: 400, accuracy:0.6711,  binary_crossentropy:0.5808,  loss:0.5808,  val_accuracy:0.6290,  val_binary_crossentropy:0.5942,  val_loss:0.5942,  \n",
      "....................................................................................................\n",
      "Epoch: 500, accuracy:0.6760,  binary_crossentropy:0.5761,  loss:0.5761,  val_accuracy:0.6400,  val_binary_crossentropy:0.5923,  val_loss:0.5923,  \n",
      "....................................................................................................\n",
      "Epoch: 600, accuracy:0.6830,  binary_crossentropy:0.5725,  loss:0.5725,  val_accuracy:0.6500,  val_binary_crossentropy:0.5929,  val_loss:0.5929,  \n",
      "....................................................................................................\n",
      "Epoch: 700, accuracy:0.6856,  binary_crossentropy:0.5689,  loss:0.5689,  val_accuracy:0.6420,  val_binary_crossentropy:0.5943,  val_loss:0.5943,  \n",
      "............................................."
     ]
    }
   ],
   "source": [
    "size_histories = {}\n",
    "size_histories['Tiny'] = compile_and_fit(tiny_model, \"sizes/Tiny\")"
   ]
  },
  {
   "cell_type": "code",
   "execution_count": 116,
   "metadata": {},
   "outputs": [
    {
     "data": {
      "text/plain": [
       "(0.5, 0.7)"
      ]
     },
     "execution_count": 116,
     "metadata": {},
     "output_type": "execute_result"
    },
    {
     "data": {
      "image/png": "[encoded data removed]",
      "text/plain": [
       "<Figure size 432x288 with 1 Axes>"
      ]
     },
     "metadata": {
      "needs_background": "light"
     },
     "output_type": "display_data"
    }
   ],
   "source": [
    "plotter = tfdocs.plots.HistoryPlotter(metric=\"binary_crossentropy\")\n",
    "plotter.plot(size_histories)\n",
    "plt.ylim([0.5, 0.7])"
   ]
  },
  {
   "cell_type": "markdown",
   "metadata": {},
   "source": [
    "## Small Model"
   ]
  },
  {
   "cell_type": "code",
   "execution_count": 117,
   "metadata": {},
   "outputs": [],
   "source": [
    "small_model = tf.keras.Sequential([\n",
    "    layers.Dense(16, activation='relu', input_shape=(FEATURES,)),\n",
    "    layers.Dense(16, activation='relu'),\n",
    "    layers.Dense(1)\n",
    "])"
   ]
  },
  {
   "cell_type": "code",
   "execution_count": 118,
   "metadata": {},
   "outputs": [
    {
     "name": "stdout",
     "output_type": "stream",
     "text": [
      "Model: \"sequential_7\"\n",
      "_________________________________________________________________\n",
      "Layer (type)                 Output Shape              Param #   \n",
      "=================================================================\n",
      "dense_15 (Dense)             (None, 16)                464       \n",
      "_________________________________________________________________\n",
      "dense_16 (Dense)             (None, 16)                272       \n",
      "_________________________________________________________________\n",
      "dense_17 (Dense)             (None, 1)                 17        \n",
      "=================================================================\n",
      "Total params: 753\n",
      "Trainable params: 753\n",
      "Non-trainable params: 0\n",
      "_________________________________________________________________\n",
      "\n",
      "Epoch: 0, accuracy:0.5042,  binary_crossentropy:0.7267,  loss:0.7267,  val_accuracy:0.4750,  val_binary_crossentropy:0.7042,  val_loss:0.7042,  \n",
      "....................................................................................................\n",
      "Epoch: 100, accuracy:0.6364,  binary_crossentropy:0.6029,  loss:0.6029,  val_accuracy:0.6210,  val_binary_crossentropy:0.6248,  val_loss:0.6248,  \n",
      "....................................................................................................\n",
      "Epoch: 200, accuracy:0.6641,  binary_crossentropy:0.5793,  loss:0.5793,  val_accuracy:0.6380,  val_binary_crossentropy:0.6166,  val_loss:0.6166,  \n",
      "....................................................................................................\n",
      "Epoch: 300, accuracy:0.6855,  binary_crossentropy:0.5673,  loss:0.5673,  val_accuracy:0.6680,  val_binary_crossentropy:0.6059,  val_loss:0.6059,  \n",
      "....................................................................................................\n",
      "Epoch: 400, accuracy:0.6923,  binary_crossentropy:0.5600,  loss:0.5600,  val_accuracy:0.6590,  val_binary_crossentropy:0.6063,  val_loss:0.6063,  \n",
      "....................................................................................................\n",
      "Epoch: 500, accuracy:0.6960,  binary_crossentropy:0.5560,  loss:0.5560,  val_accuracy:0.6750,  val_binary_crossentropy:0.6056,  val_loss:0.6056,  \n",
      "............................"
     ]
    }
   ],
   "source": [
    "size_histories['Small'] = compile_and_fit(small_model, 'sizes/Small')"
   ]
  },
  {
   "cell_type": "markdown",
   "metadata": {},
   "source": [
    "## Medium Model"
   ]
  },
  {
   "cell_type": "code",
   "execution_count": 119,
   "metadata": {},
   "outputs": [],
   "source": [
    "medium_model = tf.keras.Sequential([\n",
    "    layers.Dense(64, activation='relu', input_shape=(FEATURES,)),\n",
    "    layers.Dense(64, activation='relu'),\n",
    "    layers.Dense(64, activation='relu'),\n",
    "    layers.Dense(1)\n",
    "])"
   ]
  },
  {
   "cell_type": "code",
   "execution_count": 121,
   "metadata": {},
   "outputs": [
    {
     "name": "stdout",
     "output_type": "stream",
     "text": [
      "Model: \"sequential_8\"\n",
      "_________________________________________________________________\n",
      "Layer (type)                 Output Shape              Param #   \n",
      "=================================================================\n",
      "dense_18 (Dense)             (None, 64)                1856      \n",
      "_________________________________________________________________\n",
      "dense_19 (Dense)             (None, 64)                4160      \n",
      "_________________________________________________________________\n",
      "dense_20 (Dense)             (None, 64)                4160      \n",
      "_________________________________________________________________\n",
      "dense_21 (Dense)             (None, 1)                 65        \n",
      "=================================================================\n",
      "Total params: 10,241\n",
      "Trainable params: 10,241\n",
      "Non-trainable params: 0\n",
      "_________________________________________________________________\n",
      "\n",
      "Epoch: 0, accuracy:0.4763,  binary_crossentropy:0.6952,  loss:0.6952,  val_accuracy:0.4590,  val_binary_crossentropy:0.6870,  val_loss:0.6870,  \n",
      "....................................................................................................\n",
      "Epoch: 100, accuracy:0.8442,  binary_crossentropy:0.3411,  loss:0.3411,  val_accuracy:0.6160,  val_binary_crossentropy:0.8218,  val_loss:0.8218,  \n",
      "....................................................................................................\n",
      "Epoch: 200, accuracy:0.9285,  binary_crossentropy:0.1898,  loss:0.1898,  val_accuracy:0.6180,  val_binary_crossentropy:1.2163,  val_loss:1.2163,  \n",
      "......................"
     ]
    }
   ],
   "source": [
    "size_histories['Medium'] = compile_and_fit(medium_model, 'sizes/Medium')"
   ]
  },
  {
   "cell_type": "markdown",
   "metadata": {},
   "source": [
    "## Large Model"
   ]
  },
  {
   "cell_type": "code",
   "execution_count": 122,
   "metadata": {},
   "outputs": [],
   "source": [
    "large_model = tf.keras.Sequential([\n",
    "    layers.Dense(512, activation='relu', input_shape=(FEATURES,)),\n",
    "    layers.Dense(512, activation='relu'),\n",
    "    layers.Dense(512, activation='relu'),\n",
    "    layers.Dense(1)\n",
    "])"
   ]
  },
  {
   "cell_type": "code",
   "execution_count": 123,
   "metadata": {},
   "outputs": [
    {
     "name": "stdout",
     "output_type": "stream",
     "text": [
      "Model: \"sequential_9\"\n",
      "_________________________________________________________________\n",
      "Layer (type)                 Output Shape              Param #   \n",
      "=================================================================\n",
      "dense_22 (Dense)             (None, 512)               14848     \n",
      "_________________________________________________________________\n",
      "dense_23 (Dense)             (None, 512)               262656    \n",
      "_________________________________________________________________\n",
      "dense_24 (Dense)             (None, 512)               262656    \n",
      "_________________________________________________________________\n",
      "dense_25 (Dense)             (None, 1)                 513       \n",
      "=================================================================\n",
      "Total params: 540,673\n",
      "Trainable params: 540,673\n",
      "Non-trainable params: 0\n",
      "_________________________________________________________________\n",
      "\n",
      "Epoch: 0, accuracy:0.4841,  binary_crossentropy:0.6905,  loss:0.6905,  val_accuracy:0.5070,  val_binary_crossentropy:0.6700,  val_loss:0.6700,  \n",
      "....................................................................................................\n",
      "Epoch: 100, accuracy:1.0000,  binary_crossentropy:0.0001,  loss:0.0001,  val_accuracy:0.6390,  val_binary_crossentropy:2.9119,  val_loss:2.9119,  \n",
      "....................................................................................................\n",
      "Epoch: 200, accuracy:1.0000,  binary_crossentropy:0.0000,  loss:0.0000,  val_accuracy:0.6390,  val_binary_crossentropy:3.5188,  val_loss:3.5188,  \n",
      "........"
     ]
    }
   ],
   "source": [
    "size_histories['Large'] = compile_and_fit(large_model, 'sizes/Large')"
   ]
  },
  {
   "cell_type": "code",
   "execution_count": 124,
   "metadata": {},
   "outputs": [
    {
     "data": {
      "text/plain": [
       "Text(0.5, 0, 'Epochs [Log Scale]')"
      ]
     },
     "execution_count": 124,
     "metadata": {},
     "output_type": "execute_result"
    },
    {
     "data": {
      "image/png": "[encoded data removed]",
      "text/plain": [
       "<Figure size 432x288 with 1 Axes>"
      ]
     },
     "metadata": {
      "needs_background": "light"
     },
     "output_type": "display_data"
    }
   ],
   "source": [
    "plotter.plot(size_histories)\n",
    "a = plt.xscale(\"log\")\n",
    "plt.xlim([5, max(plt.xlim())])\n",
    "plt.ylim([0.5, 0.7])\n",
    "plt.xlabel(\"Epochs [Log Scale]\")"
   ]
  },
  {
   "cell_type": "code",
   "execution_count": 125,
   "metadata": {},
   "outputs": [
    {
     "name": "stderr",
     "output_type": "stream",
     "text": [
      "UsageError: Line magic function `%tensorboard` not found.\n"
     ]
    }
   ],
   "source": [
    "%tensorboard --logdir {logdir}/sizes"
   ]
  },
  {
   "cell_type": "code",
   "execution_count": 128,
   "metadata": {},
   "outputs": [
    {
     "data": {
      "text/plain": [
       "PosixPath('/var/folders/6r/zz9ny_rs1bx_wp4c9q41dnm40000gn/T/tmpl9rbjebi/tensorboard_logs/regularizers/Tiny')"
      ]
     },
     "execution_count": 128,
     "metadata": {},
     "output_type": "execute_result"
    }
   ],
   "source": [
    "shutil.rmtree(logdir/'regularizers/Tiny', ignore_errors=True)\n",
    "shutil.copytree(logdir/'sizes/Tiny', logdir/'regularizers/Tiny')"
   ]
  },
  {
   "cell_type": "code",
   "execution_count": 129,
   "metadata": {},
   "outputs": [],
   "source": [
    "regularizer_histories = {}\n",
    "regularizer_histories['Tiny'] = size_histories['Tiny']"
   ]
  },
  {
   "cell_type": "markdown",
   "metadata": {},
   "source": [
    "## Add weight regularization"
   ]
  },
  {
   "cell_type": "code",
   "execution_count": 135,
   "metadata": {},
   "outputs": [
    {
     "name": "stdout",
     "output_type": "stream",
     "text": [
      "Model: \"sequential_12\"\n",
      "_________________________________________________________________\n",
      "Layer (type)                 Output Shape              Param #   \n",
      "=================================================================\n",
      "dense_34 (Dense)             (None, 512)               14848     \n",
      "_________________________________________________________________\n",
      "dense_35 (Dense)             (None, 512)               262656    \n",
      "_________________________________________________________________\n",
      "dense_36 (Dense)             (None, 512)               262656    \n",
      "_________________________________________________________________\n",
      "dense_37 (Dense)             (None, 1)                 513       \n",
      "=================================================================\n",
      "Total params: 540,673\n",
      "Trainable params: 540,673\n",
      "Non-trainable params: 0\n",
      "_________________________________________________________________\n",
      "\n",
      "Epoch: 0, accuracy:0.5029,  binary_crossentropy:0.8279,  loss:1.8617,  val_accuracy:0.5510,  val_binary_crossentropy:0.7000,  val_loss:1.6859,  \n",
      "....................................................................................................\n",
      "Epoch: 100, accuracy:0.6442,  binary_crossentropy:0.6028,  loss:0.6223,  val_accuracy:0.6190,  val_binary_crossentropy:0.5911,  val_loss:0.6105,  \n",
      "....................................................................................................\n",
      "Epoch: 200, accuracy:0.6621,  binary_crossentropy:0.5904,  loss:0.6092,  val_accuracy:0.6470,  val_binary_crossentropy:0.5833,  val_loss:0.6021,  \n",
      "....................................................................................................\n",
      "Epoch: 300, accuracy:0.6732,  binary_crossentropy:0.5802,  loss:0.5990,  val_accuracy:0.6410,  val_binary_crossentropy:0.5940,  val_loss:0.6133,  \n",
      "....................................................................................................\n",
      "Epoch: 400, accuracy:0.6767,  binary_crossentropy:0.5735,  loss:0.5927,  val_accuracy:0.6310,  val_binary_crossentropy:0.5910,  val_loss:0.6100,  \n",
      "........................................................................."
     ]
    }
   ],
   "source": [
    "l2_regularizer = regularizers.l2(0.001)\n",
    "\n",
    "l2_model = tf.keras.Sequential([\n",
    "    layers.Dense(512, activation='elu', \n",
    "                 kernel_regularizer=regularizers.l2(0.001),\n",
    "                 input_shape=(FEATURES,)),\n",
    "    layers.Dense(512, activation='elu',\n",
    "                kernel_regularizer=regularizers.l2(0.001)),\n",
    "    layers.Dense(512, activation='elu',\n",
    "                kernel_regularizer=regularizers.l2(0.001)),\n",
    "    layers.Dense(1)\n",
    "])\n",
    "\n",
    "regularizer_histories['l2'] = compile_and_fit(l2_model, \"regularizers/l2\")"
   ]
  },
  {
   "cell_type": "code",
   "execution_count": 136,
   "metadata": {},
   "outputs": [
    {
     "data": {
      "text/plain": [
       "(0.5, 0.7)"
      ]
     },
     "execution_count": 136,
     "metadata": {},
     "output_type": "execute_result"
    },
    {
     "data": {
      "image/png": "[encoded data removed]",
      "text/plain": [
       "<Figure size 432x288 with 1 Axes>"
      ]
     },
     "metadata": {
      "needs_background": "light"
     },
     "output_type": "display_data"
    }
   ],
   "source": [
    "plotter.plot(regularizer_histories)\n",
    "plt.ylim([0.5, 0.7])"
   ]
  },
  {
   "cell_type": "code",
   "execution_count": 137,
   "metadata": {},
   "outputs": [],
   "source": [
    "result = l2_model(features)\n",
    "regularization_loss = tf.add_n(l2_model.losses)"
   ]
  },
  {
   "cell_type": "code",
   "execution_count": 138,
   "metadata": {},
   "outputs": [
    {
     "data": {
      "text/plain": [
       "<tf.Tensor: shape=(), dtype=float32, numpy=0.0192475>"
      ]
     },
     "execution_count": 138,
     "metadata": {},
     "output_type": "execute_result"
    }
   ],
   "source": [
    "regularization_loss"
   ]
  },
  {
   "cell_type": "markdown",
   "metadata": {},
   "source": [
    "## Add dropout"
   ]
  },
  {
   "cell_type": "code",
   "execution_count": 139,
   "metadata": {},
   "outputs": [
    {
     "name": "stdout",
     "output_type": "stream",
     "text": [
      "Model: \"sequential_13\"\n",
      "_________________________________________________________________\n",
      "Layer (type)                 Output Shape              Param #   \n",
      "=================================================================\n",
      "dense_38 (Dense)             (None, 512)               14848     \n",
      "_________________________________________________________________\n",
      "dropout (Dropout)            (None, 512)               0         \n",
      "_________________________________________________________________\n",
      "dense_39 (Dense)             (None, 512)               262656    \n",
      "_________________________________________________________________\n",
      "dropout_1 (Dropout)          (None, 512)               0         \n",
      "_________________________________________________________________\n",
      "dense_40 (Dense)             (None, 512)               262656    \n",
      "_________________________________________________________________\n",
      "dropout_2 (Dropout)          (None, 512)               0         \n",
      "_________________________________________________________________\n",
      "dense_41 (Dense)             (None, 1)                 513       \n",
      "=================================================================\n",
      "Total params: 540,673\n",
      "Trainable params: 540,673\n",
      "Non-trainable params: 0\n",
      "_________________________________________________________________\n",
      "\n",
      "Epoch: 0, accuracy:0.4991,  binary_crossentropy:0.7985,  loss:0.7985,  val_accuracy:0.4620,  val_binary_crossentropy:0.6995,  val_loss:0.6995,  \n",
      "....................................................................................................\n",
      "Epoch: 100, accuracy:0.6856,  binary_crossentropy:0.5682,  loss:0.5682,  val_accuracy:0.6730,  val_binary_crossentropy:0.5851,  val_loss:0.5851,  \n",
      "....................................................................................................\n",
      "Epoch: 200, accuracy:0.7573,  binary_crossentropy:0.4707,  loss:0.4707,  val_accuracy:0.6740,  val_binary_crossentropy:0.6160,  val_loss:0.6160,  \n",
      "....................................................................................................\n",
      "Epoch: 300, accuracy:0.8532,  binary_crossentropy:0.3149,  loss:0.3149,  val_accuracy:0.6930,  val_binary_crossentropy:0.7548,  val_loss:0.7548,  \n",
      "................"
     ]
    }
   ],
   "source": [
    "dropout_model = tf.keras.Sequential([\n",
    "    layers.Dense(512, activation='elu', input_shape=(FEATURES,)),\n",
    "    layers.Dropout(0.3),\n",
    "    layers.Dense(512, activation='elu'),\n",
    "    layers.Dropout(0.3),\n",
    "    layers.Dense(512, activation='elu'),\n",
    "    layers.Dropout(0.3),\n",
    "    layers.Dense(1)\n",
    "])\n",
    "\n",
    "regularizer_histories['dropout'] = compile_and_fit(dropout_model, \"regularizers/dropout\")"
   ]
  },
  {
   "cell_type": "code",
   "execution_count": 140,
   "metadata": {},
   "outputs": [
    {
     "data": {
      "text/plain": [
       "(0.5, 0.7)"
      ]
     },
     "execution_count": 140,
     "metadata": {},
     "output_type": "execute_result"
    },
    {
     "data": {
      "image/png": "[encoded data removed]",
      "text/plain": [
       "<Figure size 432x288 with 1 Axes>"
      ]
     },
     "metadata": {
      "needs_background": "light"
     },
     "output_type": "display_data"
    }
   ],
   "source": [
    "plotter.plot(regularizer_histories)\n",
    "plt.ylim([0.5, 0.7])"
   ]
  },
  {
   "cell_type": "markdown",
   "metadata": {},
   "source": [
    "## Combined L2 + dropout"
   ]
  },
  {
   "cell_type": "code",
   "execution_count": 145,
   "metadata": {},
   "outputs": [],
   "source": [
    "combined_model = tf.keras.Sequential([\n",
    "    layers.Dense(512, activation='elu', \n",
    "                 kernel_regularizer=regularizers.l2(0.001),\n",
    "                 input_shape=(FEATURES,)),\n",
    "    layers.Dropout(0.5),\n",
    "    layers.Dense(512, activation='elu',\n",
    "                kernel_regularizer=regularizers.l2(0.001)),\n",
    "    layers.Dropout(0.5),\n",
    "    layers.Dense(512, activation='elu',\n",
    "                kernel_regularizer=regularizers.l2(0.001)),\n",
    "    layers.Dropout(0.5),\n",
    "    layers.Dense(1)\n",
    "])"
   ]
  },
  {
   "cell_type": "code",
   "execution_count": 146,
   "metadata": {},
   "outputs": [
    {
     "name": "stdout",
     "output_type": "stream",
     "text": [
      "Model: \"sequential_16\"\n",
      "_________________________________________________________________\n",
      "Layer (type)                 Output Shape              Param #   \n",
      "=================================================================\n",
      "dense_50 (Dense)             (None, 512)               14848     \n",
      "_________________________________________________________________\n",
      "dropout_9 (Dropout)          (None, 512)               0         \n",
      "_________________________________________________________________\n",
      "dense_51 (Dense)             (None, 512)               262656    \n",
      "_________________________________________________________________\n",
      "dropout_10 (Dropout)         (None, 512)               0         \n",
      "_________________________________________________________________\n",
      "dense_52 (Dense)             (None, 512)               262656    \n",
      "_________________________________________________________________\n",
      "dropout_11 (Dropout)         (None, 512)               0         \n",
      "_________________________________________________________________\n",
      "dense_53 (Dense)             (None, 1)                 513       \n",
      "=================================================================\n",
      "Total params: 540,673\n",
      "Trainable params: 540,673\n",
      "Non-trainable params: 0\n",
      "_________________________________________________________________\n",
      "\n",
      "Epoch: 0, accuracy:0.5152,  binary_crossentropy:0.7865,  loss:1.8202,  val_accuracy:0.5600,  val_binary_crossentropy:0.6738,  val_loss:1.6564,  \n",
      "....................................................................................................\n",
      "Epoch: 100, accuracy:0.5703,  binary_crossentropy:0.6428,  loss:0.6531,  val_accuracy:0.5480,  val_binary_crossentropy:0.6354,  val_loss:0.6454,  \n",
      "....................................................................................................\n",
      "Epoch: 200, accuracy:0.5753,  binary_crossentropy:0.6431,  loss:0.6532,  val_accuracy:0.5520,  val_binary_crossentropy:0.6340,  val_loss:0.6442,  \n",
      "....................................................................................................\n",
      "Epoch: 300, accuracy:0.5766,  binary_crossentropy:0.6427,  loss:0.6523,  val_accuracy:0.5700,  val_binary_crossentropy:0.6305,  val_loss:0.6399,  \n",
      "....................................................................................................\n",
      "Epoch: 400, accuracy:0.5782,  binary_crossentropy:0.6432,  loss:0.6532,  val_accuracy:0.5620,  val_binary_crossentropy:0.6314,  val_loss:0.6412,  \n",
      "....................................................................................................\n",
      "Epoch: 500, accuracy:0.5687,  binary_crossentropy:0.6417,  loss:0.6498,  val_accuracy:0.5560,  val_binary_crossentropy:0.6302,  val_loss:0.6384,  \n",
      "....................................................................................................\n",
      "Epoch: 600, accuracy:0.5681,  binary_crossentropy:0.6427,  loss:0.6507,  val_accuracy:0.5440,  val_binary_crossentropy:0.6324,  val_loss:0.6403,  \n",
      "....................................................................................................\n",
      "Epoch: 700, accuracy:0.5607,  binary_crossentropy:0.6426,  loss:0.6503,  val_accuracy:0.5920,  val_binary_crossentropy:0.6281,  val_loss:0.6360,  \n",
      "....................................................................................................\n",
      "Epoch: 800, accuracy:0.5819,  binary_crossentropy:0.6390,  loss:0.6464,  val_accuracy:0.5680,  val_binary_crossentropy:0.6279,  val_loss:0.6353,  \n",
      "....................................................................................................\n",
      "Epoch: 900, accuracy:0.5765,  binary_crossentropy:0.6394,  loss:0.6463,  val_accuracy:0.5620,  val_binary_crossentropy:0.6298,  val_loss:0.6367,  \n",
      "....................................................................................................\n",
      "Epoch: 1000, accuracy:0.5694,  binary_crossentropy:0.6406,  loss:0.6479,  val_accuracy:0.5820,  val_binary_crossentropy:0.6270,  val_loss:0.6341,  \n",
      "....................................................................................................\n",
      "Epoch: 1100, accuracy:0.5797,  binary_crossentropy:0.6404,  loss:0.6475,  val_accuracy:0.5740,  val_binary_crossentropy:0.6283,  val_loss:0.6353,  \n",
      "..............................................."
     ]
    }
   ],
   "source": [
    "regularizer_histories['combined'] = compile_and_fit(combined_model, \"regularizers/combined\")"
   ]
  },
  {
   "cell_type": "code",
   "execution_count": 147,
   "metadata": {},
   "outputs": [
    {
     "data": {
      "text/plain": [
       "(0.5, 0.7)"
      ]
     },
     "execution_count": 147,
     "metadata": {},
     "output_type": "execute_result"
    },
    {
     "data": {
      "image/png": "[encoded data removed]",
      "text/plain": [
       "<Figure size 432x288 with 1 Axes>"
      ]
     },
     "metadata": {
      "needs_background": "light"
     },
     "output_type": "display_data"
    }
   ],
   "source": [
    "plotter.plot(regularizer_histories)\n",
    "plt.ylim([0.5, 0.7])"
   ]
  },
  {
   "cell_type": "markdown",
   "metadata": {},
   "source": [
    "# Save and load models"
   ]
  },
  {
   "cell_type": "code",
   "execution_count": 1,
   "metadata": {},
   "outputs": [],
   "source": [
    "!pip install -q pyyaml h5py"
   ]
  },
  {
   "cell_type": "code",
   "execution_count": 2,
   "metadata": {},
   "outputs": [
    {
     "name": "stdout",
     "output_type": "stream",
     "text": [
      "2.1.0\n"
     ]
    }
   ],
   "source": [
    "import os\n",
    "\n",
    "import tensorflow as tf\n",
    "from tensorflow import keras\n",
    "\n",
    "print(tf.__version__)"
   ]
  },
  {
   "cell_type": "code",
   "execution_count": 3,
   "metadata": {},
   "outputs": [],
   "source": [
    "(train_images, train_labels), (test_images, test_labels) = \\\n",
    "    tf.keras.datasets.mnist.load_data()"
   ]
  },
  {
   "cell_type": "code",
   "execution_count": 4,
   "metadata": {},
   "outputs": [],
   "source": [
    "train_labels, test_labels = train_labels[:1000], test_labels[:1000]\n",
    "\n",
    "def process(images):\n",
    "    return images[:1000].reshape(-1, 28*28) / 255.0\n",
    "train_images, test_images = process(train_images), process(test_images)"
   ]
  },
  {
   "cell_type": "code",
   "execution_count": 6,
   "metadata": {},
   "outputs": [
    {
     "name": "stdout",
     "output_type": "stream",
     "text": [
      "Model: \"sequential_1\"\n",
      "_________________________________________________________________\n",
      "Layer (type)                 Output Shape              Param #   \n",
      "=================================================================\n",
      "dense_2 (Dense)              (None, 512)               401920    \n",
      "_________________________________________________________________\n",
      "dropout_1 (Dropout)          (None, 512)               0         \n",
      "_________________________________________________________________\n",
      "dense_3 (Dense)              (None, 10)                5130      \n",
      "=================================================================\n",
      "Total params: 407,050\n",
      "Trainable params: 407,050\n",
      "Non-trainable params: 0\n",
      "_________________________________________________________________\n"
     ]
    }
   ],
   "source": [
    "def create_model():\n",
    "    model = tf.keras.models.Sequential([\n",
    "        keras.layers.Dense(512, activation='relu', input_shape=(784,)),\n",
    "        keras.layers.Dropout(0.2),\n",
    "        keras.layers.Dense(10)\n",
    "    ])\n",
    "    \n",
    "    model.compile(optimizer='adam',\n",
    "                  loss=tf.losses.SparseCategoricalCrossentropy(from_logits=True),\n",
    "                  metrics=['accuracy'])\n",
    "    return model\n",
    "\n",
    "model = create_model()\n",
    "\n",
    "model.summary()"
   ]
  },
  {
   "cell_type": "code",
   "execution_count": 7,
   "metadata": {},
   "outputs": [],
   "source": [
    "checkpoint_path = \"training_1/cp.ckpt\"\n",
    "checkpoint_dir = os.path.dirname(checkpoint_path)\n",
    "\n",
    "cp_callback = tf.keras.callbacks.ModelCheckpoint(filepath=checkpoint_path,\n",
    "                                                 save_weights_only=True,\n",
    "                                                 verbose=1)"
   ]
  },
  {
   "cell_type": "code",
   "execution_count": 8,
   "metadata": {},
   "outputs": [
    {
     "name": "stdout",
     "output_type": "stream",
     "text": [
      "Train on 1000 samples, validate on 1000 samples\n",
      "Epoch 1/10\n",
      " 544/1000 [===============>..............] - ETA: 0s - loss: 1.5699 - accuracy: 0.5202 \n",
      "Epoch 00001: saving model to training_1/cp.ckpt\n",
      "1000/1000 [==============================] - 1s 573us/sample - loss: 1.1856 - accuracy: 0.6550 - val_loss: 0.7324 - val_accuracy: 0.7850\n",
      "Epoch 2/10\n",
      " 544/1000 [===============>..............] - ETA: 0s - loss: 0.4282 - accuracy: 0.8713\n",
      "Epoch 00002: saving model to training_1/cp.ckpt\n",
      "1000/1000 [==============================] - 0s 160us/sample - loss: 0.4271 - accuracy: 0.8710 - val_loss: 0.5660 - val_accuracy: 0.8210\n",
      "Epoch 3/10\n",
      " 544/1000 [===============>..............] - ETA: 0s - loss: 0.2774 - accuracy: 0.9228\n",
      "Epoch 00003: saving model to training_1/cp.ckpt\n",
      "1000/1000 [==============================] - 0s 158us/sample - loss: 0.2717 - accuracy: 0.9300 - val_loss: 0.4794 - val_accuracy: 0.8560\n",
      "Epoch 4/10\n",
      " 576/1000 [================>.............] - ETA: 0s - loss: 0.2217 - accuracy: 0.9514\n",
      "Epoch 00004: saving model to training_1/cp.ckpt\n",
      "1000/1000 [==============================] - 0s 155us/sample - loss: 0.1977 - accuracy: 0.9550 - val_loss: 0.4472 - val_accuracy: 0.8570\n",
      "Epoch 5/10\n",
      " 576/1000 [================>.............] - ETA: 0s - loss: 0.1572 - accuracy: 0.9601\n",
      "Epoch 00005: saving model to training_1/cp.ckpt\n",
      "1000/1000 [==============================] - 0s 155us/sample - loss: 0.1524 - accuracy: 0.9620 - val_loss: 0.4227 - val_accuracy: 0.8700\n",
      "Epoch 6/10\n",
      " 544/1000 [===============>..............] - ETA: 0s - loss: 0.1211 - accuracy: 0.9724\n",
      "Epoch 00006: saving model to training_1/cp.ckpt\n",
      "1000/1000 [==============================] - 0s 158us/sample - loss: 0.1134 - accuracy: 0.9770 - val_loss: 0.4183 - val_accuracy: 0.8740\n",
      "Epoch 7/10\n",
      " 576/1000 [================>.............] - ETA: 0s - loss: 0.0811 - accuracy: 0.9844\n",
      "Epoch 00007: saving model to training_1/cp.ckpt\n",
      "1000/1000 [==============================] - 0s 157us/sample - loss: 0.0797 - accuracy: 0.9860 - val_loss: 0.4117 - val_accuracy: 0.8710\n",
      "Epoch 8/10\n",
      " 576/1000 [================>.............] - ETA: 0s - loss: 0.0578 - accuracy: 0.9983\n",
      "Epoch 00008: saving model to training_1/cp.ckpt\n",
      "1000/1000 [==============================] - 0s 157us/sample - loss: 0.0575 - accuracy: 0.9950 - val_loss: 0.4146 - val_accuracy: 0.8650\n",
      "Epoch 9/10\n",
      " 576/1000 [================>.............] - ETA: 0s - loss: 0.0528 - accuracy: 0.9931\n",
      "Epoch 00009: saving model to training_1/cp.ckpt\n",
      "1000/1000 [==============================] - 0s 154us/sample - loss: 0.0534 - accuracy: 0.9960 - val_loss: 0.4666 - val_accuracy: 0.8550\n",
      "Epoch 10/10\n",
      " 544/1000 [===============>..............] - ETA: 0s - loss: 0.0435 - accuracy: 0.9963\n",
      "Epoch 00010: saving model to training_1/cp.ckpt\n",
      "1000/1000 [==============================] - 0s 158us/sample - loss: 0.0422 - accuracy: 0.9980 - val_loss: 0.4142 - val_accuracy: 0.8750\n"
     ]
    },
    {
     "data": {
      "text/plain": [
       "<tensorflow.python.keras.callbacks.History at 0x63573af50>"
      ]
     },
     "execution_count": 8,
     "metadata": {},
     "output_type": "execute_result"
    }
   ],
   "source": [
    "model.fit(train_images, train_labels, epochs=10,\n",
    "          validation_data=(test_images, test_labels),\n",
    "          callbacks=[cp_callback])"
   ]
  },
  {
   "cell_type": "code",
   "execution_count": 11,
   "metadata": {},
   "outputs": [
    {
     "name": "stdout",
     "output_type": "stream",
     "text": [
      "checkpoint                  cp.ckpt.index\r\n",
      "cp.ckpt.data-00000-of-00001\r\n"
     ]
    }
   ],
   "source": [
    "! ls training_1"
   ]
  },
  {
   "cell_type": "code",
   "execution_count": 12,
   "metadata": {},
   "outputs": [
    {
     "name": "stdout",
     "output_type": "stream",
     "text": [
      "1000/1000 - 0s - loss: 2.3555 - accuracy: 0.0850\n",
      "Untrained model, accuracy:  8.50%\n"
     ]
    }
   ],
   "source": [
    "model = create_model()\n",
    "\n",
    "loss, acc = model.evaluate(test_images, test_labels, verbose=2)\n",
    "print(\"Untrained model, accuracy: {:5.2f}%\".format(100*acc))"
   ]
  },
  {
   "cell_type": "code",
   "execution_count": 13,
   "metadata": {},
   "outputs": [
    {
     "data": {
      "text/plain": [
       "<tensorflow.python.training.tracking.util.CheckpointLoadStatus at 0x63120f910>"
      ]
     },
     "execution_count": 13,
     "metadata": {},
     "output_type": "execute_result"
    }
   ],
   "source": [
    "model.load_weights(checkpoint_path)"
   ]
  },
  {
   "cell_type": "code",
   "execution_count": 15,
   "metadata": {},
   "outputs": [
    {
     "name": "stdout",
     "output_type": "stream",
     "text": [
      "1000/1000 - 0s - loss: 0.4142 - accuracy: 0.8750\n",
      "Restored model, accuracy: 87.50%\n"
     ]
    }
   ],
   "source": [
    "loss, acc = model.evaluate(test_images, test_labels, verbose=2)\n",
    "print(\"Restored model, accuracy: {:5.2f}%\".format(100 * acc))"
   ]
  },
  {
   "cell_type": "code",
   "execution_count": 17,
   "metadata": {},
   "outputs": [
    {
     "name": "stdout",
     "output_type": "stream",
     "text": [
      "WARNING:tensorflow:`period` argument is deprecated. Please use `save_freq` to specify the frequency in number of samples seen.\n",
      "\n",
      "Epoch 00005: saving model to training_2/cp-0005.ckpt\n",
      "\n",
      "Epoch 00010: saving model to training_2/cp-0010.ckpt\n",
      "\n",
      "Epoch 00015: saving model to training_2/cp-0015.ckpt\n",
      "\n",
      "Epoch 00020: saving model to training_2/cp-0020.ckpt\n",
      "\n",
      "Epoch 00025: saving model to training_2/cp-0025.ckpt\n",
      "\n",
      "Epoch 00030: saving model to training_2/cp-0030.ckpt\n",
      "\n",
      "Epoch 00035: saving model to training_2/cp-0035.ckpt\n",
      "\n",
      "Epoch 00040: saving model to training_2/cp-0040.ckpt\n",
      "\n",
      "Epoch 00045: saving model to training_2/cp-0045.ckpt\n",
      "\n",
      "Epoch 00050: saving model to training_2/cp-0050.ckpt\n"
     ]
    },
    {
     "data": {
      "text/plain": [
       "<tensorflow.python.keras.callbacks.History at 0x63108f550>"
      ]
     },
     "execution_count": 17,
     "metadata": {},
     "output_type": "execute_result"
    }
   ],
   "source": [
    "# use str.format\n",
    "checkpoint_path = \"training_2/cp-{epoch:04d}.ckpt\"\n",
    "checkpoint_dir = os.path.dirname(checkpoint_path)\n",
    "\n",
    "# callback that saves the model's weights every 5 epochs\n",
    "cp_callback = tf.keras.callbacks.ModelCheckpoint(\n",
    "    filepath = checkpoint_path,\n",
    "    verbose = 1,\n",
    "    save_weights_only = True,\n",
    "    period = 5\n",
    ")\n",
    "\n",
    "model = create_model()\n",
    "model.save_weights(checkpoint_path.format(epoch=0))\n",
    "\n",
    "model.fit(train_images,\n",
    "          train_labels,\n",
    "          epochs=50,\n",
    "          callbacks=[cp_callback],\n",
    "          validation_data=(test_images,test_labels),\n",
    "          verbose=0)"
   ]
  },
  {
   "cell_type": "code",
   "execution_count": 18,
   "metadata": {},
   "outputs": [
    {
     "name": "stdout",
     "output_type": "stream",
     "text": [
      "checkpoint                       cp-0025.ckpt.index\r\n",
      "cp-0000.ckpt.data-00000-of-00001 cp-0030.ckpt.data-00000-of-00001\r\n",
      "cp-0000.ckpt.index               cp-0030.ckpt.index\r\n",
      "cp-0005.ckpt.data-00000-of-00001 cp-0035.ckpt.data-00000-of-00001\r\n",
      "cp-0005.ckpt.index               cp-0035.ckpt.index\r\n",
      "cp-0010.ckpt.data-00000-of-00001 cp-0040.ckpt.data-00000-of-00001\r\n",
      "cp-0010.ckpt.index               cp-0040.ckpt.index\r\n",
      "cp-0015.ckpt.data-00000-of-00001 cp-0045.ckpt.data-00000-of-00001\r\n",
      "cp-0015.ckpt.index               cp-0045.ckpt.index\r\n",
      "cp-0020.ckpt.data-00000-of-00001 cp-0050.ckpt.data-00000-of-00001\r\n",
      "cp-0020.ckpt.index               cp-0050.ckpt.index\r\n",
      "cp-0025.ckpt.data-00000-of-00001\r\n"
     ]
    }
   ],
   "source": [
    "! ls training_2/"
   ]
  },
  {
   "cell_type": "code",
   "execution_count": 19,
   "metadata": {},
   "outputs": [
    {
     "data": {
      "text/plain": [
       "'training_2/cp-0050.ckpt'"
      ]
     },
     "execution_count": 19,
     "metadata": {},
     "output_type": "execute_result"
    }
   ],
   "source": [
    "latest = tf.train.latest_checkpoint(checkpoint_dir)\n",
    "latest"
   ]
  },
  {
   "cell_type": "code",
   "execution_count": 20,
   "metadata": {},
   "outputs": [
    {
     "name": "stdout",
     "output_type": "stream",
     "text": [
      "1000/1000 - 0s - loss: 0.4695 - accuracy: 0.8780\n",
      "Restored model, accuracy: 87.80%\n"
     ]
    }
   ],
   "source": [
    "model = create_model()\n",
    "\n",
    "model.load_weights(latest)\n",
    "\n",
    "loss, acc = model.evaluate(test_images, test_labels, verbose=2)\n",
    "print(\"Restored model, accuracy: {:5.2f}%\".format(100 * acc))"
   ]
  },
  {
   "cell_type": "code",
   "execution_count": 21,
   "metadata": {},
   "outputs": [
    {
     "name": "stdout",
     "output_type": "stream",
     "text": [
      "1000/1000 - 0s - loss: 0.4695 - accuracy: 0.8780\n",
      "Restored model, accuracy: 87.80%\n"
     ]
    }
   ],
   "source": [
    "# checkpoint format\n",
    "model.save_weights(\"./checkpoints/my_checkpoint\")\n",
    "\n",
    "model = create_model()\n",
    "\n",
    "model.load_weights(\"./checkpoints/my_checkpoint\")\n",
    "loss, acc = model.evaluate(test_images, test_labels, verbose=2)\n",
    "print(\"Restored model, accuracy: {:5.2f}%\".format(100 * acc))"
   ]
  },
  {
   "cell_type": "markdown",
   "metadata": {},
   "source": [
    "## Save the entire model"
   ]
  },
  {
   "cell_type": "code",
   "execution_count": 22,
   "metadata": {},
   "outputs": [
    {
     "name": "stdout",
     "output_type": "stream",
     "text": [
      "Train on 1000 samples\n",
      "Epoch 1/5\n",
      "1000/1000 [==============================] - 0s 311us/sample - loss: 1.2104 - accuracy: 0.6330\n",
      "Epoch 2/5\n",
      "1000/1000 [==============================] - 0s 106us/sample - loss: 0.4426 - accuracy: 0.8770\n",
      "Epoch 3/5\n",
      "1000/1000 [==============================] - 0s 96us/sample - loss: 0.2903 - accuracy: 0.9260\n",
      "Epoch 4/5\n",
      "1000/1000 [==============================] - 0s 83us/sample - loss: 0.2053 - accuracy: 0.9460\n",
      "Epoch 5/5\n",
      "1000/1000 [==============================] - 0s 85us/sample - loss: 0.1706 - accuracy: 0.9600\n",
      "WARNING:tensorflow:From /opt/anaconda3/lib/python3.7/site-packages/tensorflow_core/python/ops/resource_variable_ops.py:1786: calling BaseResourceVariable.__init__ (from tensorflow.python.ops.resource_variable_ops) with constraint is deprecated and will be removed in a future version.\n",
      "Instructions for updating:\n",
      "If using Keras pass *_constraint arguments to layers.\n",
      "INFO:tensorflow:Assets written to: saved_model/my_model/assets\n"
     ]
    }
   ],
   "source": [
    "# save model's architecture, weights, and training configuration\n",
    "# the optimizer-state if recovered, resume training from where left off\n",
    "model = create_model()\n",
    "model.fit(train_images, train_labels, epochs=5)\n",
    "\n",
    "!mkdir -p saved_model\n",
    "model.save(\"saved_model/my_model\")"
   ]
  },
  {
   "cell_type": "code",
   "execution_count": 23,
   "metadata": {},
   "outputs": [
    {
     "name": "stdout",
     "output_type": "stream",
     "text": [
      "\u001b[34mmy_model\u001b[m\u001b[m\r\n"
     ]
    }
   ],
   "source": [
    "!ls saved_model"
   ]
  },
  {
   "cell_type": "code",
   "execution_count": 24,
   "metadata": {},
   "outputs": [
    {
     "name": "stdout",
     "output_type": "stream",
     "text": [
      "\u001b[34massets\u001b[m\u001b[m         saved_model.pb \u001b[34mvariables\u001b[m\u001b[m\r\n"
     ]
    }
   ],
   "source": [
    "!ls saved_model/my_model"
   ]
  },
  {
   "cell_type": "markdown",
   "metadata": {},
   "source": [
    "### SaveModel format"
   ]
  },
  {
   "cell_type": "code",
   "execution_count": 25,
   "metadata": {},
   "outputs": [],
   "source": [
    "new_model = tf.keras.models.load_model(\"saved_model/my_model\")"
   ]
  },
  {
   "cell_type": "code",
   "execution_count": 27,
   "metadata": {},
   "outputs": [
    {
     "name": "stdout",
     "output_type": "stream",
     "text": [
      "Model: \"sequential_7\"\n",
      "_________________________________________________________________\n",
      "Layer (type)                 Output Shape              Param #   \n",
      "=================================================================\n",
      "dense_14 (Dense)             (None, 512)               401920    \n",
      "_________________________________________________________________\n",
      "dropout_7 (Dropout)          (None, 512)               0         \n",
      "_________________________________________________________________\n",
      "dense_15 (Dense)             (None, 10)                5130      \n",
      "=================================================================\n",
      "Total params: 407,050\n",
      "Trainable params: 407,050\n",
      "Non-trainable params: 0\n",
      "_________________________________________________________________\n"
     ]
    }
   ],
   "source": [
    "new_model.summary()"
   ]
  },
  {
   "cell_type": "code",
   "execution_count": 28,
   "metadata": {},
   "outputs": [
    {
     "data": {
      "text/plain": [
       "(26606998992, 26613124752)"
      ]
     },
     "execution_count": 28,
     "metadata": {},
     "output_type": "execute_result"
    }
   ],
   "source": [
    "id(model), id(new_model)"
   ]
  },
  {
   "cell_type": "code",
   "execution_count": 29,
   "metadata": {},
   "outputs": [
    {
     "name": "stdout",
     "output_type": "stream",
     "text": [
      "1000/1000 - 0s - loss: 0.4403 - accuracy: 0.8640\n",
      "Restricted model, accuracy: 86.40%\n",
      "(1000, 10)\n"
     ]
    }
   ],
   "source": [
    "loss, acc = new_model.evaluate(test_images, test_labels, verbose=2)\n",
    "print(\"Restricted model, accuracy: {:5.2f}%\".format(100*acc))\n",
    "print(new_model.predict(test_images).shape)"
   ]
  },
  {
   "cell_type": "markdown",
   "metadata": {},
   "source": [
    "### HDF5 format"
   ]
  },
  {
   "cell_type": "code",
   "execution_count": 30,
   "metadata": {},
   "outputs": [
    {
     "name": "stdout",
     "output_type": "stream",
     "text": [
      "Train on 1000 samples\n",
      "Epoch 1/5\n",
      "1000/1000 [==============================] - 0s 295us/sample - loss: 1.2107 - accuracy: 0.6640\n",
      "Epoch 2/5\n",
      "1000/1000 [==============================] - 0s 104us/sample - loss: 0.4453 - accuracy: 0.8700\n",
      "Epoch 3/5\n",
      "1000/1000 [==============================] - 0s 105us/sample - loss: 0.2765 - accuracy: 0.9370\n",
      "Epoch 4/5\n",
      "1000/1000 [==============================] - 0s 104us/sample - loss: 0.2154 - accuracy: 0.9440\n",
      "Epoch 5/5\n",
      "1000/1000 [==============================] - 0s 104us/sample - loss: 0.1498 - accuracy: 0.9770\n"
     ]
    }
   ],
   "source": [
    "model = create_model()\n",
    "model.fit(train_images, train_labels, epochs=5)\n",
    "\n",
    "model.save(\"my_model.h5\")"
   ]
  },
  {
   "cell_type": "code",
   "execution_count": 31,
   "metadata": {},
   "outputs": [
    {
     "name": "stdout",
     "output_type": "stream",
     "text": [
      "\u001b[34mcheckpoints\u001b[m\u001b[m                \u001b[34msaved_model\u001b[m\u001b[m\r\n",
      "intro_to_tensor.ipynb      \u001b[34mtraining_1\u001b[m\u001b[m\r\n",
      "ml_basics_with_keras.ipynb \u001b[34mtraining_2\u001b[m\u001b[m\r\n",
      "my_model.h5\r\n"
     ]
    }
   ],
   "source": [
    "!ls"
   ]
  },
  {
   "cell_type": "code",
   "execution_count": 32,
   "metadata": {},
   "outputs": [
    {
     "name": "stdout",
     "output_type": "stream",
     "text": [
      "Model: \"sequential_8\"\n",
      "_________________________________________________________________\n",
      "Layer (type)                 Output Shape              Param #   \n",
      "=================================================================\n",
      "dense_16 (Dense)             (None, 512)               401920    \n",
      "_________________________________________________________________\n",
      "dropout_8 (Dropout)          (None, 512)               0         \n",
      "_________________________________________________________________\n",
      "dense_17 (Dense)             (None, 10)                5130      \n",
      "=================================================================\n",
      "Total params: 407,050\n",
      "Trainable params: 407,050\n",
      "Non-trainable params: 0\n",
      "_________________________________________________________________\n"
     ]
    }
   ],
   "source": [
    "new_model = tf.keras.models.load_model(\"my_model.h5\")\n",
    "new_model.summary()"
   ]
  },
  {
   "cell_type": "code",
   "execution_count": 33,
   "metadata": {},
   "outputs": [
    {
     "name": "stdout",
     "output_type": "stream",
     "text": [
      "1000/1000 - 0s - loss: 0.4283 - accuracy: 0.8590\n",
      "Restored model, accuracy: 85.90%\n"
     ]
    }
   ],
   "source": [
    "loss, acc = new_model.evaluate(test_images,  test_labels, verbose=2)\n",
    "print('Restored model, accuracy: {:5.2f}%'.format(100*acc))"
   ]
  },
  {
   "cell_type": "markdown",
   "metadata": {},
   "source": [
    "# Tune hyperparameters with the Keras Tuner"
   ]
  },
  {
   "cell_type": "code",
   "execution_count": 34,
   "metadata": {},
   "outputs": [],
   "source": [
    "import tensorflow as tf\n",
    "from tensorflow import keras\n",
    "\n",
    "import IPython"
   ]
  },
  {
   "cell_type": "code",
   "execution_count": 35,
   "metadata": {},
   "outputs": [
    {
     "name": "stdout",
     "output_type": "stream",
     "text": [
      "WARNING:tensorflow:Unresolved object in checkpoint: (root).optimizer.iter\n",
      "WARNING:tensorflow:Unresolved object in checkpoint: (root).optimizer.beta_1\n",
      "WARNING:tensorflow:Unresolved object in checkpoint: (root).optimizer.beta_2\n",
      "WARNING:tensorflow:Unresolved object in checkpoint: (root).optimizer.decay\n",
      "WARNING:tensorflow:Unresolved object in checkpoint: (root).optimizer.learning_rate\n",
      "WARNING:tensorflow:A checkpoint was restored (e.g. tf.train.Checkpoint.restore or tf.keras.Model.load_weights) but not all checkpointed values were used. See above for specific issues. Use expect_partial() on the load status object, e.g. tf.train.Checkpoint.restore(...).expect_partial(), to silence these warnings, or use assert_consumed() to make the check explicit. See https://www.tensorflow.org/guide/checkpoint#loading_mechanics for details.\n"
     ]
    }
   ],
   "source": [
    "!pip install -q -U keras-tuner\n",
    "import kerastuner as kt"
   ]
  },
  {
   "cell_type": "code",
   "execution_count": 36,
   "metadata": {},
   "outputs": [],
   "source": [
    "(img_train, label_train), (img_test, label_test) = \\\n",
    "    keras.datasets.fashion_mnist.load_data()"
   ]
  },
  {
   "cell_type": "code",
   "execution_count": 37,
   "metadata": {},
   "outputs": [],
   "source": [
    "def norm(img):\n",
    "    return img.astype(\"float32\") / 255.0\n",
    "\n",
    "img_train, img_test = norm(img_train), norm(img_test)"
   ]
  },
  {
   "cell_type": "markdown",
   "metadata": {},
   "source": [
    "## Define the model"
   ]
  },
  {
   "cell_type": "code",
   "execution_count": 41,
   "metadata": {},
   "outputs": [],
   "source": [
    "# Hypermodel\n",
    "# 1) use a model builder function\n",
    "# 2) subclassing the HyperModel class of Keras Tuner API\n",
    "def model_builder(hp):\n",
    "    model = keras.Sequential()\n",
    "    model.add(keras.layers.Flatten(input_shape=(28,28)))\n",
    "    \n",
    "    hp_units = hp.Int('units', min_value=32, max_value=512, step=32)\n",
    "    model.add(keras.layers.Dense(units=hp_units, activation=\"relu\"))\n",
    "    model.add(keras.layers.Dense(10))\n",
    "    \n",
    "    hp_learning_rate = hp.Choice('learning_rate', values=[1e-2, 1e-3, 1e-14])\n",
    "    \n",
    "    model.compile(optimizer=keras.optimizers.Adam(learning_rate=hp_learning_rate),\n",
    "                  loss=keras.losses.SparseCategoricalCrossentropy(from_logits=True),\n",
    "                  metrics=['accuracy'])\n",
    "    \n",
    "    return model"
   ]
  },
  {
   "cell_type": "markdown",
   "metadata": {},
   "source": [
    "## Instantiate the tuner and perform hypertuning"
   ]
  },
  {
   "cell_type": "code",
   "execution_count": 42,
   "metadata": {},
   "outputs": [],
   "source": [
    "tuner = kt.Hyperband(model_builder,\n",
    "                     objective='val_accuracy',\n",
    "                     max_epochs=10,\n",
    "                     factor=3,\n",
    "                     directory='my_dir',\n",
    "                     project_name='intro_to_kt')"
   ]
  },
  {
   "cell_type": "code",
   "execution_count": 43,
   "metadata": {},
   "outputs": [],
   "source": [
    "class ClearTrainingOutput(tf.keras.callbacks.Callback):\n",
    "    def on_train_end(*args, **kwargs):\n",
    "        IPython.display.clear_output(wait=True)"
   ]
  },
  {
   "cell_type": "code",
   "execution_count": 44,
   "metadata": {},
   "outputs": [
    {
     "data": {
      "text/html": [
       "<span style=\"color:#4527A0\"><h1 style=\"font-size:18px\">Trial complete</h1></span>"
      ],
      "text/plain": [
       "<IPython.core.display.HTML object>"
      ]
     },
     "metadata": {},
     "output_type": "display_data"
    },
    {
     "data": {
      "text/html": [
       "<span style=\"color:#4527A0\"><h1 style=\"font-size:18px\">Trial summary</h1></span>"
      ],
      "text/plain": [
       "<IPython.core.display.HTML object>"
      ]
     },
     "metadata": {},
     "output_type": "display_data"
    },
    {
     "data": {
      "text/html": [
       "<span style=\"color:cyan\"> |-Trial ID: c80911a2e5123755d52d55d6466f686c</span>"
      ],
      "text/plain": [
       "<IPython.core.display.HTML object>"
      ]
     },
     "metadata": {},
     "output_type": "display_data"
    },
    {
     "data": {
      "text/html": [
       "<span style=\"color:cyan\"> |-Score: 0.8859000205993652</span>"
      ],
      "text/plain": [
       "<IPython.core.display.HTML object>"
      ]
     },
     "metadata": {},
     "output_type": "display_data"
    },
    {
     "data": {
      "text/html": [
       "<span style=\"color:cyan\"> |-Best step: 0</span>"
      ],
      "text/plain": [
       "<IPython.core.display.HTML object>"
      ]
     },
     "metadata": {},
     "output_type": "display_data"
    },
    {
     "data": {
      "text/html": [
       "<span style=\"color:#7E57C2\"><h2 style=\"font-size:16px\">Hyperparameters:</h2></span>"
      ],
      "text/plain": [
       "<IPython.core.display.HTML object>"
      ]
     },
     "metadata": {},
     "output_type": "display_data"
    },
    {
     "data": {
      "text/html": [
       "<span style=\"color:cyan\"> |-learning_rate: 0.001</span>"
      ],
      "text/plain": [
       "<IPython.core.display.HTML object>"
      ]
     },
     "metadata": {},
     "output_type": "display_data"
    },
    {
     "data": {
      "text/html": [
       "<span style=\"color:blue\"> |-tuner/bracket: 0</span>"
      ],
      "text/plain": [
       "<IPython.core.display.HTML object>"
      ]
     },
     "metadata": {},
     "output_type": "display_data"
    },
    {
     "data": {
      "text/html": [
       "<span style=\"color:cyan\"> |-tuner/epochs: 10</span>"
      ],
      "text/plain": [
       "<IPython.core.display.HTML object>"
      ]
     },
     "metadata": {},
     "output_type": "display_data"
    },
    {
     "data": {
      "text/html": [
       "<span style=\"color:blue\"> |-tuner/initial_epoch: 0</span>"
      ],
      "text/plain": [
       "<IPython.core.display.HTML object>"
      ]
     },
     "metadata": {},
     "output_type": "display_data"
    },
    {
     "data": {
      "text/html": [
       "<span style=\"color:cyan\"> |-tuner/round: 0</span>"
      ],
      "text/plain": [
       "<IPython.core.display.HTML object>"
      ]
     },
     "metadata": {},
     "output_type": "display_data"
    },
    {
     "data": {
      "text/html": [
       "<span style=\"color:blue\"> |-units: 160</span>"
      ],
      "text/plain": [
       "<IPython.core.display.HTML object>"
      ]
     },
     "metadata": {},
     "output_type": "display_data"
    },
    {
     "name": "stdout",
     "output_type": "stream",
     "text": [
      "INFO:tensorflow:Oracle triggered exit\n"
     ]
    },
    {
     "ename": "TypeError",
     "evalue": "get_best_hyperparameters() got an unexpected keyword argument 'nums_trails'",
     "output_type": "error",
     "traceback": [
      "\u001b[0;31m---------------------------------------------------------------------------\u001b[0m",
      "\u001b[0;31mTypeError\u001b[0m                                 Traceback (most recent call last)",
      "\u001b[0;32m<ipython-input-44-94e626deed56>\u001b[0m in \u001b[0;36m<module>\u001b[0;34m\u001b[0m\n\u001b[1;32m      3\u001b[0m              callbacks=[ClearTrainingOutput()])\n\u001b[1;32m      4\u001b[0m \u001b[0;34m\u001b[0m\u001b[0m\n\u001b[0;32m----> 5\u001b[0;31m \u001b[0mbest_hps\u001b[0m \u001b[0;34m=\u001b[0m \u001b[0mtuner\u001b[0m\u001b[0;34m.\u001b[0m\u001b[0mget_best_hyperparameters\u001b[0m\u001b[0;34m(\u001b[0m\u001b[0mnums_trails\u001b[0m\u001b[0;34m=\u001b[0m\u001b[0;36m1\u001b[0m\u001b[0;34m)\u001b[0m\u001b[0;34m[\u001b[0m\u001b[0;36m0\u001b[0m\u001b[0;34m]\u001b[0m\u001b[0;34m\u001b[0m\u001b[0;34m\u001b[0m\u001b[0m\n\u001b[0m",
      "\u001b[0;31mTypeError\u001b[0m: get_best_hyperparameters() got an unexpected keyword argument 'nums_trails'"
     ]
    }
   ],
   "source": [
    "tuner.search(img_train, label_train, epochs=10, \n",
    "             validation_data=(img_test, label_test),\n",
    "             callbacks=[ClearTrainingOutput()])\n",
    "\n",
    "best_hps = tuner.get_best_hyperparameters(nums_trails=1)[0]"
   ]
  },
  {
   "cell_type": "code",
   "execution_count": 47,
   "metadata": {},
   "outputs": [],
   "source": [
    "best_hps = tuner.get_best_hyperparameters(num_trials=1)[0]"
   ]
  },
  {
   "cell_type": "code",
   "execution_count": 48,
   "metadata": {},
   "outputs": [
    {
     "name": "stdout",
     "output_type": "stream",
     "text": [
      "\n",
      "The hyperparameter search is complete. The optimal number of units in the first densely-connected\n",
      "layer is 416 and the optimal learning rate for the optimizer\n",
      "is 0.001.\n",
      "\n"
     ]
    }
   ],
   "source": [
    "print(f\"\"\"\n",
    "The hyperparameter search is complete. The optimal number of units in the first densely-connected\n",
    "layer is {best_hps.get('units')} and the optimal learning rate for the optimizer\n",
    "is {best_hps.get('learning_rate')}.\n",
    "\"\"\")"
   ]
  },
  {
   "cell_type": "code",
   "execution_count": 49,
   "metadata": {},
   "outputs": [
    {
     "name": "stdout",
     "output_type": "stream",
     "text": [
      "Train on 60000 samples, validate on 10000 samples\n",
      "Epoch 1/10\n",
      "60000/60000 [==============================] - ETA: 5:13 - loss: 2.3515 - accuracy: 0.06 - ETA: 19s - loss: 1.3486 - accuracy: 0.5521 - ETA: 12s - loss: 1.1017 - accuracy: 0.624 - ETA: 10s - loss: 0.9792 - accuracy: 0.655 - ETA: 8s - loss: 0.9269 - accuracy: 0.676 - ETA: 8s - loss: 0.8640 - accuracy: 0.69 - ETA: 7s - loss: 0.8160 - accuracy: 0.71 - ETA: 6s - loss: 0.7809 - accuracy: 0.72 - ETA: 6s - loss: 0.7591 - accuracy: 0.73 - ETA: 6s - loss: 0.7403 - accuracy: 0.74 - ETA: 5s - loss: 0.7261 - accuracy: 0.74 - ETA: 5s - loss: 0.7082 - accuracy: 0.75 - ETA: 5s - loss: 0.6908 - accuracy: 0.75 - ETA: 5s - loss: 0.6837 - accuracy: 0.76 - ETA: 5s - loss: 0.6697 - accuracy: 0.76 - ETA: 5s - loss: 0.6533 - accuracy: 0.77 - ETA: 4s - loss: 0.6457 - accuracy: 0.77 - ETA: 4s - loss: 0.6364 - accuracy: 0.77 - ETA: 4s - loss: 0.6282 - accuracy: 0.77 - ETA: 4s - loss: 0.6252 - accuracy: 0.77 - ETA: 4s - loss: 0.6167 - accuracy: 0.78 - ETA: 4s - loss: 0.6105 - accuracy: 0.78 - ETA: 4s - loss: 0.6046 - accuracy: 0.78 - ETA: 4s - loss: 0.5992 - accuracy: 0.78 - ETA: 4s - loss: 0.5989 - accuracy: 0.78 - ETA: 4s - loss: 0.5964 - accuracy: 0.78 - ETA: 3s - loss: 0.5930 - accuracy: 0.79 - ETA: 3s - loss: 0.5872 - accuracy: 0.79 - ETA: 3s - loss: 0.5846 - accuracy: 0.79 - ETA: 3s - loss: 0.5823 - accuracy: 0.79 - ETA: 3s - loss: 0.5790 - accuracy: 0.79 - ETA: 3s - loss: 0.5734 - accuracy: 0.79 - ETA: 3s - loss: 0.5700 - accuracy: 0.79 - ETA: 3s - loss: 0.5667 - accuracy: 0.79 - ETA: 3s - loss: 0.5644 - accuracy: 0.80 - ETA: 3s - loss: 0.5614 - accuracy: 0.80 - ETA: 3s - loss: 0.5592 - accuracy: 0.80 - ETA: 3s - loss: 0.5557 - accuracy: 0.80 - ETA: 3s - loss: 0.5539 - accuracy: 0.80 - ETA: 3s - loss: 0.5518 - accuracy: 0.80 - ETA: 3s - loss: 0.5507 - accuracy: 0.80 - ETA: 3s - loss: 0.5474 - accuracy: 0.80 - ETA: 3s - loss: 0.5447 - accuracy: 0.80 - ETA: 2s - loss: 0.5417 - accuracy: 0.80 - ETA: 2s - loss: 0.5393 - accuracy: 0.81 - ETA: 2s - loss: 0.5376 - accuracy: 0.81 - ETA: 2s - loss: 0.5353 - accuracy: 0.81 - ETA: 2s - loss: 0.5330 - accuracy: 0.81 - ETA: 2s - loss: 0.5300 - accuracy: 0.81 - ETA: 2s - loss: 0.5279 - accuracy: 0.81 - ETA: 2s - loss: 0.5263 - accuracy: 0.81 - ETA: 2s - loss: 0.5248 - accuracy: 0.81 - ETA: 2s - loss: 0.5228 - accuracy: 0.81 - ETA: 2s - loss: 0.5215 - accuracy: 0.81 - ETA: 2s - loss: 0.5198 - accuracy: 0.81 - ETA: 2s - loss: 0.5179 - accuracy: 0.81 - ETA: 2s - loss: 0.5168 - accuracy: 0.81 - ETA: 2s - loss: 0.5154 - accuracy: 0.81 - ETA: 2s - loss: 0.5136 - accuracy: 0.81 - ETA: 2s - loss: 0.5118 - accuracy: 0.81 - ETA: 1s - loss: 0.5111 - accuracy: 0.81 - ETA: 1s - loss: 0.5098 - accuracy: 0.82 - ETA: 1s - loss: 0.5088 - accuracy: 0.82 - ETA: 1s - loss: 0.5081 - accuracy: 0.82 - ETA: 1s - loss: 0.5064 - accuracy: 0.82 - ETA: 1s - loss: 0.5045 - accuracy: 0.82 - ETA: 1s - loss: 0.5036 - accuracy: 0.82 - ETA: 1s - loss: 0.5015 - accuracy: 0.82 - ETA: 1s - loss: 0.5007 - accuracy: 0.82 - ETA: 1s - loss: 0.4996 - accuracy: 0.82 - ETA: 1s - loss: 0.4992 - accuracy: 0.82 - ETA: 1s - loss: 0.4981 - accuracy: 0.82 - ETA: 1s - loss: 0.4968 - accuracy: 0.82 - ETA: 1s - loss: 0.4953 - accuracy: 0.82 - ETA: 1s - loss: 0.4944 - accuracy: 0.82 - ETA: 1s - loss: 0.4938 - accuracy: 0.82 - ETA: 1s - loss: 0.4925 - accuracy: 0.82 - ETA: 0s - loss: 0.4911 - accuracy: 0.82 - ETA: 0s - loss: 0.4900 - accuracy: 0.82 - ETA: 0s - loss: 0.4889 - accuracy: 0.82 - ETA: 0s - loss: 0.4871 - accuracy: 0.82 - ETA: 0s - loss: 0.4870 - accuracy: 0.82 - ETA: 0s - loss: 0.4860 - accuracy: 0.82 - ETA: 0s - loss: 0.4855 - accuracy: 0.82 - ETA: 0s - loss: 0.4839 - accuracy: 0.83 - ETA: 0s - loss: 0.4829 - accuracy: 0.83 - ETA: 0s - loss: 0.4826 - accuracy: 0.83 - ETA: 0s - loss: 0.4816 - accuracy: 0.83 - ETA: 0s - loss: 0.4813 - accuracy: 0.83 - ETA: 0s - loss: 0.4803 - accuracy: 0.83 - ETA: 0s - loss: 0.4797 - accuracy: 0.83 - ETA: 0s - loss: 0.4781 - accuracy: 0.83 - ETA: 0s - loss: 0.4767 - accuracy: 0.83 - ETA: 0s - loss: 0.4760 - accuracy: 0.83 - ETA: 0s - loss: 0.4746 - accuracy: 0.83 - ETA: 0s - loss: 0.4736 - accuracy: 0.83 - ETA: 0s - loss: 0.4732 - accuracy: 0.83 - 5s 91us/sample - loss: 0.4731 - accuracy: 0.8333 - val_loss: 0.4119 - val_accuracy: 0.8480\n",
      "Epoch 2/10\n"
     ]
    },
    {
     "name": "stdout",
     "output_type": "stream",
     "text": [
      "60000/60000 [==============================] - ETA: 5s - loss: 0.0928 - accuracy: 1.00 - ETA: 4s - loss: 0.4008 - accuracy: 0.85 - ETA: 4s - loss: 0.3963 - accuracy: 0.85 - ETA: 4s - loss: 0.3909 - accuracy: 0.85 - ETA: 4s - loss: 0.4029 - accuracy: 0.85 - ETA: 4s - loss: 0.4012 - accuracy: 0.85 - ETA: 4s - loss: 0.3906 - accuracy: 0.86 - ETA: 4s - loss: 0.3840 - accuracy: 0.86 - ETA: 4s - loss: 0.3829 - accuracy: 0.86 - ETA: 4s - loss: 0.3845 - accuracy: 0.86 - ETA: 4s - loss: 0.3761 - accuracy: 0.86 - ETA: 4s - loss: 0.3736 - accuracy: 0.86 - ETA: 4s - loss: 0.3725 - accuracy: 0.86 - ETA: 4s - loss: 0.3733 - accuracy: 0.86 - ETA: 4s - loss: 0.3703 - accuracy: 0.86 - ETA: 4s - loss: 0.3728 - accuracy: 0.86 - ETA: 4s - loss: 0.3721 - accuracy: 0.86 - ETA: 4s - loss: 0.3721 - accuracy: 0.86 - ETA: 4s - loss: 0.3713 - accuracy: 0.86 - ETA: 4s - loss: 0.3707 - accuracy: 0.86 - ETA: 3s - loss: 0.3696 - accuracy: 0.86 - ETA: 3s - loss: 0.3710 - accuracy: 0.86 - ETA: 3s - loss: 0.3732 - accuracy: 0.86 - ETA: 3s - loss: 0.3730 - accuracy: 0.86 - ETA: 3s - loss: 0.3740 - accuracy: 0.86 - ETA: 3s - loss: 0.3765 - accuracy: 0.86 - ETA: 3s - loss: 0.3772 - accuracy: 0.86 - ETA: 3s - loss: 0.3750 - accuracy: 0.86 - ETA: 3s - loss: 0.3727 - accuracy: 0.86 - ETA: 3s - loss: 0.3734 - accuracy: 0.86 - ETA: 3s - loss: 0.3724 - accuracy: 0.86 - ETA: 3s - loss: 0.3731 - accuracy: 0.86 - ETA: 3s - loss: 0.3732 - accuracy: 0.86 - ETA: 3s - loss: 0.3741 - accuracy: 0.86 - ETA: 3s - loss: 0.3741 - accuracy: 0.86 - ETA: 3s - loss: 0.3743 - accuracy: 0.86 - ETA: 3s - loss: 0.3759 - accuracy: 0.86 - ETA: 3s - loss: 0.3741 - accuracy: 0.86 - ETA: 3s - loss: 0.3739 - accuracy: 0.86 - ETA: 3s - loss: 0.3729 - accuracy: 0.86 - ETA: 2s - loss: 0.3727 - accuracy: 0.86 - ETA: 2s - loss: 0.3716 - accuracy: 0.86 - ETA: 2s - loss: 0.3724 - accuracy: 0.86 - ETA: 2s - loss: 0.3732 - accuracy: 0.86 - ETA: 2s - loss: 0.3725 - accuracy: 0.86 - ETA: 2s - loss: 0.3719 - accuracy: 0.86 - ETA: 2s - loss: 0.3711 - accuracy: 0.86 - ETA: 2s - loss: 0.3708 - accuracy: 0.86 - ETA: 2s - loss: 0.3712 - accuracy: 0.86 - ETA: 2s - loss: 0.3730 - accuracy: 0.86 - ETA: 2s - loss: 0.3716 - accuracy: 0.86 - ETA: 2s - loss: 0.3713 - accuracy: 0.86 - ETA: 2s - loss: 0.3705 - accuracy: 0.86 - ETA: 2s - loss: 0.3704 - accuracy: 0.86 - ETA: 2s - loss: 0.3711 - accuracy: 0.86 - ETA: 2s - loss: 0.3711 - accuracy: 0.86 - ETA: 2s - loss: 0.3704 - accuracy: 0.86 - ETA: 1s - loss: 0.3689 - accuracy: 0.86 - ETA: 1s - loss: 0.3686 - accuracy: 0.86 - ETA: 1s - loss: 0.3679 - accuracy: 0.86 - ETA: 1s - loss: 0.3673 - accuracy: 0.86 - ETA: 1s - loss: 0.3663 - accuracy: 0.86 - ETA: 1s - loss: 0.3658 - accuracy: 0.86 - ETA: 1s - loss: 0.3656 - accuracy: 0.86 - ETA: 1s - loss: 0.3654 - accuracy: 0.86 - ETA: 1s - loss: 0.3648 - accuracy: 0.86 - ETA: 1s - loss: 0.3647 - accuracy: 0.86 - ETA: 1s - loss: 0.3644 - accuracy: 0.86 - ETA: 1s - loss: 0.3644 - accuracy: 0.86 - ETA: 1s - loss: 0.3648 - accuracy: 0.86 - ETA: 1s - loss: 0.3646 - accuracy: 0.86 - ETA: 1s - loss: 0.3635 - accuracy: 0.86 - ETA: 1s - loss: 0.3631 - accuracy: 0.86 - ETA: 1s - loss: 0.3620 - accuracy: 0.86 - ETA: 0s - loss: 0.3626 - accuracy: 0.86 - ETA: 0s - loss: 0.3631 - accuracy: 0.86 - ETA: 0s - loss: 0.3636 - accuracy: 0.86 - ETA: 0s - loss: 0.3634 - accuracy: 0.86 - ETA: 0s - loss: 0.3630 - accuracy: 0.86 - ETA: 0s - loss: 0.3624 - accuracy: 0.86 - ETA: 0s - loss: 0.3612 - accuracy: 0.86 - ETA: 0s - loss: 0.3613 - accuracy: 0.86 - ETA: 0s - loss: 0.3609 - accuracy: 0.86 - ETA: 0s - loss: 0.3609 - accuracy: 0.86 - ETA: 0s - loss: 0.3612 - accuracy: 0.86 - ETA: 0s - loss: 0.3607 - accuracy: 0.86 - ETA: 0s - loss: 0.3604 - accuracy: 0.86 - ETA: 0s - loss: 0.3606 - accuracy: 0.86 - ETA: 0s - loss: 0.3609 - accuracy: 0.86 - ETA: 0s - loss: 0.3609 - accuracy: 0.86 - ETA: 0s - loss: 0.3608 - accuracy: 0.86 - ETA: 0s - loss: 0.3603 - accuracy: 0.86 - ETA: 0s - loss: 0.3594 - accuracy: 0.86 - 5s 84us/sample - loss: 0.3594 - accuracy: 0.8686 - val_loss: 0.3737 - val_accuracy: 0.8648\n",
      "Epoch 3/10\n",
      "60000/60000 [==============================] - ETA: 5s - loss: 0.2544 - accuracy: 0.93 - ETA: 4s - loss: 0.2983 - accuracy: 0.89 - ETA: 5s - loss: 0.2882 - accuracy: 0.89 - ETA: 4s - loss: 0.3063 - accuracy: 0.88 - ETA: 4s - loss: 0.3172 - accuracy: 0.88 - ETA: 4s - loss: 0.3094 - accuracy: 0.88 - ETA: 4s - loss: 0.3181 - accuracy: 0.88 - ETA: 4s - loss: 0.3235 - accuracy: 0.88 - ETA: 4s - loss: 0.3136 - accuracy: 0.88 - ETA: 4s - loss: 0.3154 - accuracy: 0.88 - ETA: 4s - loss: 0.3184 - accuracy: 0.88 - ETA: 4s - loss: 0.3176 - accuracy: 0.88 - ETA: 4s - loss: 0.3204 - accuracy: 0.88 - ETA: 4s - loss: 0.3171 - accuracy: 0.88 - ETA: 4s - loss: 0.3153 - accuracy: 0.88 - ETA: 4s - loss: 0.3129 - accuracy: 0.88 - ETA: 3s - loss: 0.3139 - accuracy: 0.88 - ETA: 3s - loss: 0.3135 - accuracy: 0.88 - ETA: 3s - loss: 0.3136 - accuracy: 0.88 - ETA: 3s - loss: 0.3146 - accuracy: 0.88 - ETA: 3s - loss: 0.3142 - accuracy: 0.88 - ETA: 3s - loss: 0.3130 - accuracy: 0.88 - ETA: 3s - loss: 0.3146 - accuracy: 0.88 - ETA: 3s - loss: 0.3142 - accuracy: 0.88 - ETA: 3s - loss: 0.3134 - accuracy: 0.88 - ETA: 3s - loss: 0.3127 - accuracy: 0.88 - ETA: 3s - loss: 0.3137 - accuracy: 0.88 - ETA: 3s - loss: 0.3128 - accuracy: 0.88 - ETA: 3s - loss: 0.3128 - accuracy: 0.88 - ETA: 3s - loss: 0.3125 - accuracy: 0.88 - ETA: 3s - loss: 0.3141 - accuracy: 0.88 - ETA: 3s - loss: 0.3138 - accuracy: 0.88 - ETA: 3s - loss: 0.3134 - accuracy: 0.88 - ETA: 3s - loss: 0.3133 - accuracy: 0.88 - ETA: 3s - loss: 0.3119 - accuracy: 0.88 - ETA: 2s - loss: 0.3138 - accuracy: 0.88 - ETA: 2s - loss: 0.3155 - accuracy: 0.88 - ETA: 2s - loss: 0.3154 - accuracy: 0.88 - ETA: 2s - loss: 0.3146 - accuracy: 0.88 - ETA: 2s - loss: 0.3164 - accuracy: 0.88 - ETA: 2s - loss: 0.3181 - accuracy: 0.88 - ETA: 2s - loss: 0.3186 - accuracy: 0.88 - ETA: 2s - loss: 0.3177 - accuracy: 0.88 - ETA: 2s - loss: 0.3174 - accuracy: 0.88 - ETA: 2s - loss: 0.3182 - accuracy: 0.88 - ETA: 2s - loss: 0.3193 - accuracy: 0.88 - ETA: 2s - loss: 0.3207 - accuracy: 0.88 - ETA: 2s - loss: 0.3208 - accuracy: 0.88 - ETA: 2s - loss: 0.3215 - accuracy: 0.88 - ETA: 2s - loss: 0.3207 - accuracy: 0.88 - ETA: 2s - loss: 0.3207 - accuracy: 0.88 - ETA: 2s - loss: 0.3208 - accuracy: 0.88 - ETA: 2s - loss: 0.3208 - accuracy: 0.88 - ETA: 2s - loss: 0.3205 - accuracy: 0.88 - ETA: 1s - loss: 0.3205 - accuracy: 0.88 - ETA: 1s - loss: 0.3210 - accuracy: 0.88 - ETA: 1s - loss: 0.3216 - accuracy: 0.88 - ETA: 1s - loss: 0.3216 - accuracy: 0.88 - ETA: 1s - loss: 0.3206 - accuracy: 0.88 - ETA: 1s - loss: 0.3207 - accuracy: 0.88 - ETA: 1s - loss: 0.3211 - accuracy: 0.88 - ETA: 1s - loss: 0.3209 - accuracy: 0.88 - ETA: 1s - loss: 0.3210 - accuracy: 0.88 - ETA: 1s - loss: 0.3213 - accuracy: 0.88 - ETA: 1s - loss: 0.3217 - accuracy: 0.88 - ETA: 1s - loss: 0.3218 - accuracy: 0.88 - ETA: 1s - loss: 0.3215 - accuracy: 0.88 - ETA: 1s - loss: 0.3216 - accuracy: 0.88 - ETA: 1s - loss: 0.3219 - accuracy: 0.88 - ETA: 1s - loss: 0.3213 - accuracy: 0.88 - ETA: 1s - loss: 0.3215 - accuracy: 0.88 - ETA: 1s - loss: 0.3217 - accuracy: 0.88 - ETA: 1s - loss: 0.3216 - accuracy: 0.88 - ETA: 1s - loss: 0.3211 - accuracy: 0.88 - ETA: 0s - loss: 0.3212 - accuracy: 0.88 - ETA: 0s - loss: 0.3213 - accuracy: 0.88 - ETA: 0s - loss: 0.3213 - accuracy: 0.88 - ETA: 0s - loss: 0.3207 - accuracy: 0.88 - ETA: 0s - loss: 0.3206 - accuracy: 0.88 - ETA: 0s - loss: 0.3204 - accuracy: 0.88 - ETA: 0s - loss: 0.3208 - accuracy: 0.88 - ETA: 0s - loss: 0.3211 - accuracy: 0.88 - ETA: 0s - loss: 0.3205 - accuracy: 0.88 - ETA: 0s - loss: 0.3206 - accuracy: 0.88 - ETA: 0s - loss: 0.3206 - accuracy: 0.88 - ETA: 0s - loss: 0.3203 - accuracy: 0.88 - ETA: 0s - loss: 0.3215 - accuracy: 0.88 - ETA: 0s - loss: 0.3220 - accuracy: 0.88 - ETA: 0s - loss: 0.3220 - accuracy: 0.88 - ETA: 0s - loss: 0.3215 - accuracy: 0.88 - ETA: 0s - loss: 0.3218 - accuracy: 0.88 - ETA: 0s - loss: 0.3215 - accuracy: 0.88 - ETA: 0s - loss: 0.3213 - accuracy: 0.88 - ETA: 0s - loss: 0.3212 - accuracy: 0.88 - ETA: 0s - loss: 0.3214 - accuracy: 0.88 - 5s 86us/sample - loss: 0.3219 - accuracy: 0.8829 - val_loss: 0.3553 - val_accuracy: 0.8718\n"
     ]
    },
    {
     "name": "stdout",
     "output_type": "stream",
     "text": [
      "Epoch 4/10\n",
      "60000/60000 [==============================] - ETA: 5s - loss: 0.3973 - accuracy: 0.87 - ETA: 4s - loss: 0.2905 - accuracy: 0.89 - ETA: 4s - loss: 0.2810 - accuracy: 0.90 - ETA: 4s - loss: 0.2734 - accuracy: 0.90 - ETA: 4s - loss: 0.2797 - accuracy: 0.90 - ETA: 4s - loss: 0.2833 - accuracy: 0.89 - ETA: 4s - loss: 0.2750 - accuracy: 0.90 - ETA: 4s - loss: 0.2749 - accuracy: 0.90 - ETA: 4s - loss: 0.2723 - accuracy: 0.90 - ETA: 4s - loss: 0.2781 - accuracy: 0.89 - ETA: 4s - loss: 0.2775 - accuracy: 0.89 - ETA: 4s - loss: 0.2793 - accuracy: 0.89 - ETA: 4s - loss: 0.2819 - accuracy: 0.89 - ETA: 4s - loss: 0.2858 - accuracy: 0.89 - ETA: 4s - loss: 0.2855 - accuracy: 0.89 - ETA: 4s - loss: 0.2853 - accuracy: 0.89 - ETA: 4s - loss: 0.2880 - accuracy: 0.89 - ETA: 4s - loss: 0.2878 - accuracy: 0.89 - ETA: 4s - loss: 0.2848 - accuracy: 0.89 - ETA: 4s - loss: 0.2858 - accuracy: 0.89 - ETA: 3s - loss: 0.2855 - accuracy: 0.89 - ETA: 3s - loss: 0.2866 - accuracy: 0.89 - ETA: 3s - loss: 0.2839 - accuracy: 0.89 - ETA: 3s - loss: 0.2869 - accuracy: 0.89 - ETA: 3s - loss: 0.2883 - accuracy: 0.89 - ETA: 3s - loss: 0.2893 - accuracy: 0.89 - ETA: 3s - loss: 0.2871 - accuracy: 0.89 - ETA: 3s - loss: 0.2871 - accuracy: 0.89 - ETA: 3s - loss: 0.2895 - accuracy: 0.89 - ETA: 3s - loss: 0.2906 - accuracy: 0.89 - ETA: 3s - loss: 0.2905 - accuracy: 0.89 - ETA: 3s - loss: 0.2902 - accuracy: 0.89 - ETA: 3s - loss: 0.2898 - accuracy: 0.89 - ETA: 3s - loss: 0.2901 - accuracy: 0.89 - ETA: 3s - loss: 0.2900 - accuracy: 0.89 - ETA: 3s - loss: 0.2916 - accuracy: 0.89 - ETA: 3s - loss: 0.2928 - accuracy: 0.89 - ETA: 3s - loss: 0.2917 - accuracy: 0.89 - ETA: 2s - loss: 0.2922 - accuracy: 0.89 - ETA: 2s - loss: 0.2923 - accuracy: 0.89 - ETA: 2s - loss: 0.2933 - accuracy: 0.89 - ETA: 2s - loss: 0.2940 - accuracy: 0.89 - ETA: 2s - loss: 0.2951 - accuracy: 0.89 - ETA: 2s - loss: 0.2969 - accuracy: 0.89 - ETA: 2s - loss: 0.2972 - accuracy: 0.89 - ETA: 2s - loss: 0.2966 - accuracy: 0.89 - ETA: 2s - loss: 0.2965 - accuracy: 0.89 - ETA: 2s - loss: 0.2963 - accuracy: 0.89 - ETA: 2s - loss: 0.2971 - accuracy: 0.89 - ETA: 2s - loss: 0.2971 - accuracy: 0.89 - ETA: 2s - loss: 0.2970 - accuracy: 0.89 - ETA: 2s - loss: 0.2964 - accuracy: 0.89 - ETA: 2s - loss: 0.2967 - accuracy: 0.89 - ETA: 2s - loss: 0.2968 - accuracy: 0.89 - ETA: 2s - loss: 0.2968 - accuracy: 0.89 - ETA: 2s - loss: 0.2967 - accuracy: 0.89 - ETA: 2s - loss: 0.2966 - accuracy: 0.89 - ETA: 1s - loss: 0.2968 - accuracy: 0.89 - ETA: 1s - loss: 0.2964 - accuracy: 0.89 - ETA: 1s - loss: 0.2969 - accuracy: 0.89 - ETA: 1s - loss: 0.2975 - accuracy: 0.89 - ETA: 1s - loss: 0.2973 - accuracy: 0.89 - ETA: 1s - loss: 0.2971 - accuracy: 0.89 - ETA: 1s - loss: 0.2975 - accuracy: 0.89 - ETA: 1s - loss: 0.2977 - accuracy: 0.89 - ETA: 1s - loss: 0.2975 - accuracy: 0.89 - ETA: 1s - loss: 0.2970 - accuracy: 0.89 - ETA: 1s - loss: 0.2972 - accuracy: 0.89 - ETA: 1s - loss: 0.2973 - accuracy: 0.89 - ETA: 1s - loss: 0.2971 - accuracy: 0.89 - ETA: 1s - loss: 0.2977 - accuracy: 0.89 - ETA: 1s - loss: 0.2979 - accuracy: 0.89 - ETA: 1s - loss: 0.2985 - accuracy: 0.89 - ETA: 1s - loss: 0.2985 - accuracy: 0.89 - ETA: 1s - loss: 0.2980 - accuracy: 0.89 - ETA: 1s - loss: 0.2979 - accuracy: 0.89 - ETA: 1s - loss: 0.2978 - accuracy: 0.89 - ETA: 0s - loss: 0.2978 - accuracy: 0.89 - ETA: 0s - loss: 0.2978 - accuracy: 0.89 - ETA: 0s - loss: 0.2973 - accuracy: 0.89 - ETA: 0s - loss: 0.2969 - accuracy: 0.89 - ETA: 0s - loss: 0.2975 - accuracy: 0.89 - ETA: 0s - loss: 0.2985 - accuracy: 0.89 - ETA: 0s - loss: 0.2986 - accuracy: 0.89 - ETA: 0s - loss: 0.2982 - accuracy: 0.89 - ETA: 0s - loss: 0.2985 - accuracy: 0.89 - ETA: 0s - loss: 0.2988 - accuracy: 0.89 - ETA: 0s - loss: 0.2988 - accuracy: 0.89 - ETA: 0s - loss: 0.2985 - accuracy: 0.89 - ETA: 0s - loss: 0.2982 - accuracy: 0.89 - ETA: 0s - loss: 0.2977 - accuracy: 0.89 - ETA: 0s - loss: 0.2971 - accuracy: 0.89 - ETA: 0s - loss: 0.2970 - accuracy: 0.89 - ETA: 0s - loss: 0.2971 - accuracy: 0.89 - ETA: 0s - loss: 0.2974 - accuracy: 0.89 - ETA: 0s - loss: 0.2983 - accuracy: 0.89 - 5s 86us/sample - loss: 0.2980 - accuracy: 0.8907 - val_loss: 0.3653 - val_accuracy: 0.8658\n",
      "Epoch 5/10\n",
      "60000/60000 [==============================] - ETA: 5s - loss: 0.2302 - accuracy: 0.93 - ETA: 4s - loss: 0.3079 - accuracy: 0.88 - ETA: 4s - loss: 0.3165 - accuracy: 0.88 - ETA: 4s - loss: 0.3056 - accuracy: 0.88 - ETA: 4s - loss: 0.2983 - accuracy: 0.88 - ETA: 4s - loss: 0.2991 - accuracy: 0.88 - ETA: 4s - loss: 0.2932 - accuracy: 0.89 - ETA: 4s - loss: 0.2931 - accuracy: 0.89 - ETA: 4s - loss: 0.2843 - accuracy: 0.89 - ETA: 4s - loss: 0.2888 - accuracy: 0.89 - ETA: 4s - loss: 0.2882 - accuracy: 0.89 - ETA: 4s - loss: 0.2926 - accuracy: 0.89 - ETA: 4s - loss: 0.2949 - accuracy: 0.89 - ETA: 4s - loss: 0.2941 - accuracy: 0.89 - ETA: 4s - loss: 0.2921 - accuracy: 0.89 - ETA: 4s - loss: 0.2896 - accuracy: 0.89 - ETA: 4s - loss: 0.2901 - accuracy: 0.89 - ETA: 4s - loss: 0.2895 - accuracy: 0.89 - ETA: 3s - loss: 0.2886 - accuracy: 0.89 - ETA: 3s - loss: 0.2892 - accuracy: 0.89 - ETA: 3s - loss: 0.2885 - accuracy: 0.89 - ETA: 3s - loss: 0.2873 - accuracy: 0.89 - ETA: 3s - loss: 0.2872 - accuracy: 0.89 - ETA: 3s - loss: 0.2864 - accuracy: 0.89 - ETA: 3s - loss: 0.2855 - accuracy: 0.89 - ETA: 3s - loss: 0.2842 - accuracy: 0.89 - ETA: 3s - loss: 0.2843 - accuracy: 0.89 - ETA: 3s - loss: 0.2821 - accuracy: 0.89 - ETA: 3s - loss: 0.2824 - accuracy: 0.89 - ETA: 3s - loss: 0.2809 - accuracy: 0.89 - ETA: 3s - loss: 0.2806 - accuracy: 0.89 - ETA: 3s - loss: 0.2817 - accuracy: 0.89 - ETA: 3s - loss: 0.2823 - accuracy: 0.89 - ETA: 3s - loss: 0.2816 - accuracy: 0.89 - ETA: 3s - loss: 0.2837 - accuracy: 0.89 - ETA: 3s - loss: 0.2837 - accuracy: 0.89 - ETA: 3s - loss: 0.2834 - accuracy: 0.89 - ETA: 2s - loss: 0.2839 - accuracy: 0.89 - ETA: 2s - loss: 0.2836 - accuracy: 0.89 - ETA: 2s - loss: 0.2855 - accuracy: 0.89 - ETA: 2s - loss: 0.2869 - accuracy: 0.89 - ETA: 2s - loss: 0.2871 - accuracy: 0.89 - ETA: 2s - loss: 0.2867 - accuracy: 0.89 - ETA: 2s - loss: 0.2872 - accuracy: 0.89 - ETA: 2s - loss: 0.2859 - accuracy: 0.89 - ETA: 2s - loss: 0.2855 - accuracy: 0.89 - ETA: 2s - loss: 0.2847 - accuracy: 0.89 - ETA: 2s - loss: 0.2849 - accuracy: 0.89 - ETA: 2s - loss: 0.2847 - accuracy: 0.89 - ETA: 2s - loss: 0.2847 - accuracy: 0.89 - ETA: 2s - loss: 0.2848 - accuracy: 0.89 - ETA: 2s - loss: 0.2849 - accuracy: 0.89 - ETA: 2s - loss: 0.2840 - accuracy: 0.89 - ETA: 2s - loss: 0.2840 - accuracy: 0.89 - ETA: 2s - loss: 0.2828 - accuracy: 0.89 - ETA: 2s - loss: 0.2831 - accuracy: 0.89 - ETA: 2s - loss: 0.2827 - accuracy: 0.89 - ETA: 1s - loss: 0.2824 - accuracy: 0.89 - ETA: 1s - loss: 0.2824 - accuracy: 0.89 - ETA: 1s - loss: 0.2823 - accuracy: 0.89 - ETA: 1s - loss: 0.2823 - accuracy: 0.89 - ETA: 1s - loss: 0.2823 - accuracy: 0.89 - ETA: 1s - loss: 0.2819 - accuracy: 0.89 - ETA: 1s - loss: 0.2819 - accuracy: 0.89 - ETA: 1s - loss: 0.2834 - accuracy: 0.89 - ETA: 1s - loss: 0.2837 - accuracy: 0.89 - ETA: 1s - loss: 0.2833 - accuracy: 0.89 - ETA: 1s - loss: 0.2832 - accuracy: 0.89 - ETA: 1s - loss: 0.2828 - accuracy: 0.89 - ETA: 1s - loss: 0.2824 - accuracy: 0.89 - ETA: 1s - loss: 0.2821 - accuracy: 0.89 - ETA: 1s - loss: 0.2823 - accuracy: 0.89 - ETA: 1s - loss: 0.2826 - accuracy: 0.89 - ETA: 1s - loss: 0.2832 - accuracy: 0.89 - ETA: 1s - loss: 0.2834 - accuracy: 0.89 - ETA: 0s - loss: 0.2835 - accuracy: 0.89 - ETA: 0s - loss: 0.2840 - accuracy: 0.89 - ETA: 0s - loss: 0.2837 - accuracy: 0.89 - ETA: 0s - loss: 0.2834 - accuracy: 0.89 - ETA: 0s - loss: 0.2838 - accuracy: 0.89 - ETA: 0s - loss: 0.2841 - accuracy: 0.89 - ETA: 0s - loss: 0.2845 - accuracy: 0.89 - ETA: 0s - loss: 0.2843 - accuracy: 0.89 - ETA: 0s - loss: 0.2838 - accuracy: 0.89 - ETA: 0s - loss: 0.2838 - accuracy: 0.89 - ETA: 0s - loss: 0.2837 - accuracy: 0.89 - ETA: 0s - loss: 0.2836 - accuracy: 0.89 - ETA: 0s - loss: 0.2834 - accuracy: 0.89 - ETA: 0s - loss: 0.2829 - accuracy: 0.89 - ETA: 0s - loss: 0.2825 - accuracy: 0.89 - ETA: 0s - loss: 0.2824 - accuracy: 0.89 - ETA: 0s - loss: 0.2821 - accuracy: 0.89 - ETA: 0s - loss: 0.2824 - accuracy: 0.89 - ETA: 0s - loss: 0.2820 - accuracy: 0.89 - 5s 84us/sample - loss: 0.2816 - accuracy: 0.8959 - val_loss: 0.3324 - val_accuracy: 0.8833\n"
     ]
    },
    {
     "name": "stdout",
     "output_type": "stream",
     "text": [
      "Epoch 6/10\n",
      "60000/60000 [==============================] - ETA: 5s - loss: 0.5729 - accuracy: 0.81 - ETA: 4s - loss: 0.2555 - accuracy: 0.88 - ETA: 4s - loss: 0.2700 - accuracy: 0.88 - ETA: 4s - loss: 0.2845 - accuracy: 0.88 - ETA: 4s - loss: 0.2822 - accuracy: 0.88 - ETA: 4s - loss: 0.2730 - accuracy: 0.89 - ETA: 4s - loss: 0.2690 - accuracy: 0.89 - ETA: 4s - loss: 0.2644 - accuracy: 0.89 - ETA: 4s - loss: 0.2686 - accuracy: 0.89 - ETA: 4s - loss: 0.2726 - accuracy: 0.89 - ETA: 4s - loss: 0.2724 - accuracy: 0.89 - ETA: 4s - loss: 0.2703 - accuracy: 0.89 - ETA: 4s - loss: 0.2689 - accuracy: 0.89 - ETA: 4s - loss: 0.2679 - accuracy: 0.90 - ETA: 4s - loss: 0.2681 - accuracy: 0.90 - ETA: 4s - loss: 0.2676 - accuracy: 0.90 - ETA: 4s - loss: 0.2692 - accuracy: 0.90 - ETA: 4s - loss: 0.2684 - accuracy: 0.90 - ETA: 4s - loss: 0.2696 - accuracy: 0.89 - ETA: 4s - loss: 0.2696 - accuracy: 0.89 - ETA: 4s - loss: 0.2698 - accuracy: 0.89 - ETA: 3s - loss: 0.2678 - accuracy: 0.90 - ETA: 3s - loss: 0.2662 - accuracy: 0.90 - ETA: 3s - loss: 0.2653 - accuracy: 0.90 - ETA: 3s - loss: 0.2651 - accuracy: 0.90 - ETA: 3s - loss: 0.2641 - accuracy: 0.90 - ETA: 3s - loss: 0.2620 - accuracy: 0.90 - ETA: 3s - loss: 0.2616 - accuracy: 0.90 - ETA: 3s - loss: 0.2626 - accuracy: 0.90 - ETA: 3s - loss: 0.2626 - accuracy: 0.90 - ETA: 3s - loss: 0.2636 - accuracy: 0.90 - ETA: 3s - loss: 0.2634 - accuracy: 0.90 - ETA: 3s - loss: 0.2640 - accuracy: 0.90 - ETA: 3s - loss: 0.2661 - accuracy: 0.90 - ETA: 3s - loss: 0.2647 - accuracy: 0.90 - ETA: 3s - loss: 0.2650 - accuracy: 0.90 - ETA: 3s - loss: 0.2641 - accuracy: 0.90 - ETA: 3s - loss: 0.2637 - accuracy: 0.90 - ETA: 3s - loss: 0.2636 - accuracy: 0.90 - ETA: 2s - loss: 0.2643 - accuracy: 0.90 - ETA: 2s - loss: 0.2637 - accuracy: 0.90 - ETA: 2s - loss: 0.2628 - accuracy: 0.90 - ETA: 2s - loss: 0.2628 - accuracy: 0.90 - ETA: 2s - loss: 0.2640 - accuracy: 0.90 - ETA: 2s - loss: 0.2628 - accuracy: 0.90 - ETA: 2s - loss: 0.2620 - accuracy: 0.90 - ETA: 2s - loss: 0.2625 - accuracy: 0.90 - ETA: 2s - loss: 0.2630 - accuracy: 0.90 - ETA: 2s - loss: 0.2630 - accuracy: 0.90 - ETA: 2s - loss: 0.2635 - accuracy: 0.90 - ETA: 2s - loss: 0.2633 - accuracy: 0.90 - ETA: 2s - loss: 0.2634 - accuracy: 0.90 - ETA: 2s - loss: 0.2644 - accuracy: 0.90 - ETA: 2s - loss: 0.2643 - accuracy: 0.90 - ETA: 2s - loss: 0.2645 - accuracy: 0.90 - ETA: 2s - loss: 0.2640 - accuracy: 0.90 - ETA: 2s - loss: 0.2641 - accuracy: 0.90 - ETA: 2s - loss: 0.2634 - accuracy: 0.90 - ETA: 1s - loss: 0.2637 - accuracy: 0.90 - ETA: 1s - loss: 0.2638 - accuracy: 0.90 - ETA: 1s - loss: 0.2648 - accuracy: 0.90 - ETA: 1s - loss: 0.2649 - accuracy: 0.90 - ETA: 1s - loss: 0.2648 - accuracy: 0.90 - ETA: 1s - loss: 0.2647 - accuracy: 0.90 - ETA: 1s - loss: 0.2642 - accuracy: 0.90 - ETA: 1s - loss: 0.2647 - accuracy: 0.90 - ETA: 1s - loss: 0.2649 - accuracy: 0.90 - ETA: 1s - loss: 0.2650 - accuracy: 0.90 - ETA: 1s - loss: 0.2652 - accuracy: 0.90 - ETA: 1s - loss: 0.2653 - accuracy: 0.90 - ETA: 1s - loss: 0.2654 - accuracy: 0.90 - ETA: 1s - loss: 0.2648 - accuracy: 0.90 - ETA: 1s - loss: 0.2650 - accuracy: 0.90 - ETA: 1s - loss: 0.2648 - accuracy: 0.90 - ETA: 1s - loss: 0.2653 - accuracy: 0.90 - ETA: 1s - loss: 0.2654 - accuracy: 0.90 - ETA: 1s - loss: 0.2660 - accuracy: 0.90 - ETA: 1s - loss: 0.2660 - accuracy: 0.90 - ETA: 0s - loss: 0.2659 - accuracy: 0.90 - ETA: 0s - loss: 0.2660 - accuracy: 0.90 - ETA: 0s - loss: 0.2664 - accuracy: 0.90 - ETA: 0s - loss: 0.2667 - accuracy: 0.90 - ETA: 0s - loss: 0.2671 - accuracy: 0.90 - ETA: 0s - loss: 0.2674 - accuracy: 0.90 - ETA: 0s - loss: 0.2676 - accuracy: 0.90 - ETA: 0s - loss: 0.2678 - accuracy: 0.90 - ETA: 0s - loss: 0.2676 - accuracy: 0.90 - ETA: 0s - loss: 0.2673 - accuracy: 0.90 - ETA: 0s - loss: 0.2676 - accuracy: 0.90 - ETA: 0s - loss: 0.2673 - accuracy: 0.90 - ETA: 0s - loss: 0.2677 - accuracy: 0.90 - ETA: 0s - loss: 0.2673 - accuracy: 0.90 - ETA: 0s - loss: 0.2674 - accuracy: 0.90 - ETA: 0s - loss: 0.2678 - accuracy: 0.90 - ETA: 0s - loss: 0.2673 - accuracy: 0.90 - ETA: 0s - loss: 0.2669 - accuracy: 0.90 - 5s 86us/sample - loss: 0.2670 - accuracy: 0.9009 - val_loss: 0.3507 - val_accuracy: 0.8748\n",
      "Epoch 7/10\n"
     ]
    },
    {
     "name": "stdout",
     "output_type": "stream",
     "text": [
      "60000/60000 [==============================] - ETA: 5s - loss: 0.3193 - accuracy: 0.87 - ETA: 4s - loss: 0.2674 - accuracy: 0.89 - ETA: 4s - loss: 0.2699 - accuracy: 0.89 - ETA: 4s - loss: 0.2579 - accuracy: 0.90 - ETA: 4s - loss: 0.2557 - accuracy: 0.90 - ETA: 4s - loss: 0.2552 - accuracy: 0.90 - ETA: 4s - loss: 0.2628 - accuracy: 0.90 - ETA: 4s - loss: 0.2673 - accuracy: 0.89 - ETA: 4s - loss: 0.2704 - accuracy: 0.89 - ETA: 4s - loss: 0.2695 - accuracy: 0.89 - ETA: 4s - loss: 0.2678 - accuracy: 0.89 - ETA: 4s - loss: 0.2695 - accuracy: 0.89 - ETA: 4s - loss: 0.2648 - accuracy: 0.89 - ETA: 4s - loss: 0.2631 - accuracy: 0.89 - ETA: 4s - loss: 0.2626 - accuracy: 0.89 - ETA: 4s - loss: 0.2612 - accuracy: 0.90 - ETA: 4s - loss: 0.2576 - accuracy: 0.90 - ETA: 4s - loss: 0.2599 - accuracy: 0.90 - ETA: 4s - loss: 0.2580 - accuracy: 0.90 - ETA: 4s - loss: 0.2568 - accuracy: 0.90 - ETA: 4s - loss: 0.2582 - accuracy: 0.90 - ETA: 3s - loss: 0.2576 - accuracy: 0.90 - ETA: 3s - loss: 0.2561 - accuracy: 0.90 - ETA: 3s - loss: 0.2555 - accuracy: 0.90 - ETA: 3s - loss: 0.2559 - accuracy: 0.90 - ETA: 3s - loss: 0.2560 - accuracy: 0.90 - ETA: 3s - loss: 0.2542 - accuracy: 0.90 - ETA: 3s - loss: 0.2550 - accuracy: 0.90 - ETA: 3s - loss: 0.2545 - accuracy: 0.90 - ETA: 3s - loss: 0.2549 - accuracy: 0.90 - ETA: 3s - loss: 0.2544 - accuracy: 0.90 - ETA: 3s - loss: 0.2538 - accuracy: 0.90 - ETA: 3s - loss: 0.2541 - accuracy: 0.90 - ETA: 3s - loss: 0.2533 - accuracy: 0.90 - ETA: 3s - loss: 0.2525 - accuracy: 0.90 - ETA: 3s - loss: 0.2540 - accuracy: 0.90 - ETA: 3s - loss: 0.2545 - accuracy: 0.90 - ETA: 3s - loss: 0.2545 - accuracy: 0.90 - ETA: 3s - loss: 0.2543 - accuracy: 0.90 - ETA: 3s - loss: 0.2555 - accuracy: 0.90 - ETA: 2s - loss: 0.2557 - accuracy: 0.90 - ETA: 2s - loss: 0.2546 - accuracy: 0.90 - ETA: 2s - loss: 0.2553 - accuracy: 0.90 - ETA: 2s - loss: 0.2552 - accuracy: 0.90 - ETA: 2s - loss: 0.2541 - accuracy: 0.90 - ETA: 2s - loss: 0.2545 - accuracy: 0.90 - ETA: 2s - loss: 0.2539 - accuracy: 0.90 - ETA: 2s - loss: 0.2531 - accuracy: 0.90 - ETA: 2s - loss: 0.2521 - accuracy: 0.90 - ETA: 2s - loss: 0.2524 - accuracy: 0.90 - ETA: 2s - loss: 0.2521 - accuracy: 0.90 - ETA: 2s - loss: 0.2517 - accuracy: 0.90 - ETA: 2s - loss: 0.2517 - accuracy: 0.90 - ETA: 2s - loss: 0.2524 - accuracy: 0.90 - ETA: 2s - loss: 0.2533 - accuracy: 0.90 - ETA: 2s - loss: 0.2533 - accuracy: 0.90 - ETA: 2s - loss: 0.2532 - accuracy: 0.90 - ETA: 1s - loss: 0.2529 - accuracy: 0.90 - ETA: 1s - loss: 0.2529 - accuracy: 0.90 - ETA: 1s - loss: 0.2528 - accuracy: 0.90 - ETA: 1s - loss: 0.2530 - accuracy: 0.90 - ETA: 1s - loss: 0.2534 - accuracy: 0.90 - ETA: 1s - loss: 0.2529 - accuracy: 0.90 - ETA: 1s - loss: 0.2525 - accuracy: 0.90 - ETA: 1s - loss: 0.2524 - accuracy: 0.90 - ETA: 1s - loss: 0.2516 - accuracy: 0.90 - ETA: 1s - loss: 0.2516 - accuracy: 0.90 - ETA: 1s - loss: 0.2519 - accuracy: 0.90 - ETA: 1s - loss: 0.2521 - accuracy: 0.90 - ETA: 1s - loss: 0.2518 - accuracy: 0.90 - ETA: 1s - loss: 0.2520 - accuracy: 0.90 - ETA: 1s - loss: 0.2520 - accuracy: 0.90 - ETA: 1s - loss: 0.2519 - accuracy: 0.90 - ETA: 1s - loss: 0.2520 - accuracy: 0.90 - ETA: 0s - loss: 0.2513 - accuracy: 0.90 - ETA: 0s - loss: 0.2516 - accuracy: 0.90 - ETA: 0s - loss: 0.2515 - accuracy: 0.90 - ETA: 0s - loss: 0.2520 - accuracy: 0.90 - ETA: 0s - loss: 0.2524 - accuracy: 0.90 - ETA: 0s - loss: 0.2519 - accuracy: 0.90 - ETA: 0s - loss: 0.2519 - accuracy: 0.90 - ETA: 0s - loss: 0.2519 - accuracy: 0.90 - ETA: 0s - loss: 0.2521 - accuracy: 0.90 - ETA: 0s - loss: 0.2520 - accuracy: 0.90 - ETA: 0s - loss: 0.2518 - accuracy: 0.90 - ETA: 0s - loss: 0.2519 - accuracy: 0.90 - ETA: 0s - loss: 0.2516 - accuracy: 0.90 - ETA: 0s - loss: 0.2519 - accuracy: 0.90 - ETA: 0s - loss: 0.2520 - accuracy: 0.90 - ETA: 0s - loss: 0.2523 - accuracy: 0.90 - ETA: 0s - loss: 0.2520 - accuracy: 0.90 - ETA: 0s - loss: 0.2517 - accuracy: 0.90 - ETA: 0s - loss: 0.2515 - accuracy: 0.90 - ETA: 0s - loss: 0.2521 - accuracy: 0.90 - ETA: 0s - loss: 0.2522 - accuracy: 0.90 - 5s 85us/sample - loss: 0.2522 - accuracy: 0.9054 - val_loss: 0.3479 - val_accuracy: 0.8763\n",
      "Epoch 8/10\n"
     ]
    },
    {
     "name": "stdout",
     "output_type": "stream",
     "text": [
      "60000/60000 [==============================] - ETA: 5s - loss: 0.3028 - accuracy: 0.87 - ETA: 5s - loss: 0.2394 - accuracy: 0.89 - ETA: 4s - loss: 0.2212 - accuracy: 0.90 - ETA: 4s - loss: 0.2228 - accuracy: 0.91 - ETA: 4s - loss: 0.2283 - accuracy: 0.90 - ETA: 4s - loss: 0.2275 - accuracy: 0.91 - ETA: 4s - loss: 0.2252 - accuracy: 0.91 - ETA: 4s - loss: 0.2290 - accuracy: 0.91 - ETA: 4s - loss: 0.2320 - accuracy: 0.91 - ETA: 4s - loss: 0.2325 - accuracy: 0.90 - ETA: 4s - loss: 0.2347 - accuracy: 0.90 - ETA: 4s - loss: 0.2390 - accuracy: 0.90 - ETA: 4s - loss: 0.2414 - accuracy: 0.90 - ETA: 4s - loss: 0.2396 - accuracy: 0.90 - ETA: 4s - loss: 0.2385 - accuracy: 0.90 - ETA: 4s - loss: 0.2363 - accuracy: 0.91 - ETA: 4s - loss: 0.2377 - accuracy: 0.91 - ETA: 3s - loss: 0.2371 - accuracy: 0.91 - ETA: 3s - loss: 0.2375 - accuracy: 0.91 - ETA: 3s - loss: 0.2386 - accuracy: 0.91 - ETA: 3s - loss: 0.2373 - accuracy: 0.91 - ETA: 3s - loss: 0.2360 - accuracy: 0.91 - ETA: 3s - loss: 0.2355 - accuracy: 0.91 - ETA: 3s - loss: 0.2352 - accuracy: 0.91 - ETA: 3s - loss: 0.2360 - accuracy: 0.91 - ETA: 3s - loss: 0.2372 - accuracy: 0.90 - ETA: 3s - loss: 0.2374 - accuracy: 0.90 - ETA: 3s - loss: 0.2378 - accuracy: 0.90 - ETA: 3s - loss: 0.2385 - accuracy: 0.90 - ETA: 3s - loss: 0.2398 - accuracy: 0.90 - ETA: 3s - loss: 0.2414 - accuracy: 0.90 - ETA: 3s - loss: 0.2415 - accuracy: 0.90 - ETA: 3s - loss: 0.2408 - accuracy: 0.90 - ETA: 3s - loss: 0.2419 - accuracy: 0.90 - ETA: 3s - loss: 0.2422 - accuracy: 0.90 - ETA: 3s - loss: 0.2417 - accuracy: 0.90 - ETA: 2s - loss: 0.2433 - accuracy: 0.90 - ETA: 2s - loss: 0.2438 - accuracy: 0.90 - ETA: 2s - loss: 0.2434 - accuracy: 0.90 - ETA: 2s - loss: 0.2446 - accuracy: 0.90 - ETA: 2s - loss: 0.2444 - accuracy: 0.90 - ETA: 2s - loss: 0.2440 - accuracy: 0.90 - ETA: 2s - loss: 0.2428 - accuracy: 0.90 - ETA: 2s - loss: 0.2428 - accuracy: 0.90 - ETA: 2s - loss: 0.2430 - accuracy: 0.90 - ETA: 2s - loss: 0.2427 - accuracy: 0.90 - ETA: 2s - loss: 0.2431 - accuracy: 0.90 - ETA: 2s - loss: 0.2431 - accuracy: 0.90 - ETA: 2s - loss: 0.2420 - accuracy: 0.90 - ETA: 2s - loss: 0.2415 - accuracy: 0.90 - ETA: 2s - loss: 0.2420 - accuracy: 0.90 - ETA: 2s - loss: 0.2419 - accuracy: 0.90 - ETA: 2s - loss: 0.2423 - accuracy: 0.90 - ETA: 2s - loss: 0.2421 - accuracy: 0.90 - ETA: 2s - loss: 0.2417 - accuracy: 0.90 - ETA: 1s - loss: 0.2423 - accuracy: 0.90 - ETA: 1s - loss: 0.2416 - accuracy: 0.90 - ETA: 1s - loss: 0.2418 - accuracy: 0.90 - ETA: 1s - loss: 0.2409 - accuracy: 0.90 - ETA: 1s - loss: 0.2409 - accuracy: 0.90 - ETA: 1s - loss: 0.2414 - accuracy: 0.90 - ETA: 1s - loss: 0.2412 - accuracy: 0.90 - ETA: 1s - loss: 0.2408 - accuracy: 0.90 - ETA: 1s - loss: 0.2413 - accuracy: 0.90 - ETA: 1s - loss: 0.2409 - accuracy: 0.90 - ETA: 1s - loss: 0.2410 - accuracy: 0.90 - ETA: 1s - loss: 0.2413 - accuracy: 0.90 - ETA: 1s - loss: 0.2416 - accuracy: 0.90 - ETA: 1s - loss: 0.2418 - accuracy: 0.90 - ETA: 1s - loss: 0.2421 - accuracy: 0.90 - ETA: 1s - loss: 0.2421 - accuracy: 0.90 - ETA: 1s - loss: 0.2424 - accuracy: 0.90 - ETA: 1s - loss: 0.2422 - accuracy: 0.90 - ETA: 1s - loss: 0.2428 - accuracy: 0.90 - ETA: 1s - loss: 0.2431 - accuracy: 0.90 - ETA: 1s - loss: 0.2429 - accuracy: 0.90 - ETA: 1s - loss: 0.2420 - accuracy: 0.90 - ETA: 0s - loss: 0.2418 - accuracy: 0.90 - ETA: 0s - loss: 0.2419 - accuracy: 0.90 - ETA: 0s - loss: 0.2415 - accuracy: 0.90 - ETA: 0s - loss: 0.2416 - accuracy: 0.90 - ETA: 0s - loss: 0.2417 - accuracy: 0.90 - ETA: 0s - loss: 0.2417 - accuracy: 0.90 - ETA: 0s - loss: 0.2416 - accuracy: 0.90 - ETA: 0s - loss: 0.2415 - accuracy: 0.90 - ETA: 0s - loss: 0.2415 - accuracy: 0.90 - ETA: 0s - loss: 0.2420 - accuracy: 0.90 - ETA: 0s - loss: 0.2424 - accuracy: 0.90 - ETA: 0s - loss: 0.2420 - accuracy: 0.90 - ETA: 0s - loss: 0.2421 - accuracy: 0.90 - ETA: 0s - loss: 0.2420 - accuracy: 0.90 - ETA: 0s - loss: 0.2417 - accuracy: 0.90 - ETA: 0s - loss: 0.2415 - accuracy: 0.90 - ETA: 0s - loss: 0.2415 - accuracy: 0.90 - ETA: 0s - loss: 0.2416 - accuracy: 0.90 - ETA: 0s - loss: 0.2416 - accuracy: 0.90 - ETA: 0s - loss: 0.2417 - accuracy: 0.90 - ETA: 0s - loss: 0.2419 - accuracy: 0.90 - 5s 89us/sample - loss: 0.2422 - accuracy: 0.9092 - val_loss: 0.3292 - val_accuracy: 0.8851\n",
      "Epoch 9/10\n"
     ]
    },
    {
     "name": "stdout",
     "output_type": "stream",
     "text": [
      "60000/60000 [==============================] - ETA: 7s - loss: 0.0810 - accuracy: 0.96 - ETA: 5s - loss: 0.2229 - accuracy: 0.92 - ETA: 4s - loss: 0.2301 - accuracy: 0.91 - ETA: 4s - loss: 0.2333 - accuracy: 0.91 - ETA: 4s - loss: 0.2347 - accuracy: 0.91 - ETA: 4s - loss: 0.2358 - accuracy: 0.91 - ETA: 4s - loss: 0.2389 - accuracy: 0.91 - ETA: 4s - loss: 0.2382 - accuracy: 0.91 - ETA: 4s - loss: 0.2341 - accuracy: 0.91 - ETA: 4s - loss: 0.2395 - accuracy: 0.91 - ETA: 4s - loss: 0.2356 - accuracy: 0.91 - ETA: 4s - loss: 0.2343 - accuracy: 0.91 - ETA: 4s - loss: 0.2342 - accuracy: 0.91 - ETA: 4s - loss: 0.2334 - accuracy: 0.91 - ETA: 4s - loss: 0.2327 - accuracy: 0.91 - ETA: 4s - loss: 0.2357 - accuracy: 0.91 - ETA: 4s - loss: 0.2330 - accuracy: 0.91 - ETA: 3s - loss: 0.2332 - accuracy: 0.91 - ETA: 3s - loss: 0.2318 - accuracy: 0.91 - ETA: 3s - loss: 0.2317 - accuracy: 0.91 - ETA: 3s - loss: 0.2315 - accuracy: 0.91 - ETA: 3s - loss: 0.2312 - accuracy: 0.91 - ETA: 3s - loss: 0.2296 - accuracy: 0.91 - ETA: 3s - loss: 0.2294 - accuracy: 0.91 - ETA: 3s - loss: 0.2282 - accuracy: 0.91 - ETA: 3s - loss: 0.2302 - accuracy: 0.91 - ETA: 3s - loss: 0.2303 - accuracy: 0.91 - ETA: 3s - loss: 0.2301 - accuracy: 0.91 - ETA: 3s - loss: 0.2295 - accuracy: 0.91 - ETA: 3s - loss: 0.2300 - accuracy: 0.91 - ETA: 3s - loss: 0.2289 - accuracy: 0.91 - ETA: 3s - loss: 0.2304 - accuracy: 0.91 - ETA: 3s - loss: 0.2312 - accuracy: 0.91 - ETA: 3s - loss: 0.2313 - accuracy: 0.91 - ETA: 3s - loss: 0.2306 - accuracy: 0.91 - ETA: 3s - loss: 0.2302 - accuracy: 0.91 - ETA: 3s - loss: 0.2299 - accuracy: 0.91 - ETA: 3s - loss: 0.2297 - accuracy: 0.91 - ETA: 3s - loss: 0.2302 - accuracy: 0.91 - ETA: 3s - loss: 0.2312 - accuracy: 0.91 - ETA: 3s - loss: 0.2313 - accuracy: 0.91 - ETA: 3s - loss: 0.2308 - accuracy: 0.91 - ETA: 3s - loss: 0.2309 - accuracy: 0.91 - ETA: 2s - loss: 0.2310 - accuracy: 0.91 - ETA: 2s - loss: 0.2312 - accuracy: 0.91 - ETA: 2s - loss: 0.2306 - accuracy: 0.91 - ETA: 2s - loss: 0.2305 - accuracy: 0.91 - ETA: 2s - loss: 0.2311 - accuracy: 0.91 - ETA: 2s - loss: 0.2322 - accuracy: 0.91 - ETA: 2s - loss: 0.2321 - accuracy: 0.91 - ETA: 2s - loss: 0.2322 - accuracy: 0.91 - ETA: 2s - loss: 0.2321 - accuracy: 0.91 - ETA: 2s - loss: 0.2314 - accuracy: 0.91 - ETA: 2s - loss: 0.2318 - accuracy: 0.91 - ETA: 2s - loss: 0.2318 - accuracy: 0.91 - ETA: 2s - loss: 0.2323 - accuracy: 0.91 - ETA: 2s - loss: 0.2324 - accuracy: 0.91 - ETA: 2s - loss: 0.2322 - accuracy: 0.91 - ETA: 2s - loss: 0.2313 - accuracy: 0.91 - ETA: 2s - loss: 0.2311 - accuracy: 0.91 - ETA: 2s - loss: 0.2306 - accuracy: 0.91 - ETA: 2s - loss: 0.2307 - accuracy: 0.91 - ETA: 1s - loss: 0.2305 - accuracy: 0.91 - ETA: 1s - loss: 0.2305 - accuracy: 0.91 - ETA: 1s - loss: 0.2302 - accuracy: 0.91 - ETA: 1s - loss: 0.2307 - accuracy: 0.91 - ETA: 1s - loss: 0.2310 - accuracy: 0.91 - ETA: 1s - loss: 0.2309 - accuracy: 0.91 - ETA: 1s - loss: 0.2307 - accuracy: 0.91 - ETA: 1s - loss: 0.2306 - accuracy: 0.91 - ETA: 1s - loss: 0.2302 - accuracy: 0.91 - ETA: 1s - loss: 0.2303 - accuracy: 0.91 - ETA: 1s - loss: 0.2303 - accuracy: 0.91 - ETA: 1s - loss: 0.2303 - accuracy: 0.91 - ETA: 1s - loss: 0.2307 - accuracy: 0.91 - ETA: 1s - loss: 0.2310 - accuracy: 0.91 - ETA: 1s - loss: 0.2310 - accuracy: 0.91 - ETA: 1s - loss: 0.2307 - accuracy: 0.91 - ETA: 1s - loss: 0.2309 - accuracy: 0.91 - ETA: 1s - loss: 0.2308 - accuracy: 0.91 - ETA: 1s - loss: 0.2308 - accuracy: 0.91 - ETA: 0s - loss: 0.2307 - accuracy: 0.91 - ETA: 0s - loss: 0.2310 - accuracy: 0.91 - ETA: 0s - loss: 0.2314 - accuracy: 0.91 - ETA: 0s - loss: 0.2321 - accuracy: 0.91 - ETA: 0s - loss: 0.2319 - accuracy: 0.91 - ETA: 0s - loss: 0.2319 - accuracy: 0.91 - ETA: 0s - loss: 0.2320 - accuracy: 0.91 - ETA: 0s - loss: 0.2318 - accuracy: 0.91 - ETA: 0s - loss: 0.2319 - accuracy: 0.91 - ETA: 0s - loss: 0.2319 - accuracy: 0.91 - ETA: 0s - loss: 0.2320 - accuracy: 0.91 - ETA: 0s - loss: 0.2317 - accuracy: 0.91 - ETA: 0s - loss: 0.2321 - accuracy: 0.91 - ETA: 0s - loss: 0.2323 - accuracy: 0.91 - ETA: 0s - loss: 0.2324 - accuracy: 0.91 - ETA: 0s - loss: 0.2323 - accuracy: 0.91 - ETA: 0s - loss: 0.2324 - accuracy: 0.91 - ETA: 0s - loss: 0.2324 - accuracy: 0.91 - 5s 91us/sample - loss: 0.2319 - accuracy: 0.9126 - val_loss: 0.3459 - val_accuracy: 0.8830\n",
      "Epoch 10/10\n"
     ]
    },
    {
     "name": "stdout",
     "output_type": "stream",
     "text": [
      "60000/60000 [==============================] - ETA: 7s - loss: 0.1335 - accuracy: 0.96 - ETA: 4s - loss: 0.2010 - accuracy: 0.92 - ETA: 4s - loss: 0.2065 - accuracy: 0.92 - ETA: 4s - loss: 0.2023 - accuracy: 0.92 - ETA: 4s - loss: 0.2104 - accuracy: 0.91 - ETA: 4s - loss: 0.2118 - accuracy: 0.92 - ETA: 4s - loss: 0.2097 - accuracy: 0.92 - ETA: 4s - loss: 0.2075 - accuracy: 0.92 - ETA: 4s - loss: 0.2124 - accuracy: 0.92 - ETA: 4s - loss: 0.2150 - accuracy: 0.91 - ETA: 4s - loss: 0.2205 - accuracy: 0.91 - ETA: 4s - loss: 0.2223 - accuracy: 0.91 - ETA: 4s - loss: 0.2234 - accuracy: 0.91 - ETA: 4s - loss: 0.2220 - accuracy: 0.91 - ETA: 4s - loss: 0.2225 - accuracy: 0.91 - ETA: 4s - loss: 0.2205 - accuracy: 0.91 - ETA: 4s - loss: 0.2221 - accuracy: 0.91 - ETA: 4s - loss: 0.2191 - accuracy: 0.91 - ETA: 4s - loss: 0.2203 - accuracy: 0.91 - ETA: 4s - loss: 0.2219 - accuracy: 0.91 - ETA: 4s - loss: 0.2231 - accuracy: 0.91 - ETA: 4s - loss: 0.2217 - accuracy: 0.91 - ETA: 3s - loss: 0.2206 - accuracy: 0.91 - ETA: 3s - loss: 0.2196 - accuracy: 0.91 - ETA: 3s - loss: 0.2185 - accuracy: 0.91 - ETA: 3s - loss: 0.2186 - accuracy: 0.91 - ETA: 3s - loss: 0.2199 - accuracy: 0.91 - ETA: 3s - loss: 0.2197 - accuracy: 0.91 - ETA: 3s - loss: 0.2194 - accuracy: 0.91 - ETA: 3s - loss: 0.2180 - accuracy: 0.91 - ETA: 3s - loss: 0.2192 - accuracy: 0.91 - ETA: 3s - loss: 0.2200 - accuracy: 0.91 - ETA: 3s - loss: 0.2201 - accuracy: 0.91 - ETA: 3s - loss: 0.2205 - accuracy: 0.91 - ETA: 3s - loss: 0.2207 - accuracy: 0.91 - ETA: 3s - loss: 0.2199 - accuracy: 0.91 - ETA: 3s - loss: 0.2185 - accuracy: 0.91 - ETA: 3s - loss: 0.2200 - accuracy: 0.91 - ETA: 3s - loss: 0.2193 - accuracy: 0.91 - ETA: 3s - loss: 0.2205 - accuracy: 0.91 - ETA: 3s - loss: 0.2202 - accuracy: 0.91 - ETA: 3s - loss: 0.2197 - accuracy: 0.91 - ETA: 2s - loss: 0.2200 - accuracy: 0.91 - ETA: 2s - loss: 0.2200 - accuracy: 0.91 - ETA: 2s - loss: 0.2202 - accuracy: 0.91 - ETA: 2s - loss: 0.2206 - accuracy: 0.91 - ETA: 2s - loss: 0.2205 - accuracy: 0.91 - ETA: 2s - loss: 0.2213 - accuracy: 0.91 - ETA: 2s - loss: 0.2205 - accuracy: 0.91 - ETA: 2s - loss: 0.2220 - accuracy: 0.91 - ETA: 2s - loss: 0.2223 - accuracy: 0.91 - ETA: 2s - loss: 0.2224 - accuracy: 0.91 - ETA: 2s - loss: 0.2216 - accuracy: 0.91 - ETA: 2s - loss: 0.2213 - accuracy: 0.91 - ETA: 2s - loss: 0.2216 - accuracy: 0.91 - ETA: 2s - loss: 0.2212 - accuracy: 0.91 - ETA: 2s - loss: 0.2207 - accuracy: 0.91 - ETA: 2s - loss: 0.2206 - accuracy: 0.91 - ETA: 2s - loss: 0.2204 - accuracy: 0.91 - ETA: 2s - loss: 0.2201 - accuracy: 0.91 - ETA: 1s - loss: 0.2201 - accuracy: 0.91 - ETA: 1s - loss: 0.2205 - accuracy: 0.91 - ETA: 1s - loss: 0.2201 - accuracy: 0.91 - ETA: 1s - loss: 0.2199 - accuracy: 0.91 - ETA: 1s - loss: 0.2203 - accuracy: 0.91 - ETA: 1s - loss: 0.2190 - accuracy: 0.91 - ETA: 1s - loss: 0.2187 - accuracy: 0.91 - ETA: 1s - loss: 0.2189 - accuracy: 0.91 - ETA: 1s - loss: 0.2191 - accuracy: 0.91 - ETA: 1s - loss: 0.2185 - accuracy: 0.91 - ETA: 1s - loss: 0.2194 - accuracy: 0.91 - ETA: 1s - loss: 0.2196 - accuracy: 0.91 - ETA: 1s - loss: 0.2200 - accuracy: 0.91 - ETA: 1s - loss: 0.2198 - accuracy: 0.91 - ETA: 1s - loss: 0.2201 - accuracy: 0.91 - ETA: 1s - loss: 0.2197 - accuracy: 0.91 - ETA: 1s - loss: 0.2192 - accuracy: 0.91 - ETA: 1s - loss: 0.2198 - accuracy: 0.91 - ETA: 0s - loss: 0.2198 - accuracy: 0.91 - ETA: 0s - loss: 0.2196 - accuracy: 0.91 - ETA: 0s - loss: 0.2195 - accuracy: 0.91 - ETA: 0s - loss: 0.2198 - accuracy: 0.91 - ETA: 0s - loss: 0.2196 - accuracy: 0.91 - ETA: 0s - loss: 0.2197 - accuracy: 0.91 - ETA: 0s - loss: 0.2193 - accuracy: 0.91 - ETA: 0s - loss: 0.2193 - accuracy: 0.91 - ETA: 0s - loss: 0.2192 - accuracy: 0.91 - ETA: 0s - loss: 0.2191 - accuracy: 0.91 - ETA: 0s - loss: 0.2200 - accuracy: 0.91 - ETA: 0s - loss: 0.2206 - accuracy: 0.91 - ETA: 0s - loss: 0.2213 - accuracy: 0.91 - ETA: 0s - loss: 0.2211 - accuracy: 0.91 - ETA: 0s - loss: 0.2211 - accuracy: 0.91 - ETA: 0s - loss: 0.2213 - accuracy: 0.91 - ETA: 0s - loss: 0.2216 - accuracy: 0.91 - ETA: 0s - loss: 0.2216 - accuracy: 0.91 - ETA: 0s - loss: 0.2217 - accuracy: 0.91 - 5s 88us/sample - loss: 0.2219 - accuracy: 0.9172 - val_loss: 0.3301 - val_accuracy: 0.8878\n"
     ]
    },
    {
     "data": {
      "text/plain": [
       "<tensorflow.python.keras.callbacks.History at 0x1a47c652d0>"
      ]
     },
     "execution_count": 49,
     "metadata": {},
     "output_type": "execute_result"
    }
   ],
   "source": [
    "model = tuner.hypermodel.build(best_hps)\n",
    "model.fit(img_train, label_train, epochs=10, validation_data=(img_test, label_test))"
   ]
  },
  {
   "cell_type": "code",
   "execution_count": null,
   "metadata": {},
   "outputs": [],
   "source": []
  }
 ],
 "metadata": {
  "kernelspec": {
   "display_name": "Python 3",
   "language": "python",
   "name": "python3"
  },
  "language_info": {
   "codemirror_mode": {
    "name": "ipython",
    "version": 3
   },
   "file_extension": ".py",
   "mimetype": "text/x-python",
   "name": "python",
   "nbconvert_exporter": "python",
   "pygments_lexer": "ipython3",
   "version": "3.7.7"
  }
 },
 "nbformat": 4,
 "nbformat_minor": 2
}
